{
  "nbformat": 4,
  "nbformat_minor": 0,
  "metadata": {
    "colab": {
      "name": "Hackathon UELLO - previsão de entregas.ipynb",
      "provenance": [],
      "collapsed_sections": [
        "4zg6-KMtF-bJ",
        "aVIDwwDBZpED",
        "khMrJXDpZwKz",
        "DFwqhNL3m0O7",
        "Lpojcgha3hFu",
        "njl_NzJFMk9c",
        "TjOYYjmIFFXx",
        "vwl22WyGGynn"
      ],
      "include_colab_link": true
    },
    "kernelspec": {
      "name": "python3",
      "display_name": "Python 3"
    },
    "language_info": {
      "name": "python"
    }
  },
  "cells": [
    {
      "cell_type": "markdown",
      "metadata": {
        "id": "view-in-github",
        "colab_type": "text"
      },
      "source": [
        "<a href=\"https://colab.research.google.com/github/JeanAlmeida1/Previsao-atraso-entregas/blob/main/Hackathon_UELLO_previs%C3%A3o_de_entregas.ipynb\" target=\"_parent\"><img src=\"https://colab.research.google.com/assets/colab-badge.svg\" alt=\"Open In Colab\"/></a>"
      ]
    },
    {
      "cell_type": "markdown",
      "source": [
        "# SUPER CHALLENGE - DNC, powered by UELLO"
      ],
      "metadata": {
        "id": "cHalV6QEFNHg"
      }
    },
    {
      "cell_type": "markdown",
      "source": [
        "**DESAFIO:** Em prol de melhorar a experiência e fidelizar seus clientes a UELLO\n",
        "coletou em sua base de dados os pedidos já entregues e solicitou ao time de\n",
        "ciências de dados para construir um modelo que os auxiliem em entender os\n",
        "atrasos e criar uma hipótese para evitá-los no futuro. "
      ],
      "metadata": {
        "id": "WAJbQ09wRMue"
      }
    },
    {
      "cell_type": "markdown",
      "source": [
        "**ESTRATÉGIA:** Criar uma variável target binária que diz se a entrega atrasou ou não, e utilizar um algoritmo de classificação para prever esses atrasos. Como não se tem muitas variáveis, é de suma importância criar novas features para enriquecer o modelo. Entre elas, utilizar um algoritmo de clusterização para agrupar cidades com características semelhantes pode ser útil.\n",
        "\n",
        "\n"
      ],
      "metadata": {
        "id": "ynXGY5Mie-GF"
      }
    },
    {
      "cell_type": "markdown",
      "source": [
        "## Instalação e importação de pacotes "
      ],
      "metadata": {
        "id": "4zg6-KMtF-bJ"
      }
    },
    {
      "cell_type": "code",
      "source": [
        "!pip install scikit-learn-extra -q\n",
        "!pip install fuzzy-c-means -q"
      ],
      "metadata": {
        "id": "dPuaWgUPc9D_"
      },
      "execution_count": null,
      "outputs": []
    },
    {
      "cell_type": "code",
      "execution_count": null,
      "metadata": {
        "id": "grF2ISnJCH8g"
      },
      "outputs": [],
      "source": [
        "# Importando bibliotecas iniciais\n",
        "import pandas as pd\n",
        "import numpy as np \n",
        "import matplotlib.pyplot as plt\n",
        "import seaborn as sns\n",
        "sns.set_theme(style='darkgrid')\n",
        "import re\n",
        "%matplotlib inline\n",
        "\n",
        "# Importando algortmos de classificação\n",
        "from sklearn.linear_model import LogisticRegression\n",
        "from sklearn.tree import DecisionTreeClassifier\n",
        "from sklearn.ensemble import RandomForestClassifier\n",
        "from sklearn.neighbors import KNeighborsClassifier\n",
        "from xgboost import XGBClassifier\n",
        "from sklearn.neural_network import MLPClassifier\n",
        "\n",
        "# Importando algoritmos de clusterização\n",
        "from sklearn.cluster import KMeans, MeanShift, DBSCAN\n",
        "from sklearn.mixture import GaussianMixture\n",
        "from sklearn_extra.cluster import KMedoids\n",
        "from fcmeans import FCM\n",
        "\n",
        "# Importando ferramentas para dividir os dados\n",
        "from sklearn.model_selection import cross_val_score\n",
        "from sklearn.model_selection import train_test_split\n",
        "\n",
        "# Importando métricas\n",
        "from sklearn.metrics import accuracy_score, recall_score, f1_score, precision_score\n",
        "\n",
        "# Importando outros pacotes\n",
        "from sklearn.preprocessing import StandardScaler\n",
        "from yellowbrick.cluster import KElbowVisualizer\n",
        "from statsmodels.stats.outliers_influence import variance_inflation_factor\n",
        "from sklearn.model_selection import GridSearchCV\n",
        "import time\n",
        "import datetime \n",
        "from datetime import timedelta\n",
        "from matplotlib import pylab\n",
        "from scipy.spatial.distance import cdist, pdist\n",
        "from sklearn.metrics import silhouette_score"
      ]
    },
    {
      "cell_type": "markdown",
      "source": [
        "## Inspeção inicial"
      ],
      "metadata": {
        "id": "aVIDwwDBZpED"
      }
    },
    {
      "cell_type": "code",
      "source": [
        "df = pd.read_csv(\"ordens_case_dnc_.csv\")"
      ],
      "metadata": {
        "id": "T7LbBDMHCUQL"
      },
      "execution_count": null,
      "outputs": []
    },
    {
      "cell_type": "code",
      "source": [
        "display(df.head(3))\n",
        "print(\"shape: \", df.shape)"
      ],
      "metadata": {
        "colab": {
          "base_uri": "https://localhost:8080/",
          "height": 161
        },
        "id": "Dt-MVHJPCcz0",
        "outputId": "d7244ba6-27b2-440b-f44e-cc934cbbf96f"
      },
      "execution_count": null,
      "outputs": [
        {
          "output_type": "display_data",
          "data": {
            "text/plain": [
              "   id   price                 order_date             due_date  \\\n",
              "0   0  107.78  2022-02-25 20:46:25+00:00  2022-03-02 00:00:00   \n",
              "1   1    7.47  2022-02-23 20:34:59+00:00  2022-02-24 00:00:00   \n",
              "2   2    5.98  2022-02-23 20:35:19+00:00  2022-02-24 00:00:00   \n",
              "\n",
              "              opt_date        delivery_date  cidade_origem_id  \\\n",
              "0  2022-02-28 20:35:20  2022-03-02 18:03:33                 2   \n",
              "1  2022-02-24 09:56:23  2022-02-24 15:52:40                 2   \n",
              "2  2022-02-23 20:29:38  2022-02-24 22:55:38                 2   \n",
              "\n",
              "   regiao_origem_id  cidade_destino_id  regiao_destino_id   peso  \n",
              "0                 1                 25                  1   23.8  \n",
              "1                 1                 16                  4  536.0  \n",
              "2                 1                 88                  1  202.0  "
            ],
            "text/html": [
              "\n",
              "  <div id=\"df-7f1d26fc-d6ca-4b70-889f-7de2b231243b\">\n",
              "    <div class=\"colab-df-container\">\n",
              "      <div>\n",
              "<style scoped>\n",
              "    .dataframe tbody tr th:only-of-type {\n",
              "        vertical-align: middle;\n",
              "    }\n",
              "\n",
              "    .dataframe tbody tr th {\n",
              "        vertical-align: top;\n",
              "    }\n",
              "\n",
              "    .dataframe thead th {\n",
              "        text-align: right;\n",
              "    }\n",
              "</style>\n",
              "<table border=\"1\" class=\"dataframe\">\n",
              "  <thead>\n",
              "    <tr style=\"text-align: right;\">\n",
              "      <th></th>\n",
              "      <th>id</th>\n",
              "      <th>price</th>\n",
              "      <th>order_date</th>\n",
              "      <th>due_date</th>\n",
              "      <th>opt_date</th>\n",
              "      <th>delivery_date</th>\n",
              "      <th>cidade_origem_id</th>\n",
              "      <th>regiao_origem_id</th>\n",
              "      <th>cidade_destino_id</th>\n",
              "      <th>regiao_destino_id</th>\n",
              "      <th>peso</th>\n",
              "    </tr>\n",
              "  </thead>\n",
              "  <tbody>\n",
              "    <tr>\n",
              "      <th>0</th>\n",
              "      <td>0</td>\n",
              "      <td>107.78</td>\n",
              "      <td>2022-02-25 20:46:25+00:00</td>\n",
              "      <td>2022-03-02 00:00:00</td>\n",
              "      <td>2022-02-28 20:35:20</td>\n",
              "      <td>2022-03-02 18:03:33</td>\n",
              "      <td>2</td>\n",
              "      <td>1</td>\n",
              "      <td>25</td>\n",
              "      <td>1</td>\n",
              "      <td>23.8</td>\n",
              "    </tr>\n",
              "    <tr>\n",
              "      <th>1</th>\n",
              "      <td>1</td>\n",
              "      <td>7.47</td>\n",
              "      <td>2022-02-23 20:34:59+00:00</td>\n",
              "      <td>2022-02-24 00:00:00</td>\n",
              "      <td>2022-02-24 09:56:23</td>\n",
              "      <td>2022-02-24 15:52:40</td>\n",
              "      <td>2</td>\n",
              "      <td>1</td>\n",
              "      <td>16</td>\n",
              "      <td>4</td>\n",
              "      <td>536.0</td>\n",
              "    </tr>\n",
              "    <tr>\n",
              "      <th>2</th>\n",
              "      <td>2</td>\n",
              "      <td>5.98</td>\n",
              "      <td>2022-02-23 20:35:19+00:00</td>\n",
              "      <td>2022-02-24 00:00:00</td>\n",
              "      <td>2022-02-23 20:29:38</td>\n",
              "      <td>2022-02-24 22:55:38</td>\n",
              "      <td>2</td>\n",
              "      <td>1</td>\n",
              "      <td>88</td>\n",
              "      <td>1</td>\n",
              "      <td>202.0</td>\n",
              "    </tr>\n",
              "  </tbody>\n",
              "</table>\n",
              "</div>\n",
              "      <button class=\"colab-df-convert\" onclick=\"convertToInteractive('df-7f1d26fc-d6ca-4b70-889f-7de2b231243b')\"\n",
              "              title=\"Convert this dataframe to an interactive table.\"\n",
              "              style=\"display:none;\">\n",
              "        \n",
              "  <svg xmlns=\"http://www.w3.org/2000/svg\" height=\"24px\"viewBox=\"0 0 24 24\"\n",
              "       width=\"24px\">\n",
              "    <path d=\"M0 0h24v24H0V0z\" fill=\"none\"/>\n",
              "    <path d=\"M18.56 5.44l.94 2.06.94-2.06 2.06-.94-2.06-.94-.94-2.06-.94 2.06-2.06.94zm-11 1L8.5 8.5l.94-2.06 2.06-.94-2.06-.94L8.5 2.5l-.94 2.06-2.06.94zm10 10l.94 2.06.94-2.06 2.06-.94-2.06-.94-.94-2.06-.94 2.06-2.06.94z\"/><path d=\"M17.41 7.96l-1.37-1.37c-.4-.4-.92-.59-1.43-.59-.52 0-1.04.2-1.43.59L10.3 9.45l-7.72 7.72c-.78.78-.78 2.05 0 2.83L4 21.41c.39.39.9.59 1.41.59.51 0 1.02-.2 1.41-.59l7.78-7.78 2.81-2.81c.8-.78.8-2.07 0-2.86zM5.41 20L4 18.59l7.72-7.72 1.47 1.35L5.41 20z\"/>\n",
              "  </svg>\n",
              "      </button>\n",
              "      \n",
              "  <style>\n",
              "    .colab-df-container {\n",
              "      display:flex;\n",
              "      flex-wrap:wrap;\n",
              "      gap: 12px;\n",
              "    }\n",
              "\n",
              "    .colab-df-convert {\n",
              "      background-color: #E8F0FE;\n",
              "      border: none;\n",
              "      border-radius: 50%;\n",
              "      cursor: pointer;\n",
              "      display: none;\n",
              "      fill: #1967D2;\n",
              "      height: 32px;\n",
              "      padding: 0 0 0 0;\n",
              "      width: 32px;\n",
              "    }\n",
              "\n",
              "    .colab-df-convert:hover {\n",
              "      background-color: #E2EBFA;\n",
              "      box-shadow: 0px 1px 2px rgba(60, 64, 67, 0.3), 0px 1px 3px 1px rgba(60, 64, 67, 0.15);\n",
              "      fill: #174EA6;\n",
              "    }\n",
              "\n",
              "    [theme=dark] .colab-df-convert {\n",
              "      background-color: #3B4455;\n",
              "      fill: #D2E3FC;\n",
              "    }\n",
              "\n",
              "    [theme=dark] .colab-df-convert:hover {\n",
              "      background-color: #434B5C;\n",
              "      box-shadow: 0px 1px 3px 1px rgba(0, 0, 0, 0.15);\n",
              "      filter: drop-shadow(0px 1px 2px rgba(0, 0, 0, 0.3));\n",
              "      fill: #FFFFFF;\n",
              "    }\n",
              "  </style>\n",
              "\n",
              "      <script>\n",
              "        const buttonEl =\n",
              "          document.querySelector('#df-7f1d26fc-d6ca-4b70-889f-7de2b231243b button.colab-df-convert');\n",
              "        buttonEl.style.display =\n",
              "          google.colab.kernel.accessAllowed ? 'block' : 'none';\n",
              "\n",
              "        async function convertToInteractive(key) {\n",
              "          const element = document.querySelector('#df-7f1d26fc-d6ca-4b70-889f-7de2b231243b');\n",
              "          const dataTable =\n",
              "            await google.colab.kernel.invokeFunction('convertToInteractive',\n",
              "                                                     [key], {});\n",
              "          if (!dataTable) return;\n",
              "\n",
              "          const docLinkHtml = 'Like what you see? Visit the ' +\n",
              "            '<a target=\"_blank\" href=https://colab.research.google.com/notebooks/data_table.ipynb>data table notebook</a>'\n",
              "            + ' to learn more about interactive tables.';\n",
              "          element.innerHTML = '';\n",
              "          dataTable['output_type'] = 'display_data';\n",
              "          await google.colab.output.renderOutput(dataTable, element);\n",
              "          const docLink = document.createElement('div');\n",
              "          docLink.innerHTML = docLinkHtml;\n",
              "          element.appendChild(docLink);\n",
              "        }\n",
              "      </script>\n",
              "    </div>\n",
              "  </div>\n",
              "  "
            ]
          },
          "metadata": {}
        },
        {
          "output_type": "stream",
          "name": "stdout",
          "text": [
            "shape:  (1795, 11)\n"
          ]
        }
      ]
    },
    {
      "cell_type": "code",
      "source": [
        "df.info()"
      ],
      "metadata": {
        "colab": {
          "base_uri": "https://localhost:8080/"
        },
        "id": "pT2Q1VUxCdLU",
        "outputId": "b4ad3424-5888-48f5-9f24-cc725e5a21de"
      },
      "execution_count": null,
      "outputs": [
        {
          "output_type": "stream",
          "name": "stdout",
          "text": [
            "<class 'pandas.core.frame.DataFrame'>\n",
            "RangeIndex: 1795 entries, 0 to 1794\n",
            "Data columns (total 11 columns):\n",
            " #   Column             Non-Null Count  Dtype  \n",
            "---  ------             --------------  -----  \n",
            " 0   id                 1795 non-null   int64  \n",
            " 1   price              1795 non-null   float64\n",
            " 2   order_date         1795 non-null   object \n",
            " 3   due_date           1795 non-null   object \n",
            " 4   opt_date           1795 non-null   object \n",
            " 5   delivery_date      1795 non-null   object \n",
            " 6   cidade_origem_id   1795 non-null   int64  \n",
            " 7   regiao_origem_id   1795 non-null   int64  \n",
            " 8   cidade_destino_id  1795 non-null   int64  \n",
            " 9   regiao_destino_id  1795 non-null   int64  \n",
            " 10  peso               1795 non-null   float64\n",
            "dtypes: float64(2), int64(5), object(4)\n",
            "memory usage: 154.4+ KB\n"
          ]
        }
      ]
    },
    {
      "cell_type": "markdown",
      "source": [
        "A base de dados não possui dados nulos; algumas datas estão sendo consideradas como tipo objeto. "
      ],
      "metadata": {
        "id": "xbW22R1jnSBL"
      }
    },
    {
      "cell_type": "code",
      "source": [
        "print(\"Quantidade de cidades origem: \", df['cidade_origem_id'].nunique())\n",
        "print(\"Quantidade de cidades destino: \", df['cidade_destino_id'].nunique())\n",
        "print(\"Quantidade de região origem: \", df['regiao_origem_id'].nunique())\n",
        "print(\"Quantidade de região destino: \", df['regiao_destino_id'].nunique())"
      ],
      "metadata": {
        "colab": {
          "base_uri": "https://localhost:8080/"
        },
        "id": "aM7pim1LBCw8",
        "outputId": "3a238c23-8819-488a-878e-e8aad8a11c3b"
      },
      "execution_count": null,
      "outputs": [
        {
          "output_type": "stream",
          "name": "stdout",
          "text": [
            "Quantidade de cidades origem:  5\n",
            "Quantidade de cidades destino:  124\n",
            "Quantidade de região origem:  3\n",
            "Quantidade de região destino:  3\n"
          ]
        }
      ]
    },
    {
      "cell_type": "code",
      "source": [
        "print(\"regiões de origem: \", df['regiao_origem_id'].unique())\n",
        "print(\"regiões de destino: \", df['regiao_destino_id'].unique())"
      ],
      "metadata": {
        "colab": {
          "base_uri": "https://localhost:8080/"
        },
        "id": "3tCEqt_OB2hs",
        "outputId": "b98b95fe-e67f-441a-b4e3-1fcde5cd371f"
      },
      "execution_count": null,
      "outputs": [
        {
          "output_type": "stream",
          "name": "stdout",
          "text": [
            "regiões de origem:  [1 2 3]\n",
            "regiões de destino:  [1 4 2]\n"
          ]
        }
      ]
    },
    {
      "cell_type": "code",
      "source": [
        "# quão normal é a região de origem ser diferente da região de destino?\n",
        "\n",
        "(df['regiao_origem_id'] != df['regiao_destino_id']).value_counts()"
      ],
      "metadata": {
        "colab": {
          "base_uri": "https://localhost:8080/"
        },
        "id": "-afcOaDyCJvo",
        "outputId": "64cce620-d370-48c5-eeba-c0b69941c277"
      },
      "execution_count": null,
      "outputs": [
        {
          "output_type": "execute_result",
          "data": {
            "text/plain": [
              "True     1231\n",
              "False     564\n",
              "dtype: int64"
            ]
          },
          "metadata": {},
          "execution_count": 12
        }
      ]
    },
    {
      "cell_type": "markdown",
      "source": [
        "A região é igual à região de destino somente 564 vezes, isto é, em cerca de 31,4% das entregas"
      ],
      "metadata": {
        "id": "ORWEvFVBCbZN"
      }
    },
    {
      "cell_type": "markdown",
      "source": [
        "## Transformação dos dados"
      ],
      "metadata": {
        "id": "khMrJXDpZwKz"
      }
    },
    {
      "cell_type": "code",
      "source": [
        "# Transformando order_date de forma que fique igual as outras datas \n",
        "df['order_date'] = df['order_date'].str.replace(r'\\+00:00$','')"
      ],
      "metadata": {
        "colab": {
          "base_uri": "https://localhost:8080/"
        },
        "id": "F4kCActYIRs6",
        "outputId": "1b027d63-67ac-4dda-a1af-6f1641de16e6"
      },
      "execution_count": null,
      "outputs": [
        {
          "output_type": "stream",
          "name": "stderr",
          "text": [
            "/usr/local/lib/python3.7/dist-packages/ipykernel_launcher.py:2: FutureWarning: The default value of regex will change from True to False in a future version.\n",
            "  \n"
          ]
        }
      ]
    },
    {
      "cell_type": "markdown",
      "source": [
        "Para criar a variável target de atraso, é necessário alterar \"due_date\", pois todos os seus horários são 00:00:00, diferentemente de \"delivery date\". Dessa forma, uma entrega agendada para dia 23/02 e que foi entregue dia 23/02 às 15:54 seria considerada atraso, o que não seria verdade. Um passo simples para evitar esse problema é simplesmente alterar os horários de \"due_date\" para 23:59:59.  "
      ],
      "metadata": {
        "id": "OH_kjK0Pnj0E"
      }
    },
    {
      "cell_type": "code",
      "source": [
        "# Alterando os horários de \"due_date\" para 23:59:59. \n",
        "df['due_date'] = df['due_date'].str.replace(r'\\d\\d:\\d\\d:\\d\\d$','23:59:59')"
      ],
      "metadata": {
        "colab": {
          "base_uri": "https://localhost:8080/"
        },
        "id": "RmQdP429IsGL",
        "outputId": "9b2ed03e-c674-4b5c-c4d6-e0e52403eeca"
      },
      "execution_count": null,
      "outputs": [
        {
          "output_type": "stream",
          "name": "stderr",
          "text": [
            "/usr/local/lib/python3.7/dist-packages/ipykernel_launcher.py:2: FutureWarning: The default value of regex will change from True to False in a future version.\n",
            "  \n"
          ]
        }
      ]
    },
    {
      "cell_type": "code",
      "source": [
        "df.head()"
      ],
      "metadata": {
        "colab": {
          "base_uri": "https://localhost:8080/",
          "height": 206
        },
        "id": "EyDLR8qxFZ7o",
        "outputId": "75fd2a5b-c425-4ae1-932f-ab34f3be36fe"
      },
      "execution_count": null,
      "outputs": [
        {
          "output_type": "execute_result",
          "data": {
            "text/plain": [
              "   id   price           order_date             due_date             opt_date  \\\n",
              "0   0  107.78  2022-02-25 20:46:25  2022-03-02 23:59:59  2022-02-28 20:35:20   \n",
              "1   1    7.47  2022-02-23 20:34:59  2022-02-24 23:59:59  2022-02-24 09:56:23   \n",
              "2   2    5.98  2022-02-23 20:35:19  2022-02-24 23:59:59  2022-02-23 20:29:38   \n",
              "3   3    5.98  2022-02-10 14:34:37  2022-02-17 23:59:59  2022-02-17 07:47:49   \n",
              "4   4    5.98  2022-02-23 20:35:05  2022-02-24 23:59:59  2022-02-23 20:28:40   \n",
              "\n",
              "         delivery_date  cidade_origem_id  regiao_origem_id  cidade_destino_id  \\\n",
              "0  2022-03-02 18:03:33                 2                 1                 25   \n",
              "1  2022-02-24 15:52:40                 2                 1                 16   \n",
              "2  2022-02-24 22:55:38                 2                 1                 88   \n",
              "3  2022-02-17 14:23:12                 2                 1                 21   \n",
              "4  2022-02-24 12:08:00                 2                 1                 25   \n",
              "\n",
              "   regiao_destino_id   peso  \n",
              "0                  1   23.8  \n",
              "1                  4  536.0  \n",
              "2                  1  202.0  \n",
              "3                  1  441.0  \n",
              "4                  1  316.0  "
            ],
            "text/html": [
              "\n",
              "  <div id=\"df-d8e51758-237a-40ad-a477-742a76a819aa\">\n",
              "    <div class=\"colab-df-container\">\n",
              "      <div>\n",
              "<style scoped>\n",
              "    .dataframe tbody tr th:only-of-type {\n",
              "        vertical-align: middle;\n",
              "    }\n",
              "\n",
              "    .dataframe tbody tr th {\n",
              "        vertical-align: top;\n",
              "    }\n",
              "\n",
              "    .dataframe thead th {\n",
              "        text-align: right;\n",
              "    }\n",
              "</style>\n",
              "<table border=\"1\" class=\"dataframe\">\n",
              "  <thead>\n",
              "    <tr style=\"text-align: right;\">\n",
              "      <th></th>\n",
              "      <th>id</th>\n",
              "      <th>price</th>\n",
              "      <th>order_date</th>\n",
              "      <th>due_date</th>\n",
              "      <th>opt_date</th>\n",
              "      <th>delivery_date</th>\n",
              "      <th>cidade_origem_id</th>\n",
              "      <th>regiao_origem_id</th>\n",
              "      <th>cidade_destino_id</th>\n",
              "      <th>regiao_destino_id</th>\n",
              "      <th>peso</th>\n",
              "    </tr>\n",
              "  </thead>\n",
              "  <tbody>\n",
              "    <tr>\n",
              "      <th>0</th>\n",
              "      <td>0</td>\n",
              "      <td>107.78</td>\n",
              "      <td>2022-02-25 20:46:25</td>\n",
              "      <td>2022-03-02 23:59:59</td>\n",
              "      <td>2022-02-28 20:35:20</td>\n",
              "      <td>2022-03-02 18:03:33</td>\n",
              "      <td>2</td>\n",
              "      <td>1</td>\n",
              "      <td>25</td>\n",
              "      <td>1</td>\n",
              "      <td>23.8</td>\n",
              "    </tr>\n",
              "    <tr>\n",
              "      <th>1</th>\n",
              "      <td>1</td>\n",
              "      <td>7.47</td>\n",
              "      <td>2022-02-23 20:34:59</td>\n",
              "      <td>2022-02-24 23:59:59</td>\n",
              "      <td>2022-02-24 09:56:23</td>\n",
              "      <td>2022-02-24 15:52:40</td>\n",
              "      <td>2</td>\n",
              "      <td>1</td>\n",
              "      <td>16</td>\n",
              "      <td>4</td>\n",
              "      <td>536.0</td>\n",
              "    </tr>\n",
              "    <tr>\n",
              "      <th>2</th>\n",
              "      <td>2</td>\n",
              "      <td>5.98</td>\n",
              "      <td>2022-02-23 20:35:19</td>\n",
              "      <td>2022-02-24 23:59:59</td>\n",
              "      <td>2022-02-23 20:29:38</td>\n",
              "      <td>2022-02-24 22:55:38</td>\n",
              "      <td>2</td>\n",
              "      <td>1</td>\n",
              "      <td>88</td>\n",
              "      <td>1</td>\n",
              "      <td>202.0</td>\n",
              "    </tr>\n",
              "    <tr>\n",
              "      <th>3</th>\n",
              "      <td>3</td>\n",
              "      <td>5.98</td>\n",
              "      <td>2022-02-10 14:34:37</td>\n",
              "      <td>2022-02-17 23:59:59</td>\n",
              "      <td>2022-02-17 07:47:49</td>\n",
              "      <td>2022-02-17 14:23:12</td>\n",
              "      <td>2</td>\n",
              "      <td>1</td>\n",
              "      <td>21</td>\n",
              "      <td>1</td>\n",
              "      <td>441.0</td>\n",
              "    </tr>\n",
              "    <tr>\n",
              "      <th>4</th>\n",
              "      <td>4</td>\n",
              "      <td>5.98</td>\n",
              "      <td>2022-02-23 20:35:05</td>\n",
              "      <td>2022-02-24 23:59:59</td>\n",
              "      <td>2022-02-23 20:28:40</td>\n",
              "      <td>2022-02-24 12:08:00</td>\n",
              "      <td>2</td>\n",
              "      <td>1</td>\n",
              "      <td>25</td>\n",
              "      <td>1</td>\n",
              "      <td>316.0</td>\n",
              "    </tr>\n",
              "  </tbody>\n",
              "</table>\n",
              "</div>\n",
              "      <button class=\"colab-df-convert\" onclick=\"convertToInteractive('df-d8e51758-237a-40ad-a477-742a76a819aa')\"\n",
              "              title=\"Convert this dataframe to an interactive table.\"\n",
              "              style=\"display:none;\">\n",
              "        \n",
              "  <svg xmlns=\"http://www.w3.org/2000/svg\" height=\"24px\"viewBox=\"0 0 24 24\"\n",
              "       width=\"24px\">\n",
              "    <path d=\"M0 0h24v24H0V0z\" fill=\"none\"/>\n",
              "    <path d=\"M18.56 5.44l.94 2.06.94-2.06 2.06-.94-2.06-.94-.94-2.06-.94 2.06-2.06.94zm-11 1L8.5 8.5l.94-2.06 2.06-.94-2.06-.94L8.5 2.5l-.94 2.06-2.06.94zm10 10l.94 2.06.94-2.06 2.06-.94-2.06-.94-.94-2.06-.94 2.06-2.06.94z\"/><path d=\"M17.41 7.96l-1.37-1.37c-.4-.4-.92-.59-1.43-.59-.52 0-1.04.2-1.43.59L10.3 9.45l-7.72 7.72c-.78.78-.78 2.05 0 2.83L4 21.41c.39.39.9.59 1.41.59.51 0 1.02-.2 1.41-.59l7.78-7.78 2.81-2.81c.8-.78.8-2.07 0-2.86zM5.41 20L4 18.59l7.72-7.72 1.47 1.35L5.41 20z\"/>\n",
              "  </svg>\n",
              "      </button>\n",
              "      \n",
              "  <style>\n",
              "    .colab-df-container {\n",
              "      display:flex;\n",
              "      flex-wrap:wrap;\n",
              "      gap: 12px;\n",
              "    }\n",
              "\n",
              "    .colab-df-convert {\n",
              "      background-color: #E8F0FE;\n",
              "      border: none;\n",
              "      border-radius: 50%;\n",
              "      cursor: pointer;\n",
              "      display: none;\n",
              "      fill: #1967D2;\n",
              "      height: 32px;\n",
              "      padding: 0 0 0 0;\n",
              "      width: 32px;\n",
              "    }\n",
              "\n",
              "    .colab-df-convert:hover {\n",
              "      background-color: #E2EBFA;\n",
              "      box-shadow: 0px 1px 2px rgba(60, 64, 67, 0.3), 0px 1px 3px 1px rgba(60, 64, 67, 0.15);\n",
              "      fill: #174EA6;\n",
              "    }\n",
              "\n",
              "    [theme=dark] .colab-df-convert {\n",
              "      background-color: #3B4455;\n",
              "      fill: #D2E3FC;\n",
              "    }\n",
              "\n",
              "    [theme=dark] .colab-df-convert:hover {\n",
              "      background-color: #434B5C;\n",
              "      box-shadow: 0px 1px 3px 1px rgba(0, 0, 0, 0.15);\n",
              "      filter: drop-shadow(0px 1px 2px rgba(0, 0, 0, 0.3));\n",
              "      fill: #FFFFFF;\n",
              "    }\n",
              "  </style>\n",
              "\n",
              "      <script>\n",
              "        const buttonEl =\n",
              "          document.querySelector('#df-d8e51758-237a-40ad-a477-742a76a819aa button.colab-df-convert');\n",
              "        buttonEl.style.display =\n",
              "          google.colab.kernel.accessAllowed ? 'block' : 'none';\n",
              "\n",
              "        async function convertToInteractive(key) {\n",
              "          const element = document.querySelector('#df-d8e51758-237a-40ad-a477-742a76a819aa');\n",
              "          const dataTable =\n",
              "            await google.colab.kernel.invokeFunction('convertToInteractive',\n",
              "                                                     [key], {});\n",
              "          if (!dataTable) return;\n",
              "\n",
              "          const docLinkHtml = 'Like what you see? Visit the ' +\n",
              "            '<a target=\"_blank\" href=https://colab.research.google.com/notebooks/data_table.ipynb>data table notebook</a>'\n",
              "            + ' to learn more about interactive tables.';\n",
              "          element.innerHTML = '';\n",
              "          dataTable['output_type'] = 'display_data';\n",
              "          await google.colab.output.renderOutput(dataTable, element);\n",
              "          const docLink = document.createElement('div');\n",
              "          docLink.innerHTML = docLinkHtml;\n",
              "          element.appendChild(docLink);\n",
              "        }\n",
              "      </script>\n",
              "    </div>\n",
              "  </div>\n",
              "  "
            ]
          },
          "metadata": {},
          "execution_count": 15
        }
      ]
    },
    {
      "cell_type": "code",
      "source": [
        "# Transformando as colunas de datas para o formato datetime\n",
        "datas = ['order_date', 'due_date', 'opt_date', 'delivery_date']\n",
        "for col in datas: \n",
        "  df[col] = pd.to_datetime(df[col])"
      ],
      "metadata": {
        "id": "GxyREpGlFQLj"
      },
      "execution_count": null,
      "outputs": []
    },
    {
      "cell_type": "code",
      "source": [
        "df.dtypes"
      ],
      "metadata": {
        "colab": {
          "base_uri": "https://localhost:8080/"
        },
        "id": "1s-q9jJzFVqJ",
        "outputId": "4d3cb0bf-fcf5-45d5-dcb5-e4107ce91a3a"
      },
      "execution_count": null,
      "outputs": [
        {
          "output_type": "execute_result",
          "data": {
            "text/plain": [
              "id                            int64\n",
              "price                       float64\n",
              "order_date           datetime64[ns]\n",
              "due_date             datetime64[ns]\n",
              "opt_date             datetime64[ns]\n",
              "delivery_date        datetime64[ns]\n",
              "cidade_origem_id              int64\n",
              "regiao_origem_id              int64\n",
              "cidade_destino_id             int64\n",
              "regiao_destino_id             int64\n",
              "peso                        float64\n",
              "dtype: object"
            ]
          },
          "metadata": {},
          "execution_count": 17
        }
      ]
    },
    {
      "cell_type": "code",
      "source": [
        "# Criando coluna tempo de entrega \n",
        "df['delivery_time'] = df['delivery_date'] - df['order_date']\n",
        "df['delivery_time'].head()"
      ],
      "metadata": {
        "colab": {
          "base_uri": "https://localhost:8080/"
        },
        "id": "bUD-Cm49IDaz",
        "outputId": "cd9afa8e-538e-43a8-db66-83535f67cf4f"
      },
      "execution_count": null,
      "outputs": [
        {
          "output_type": "execute_result",
          "data": {
            "text/plain": [
              "0   4 days 21:17:08\n",
              "1   0 days 19:17:41\n",
              "2   1 days 02:20:19\n",
              "3   6 days 23:48:35\n",
              "4   0 days 15:32:55\n",
              "Name: delivery_time, dtype: timedelta64[ns]"
            ]
          },
          "metadata": {},
          "execution_count": 18
        }
      ]
    },
    {
      "cell_type": "code",
      "source": [
        "df.sort_values(by='delivery_time', ascending=True)"
      ],
      "metadata": {
        "colab": {
          "base_uri": "https://localhost:8080/",
          "height": 468
        },
        "id": "yRbN6YnJHn-v",
        "outputId": "5e8b4d22-ccdd-459c-ded5-307d2717b21d"
      },
      "execution_count": null,
      "outputs": [
        {
          "output_type": "execute_result",
          "data": {
            "text/plain": [
              "        id  price          order_date            due_date            opt_date  \\\n",
              "1222  1222   5.98 2022-02-17 20:21:09 2022-02-21 23:59:59 2022-02-17 21:02:06   \n",
              "451    451   5.49 2022-02-15 20:36:09 2022-02-17 23:59:59 2022-02-15 20:56:10   \n",
              "607    607   5.98 2022-02-23 20:17:22 2022-02-25 23:59:59 2022-02-23 21:16:25   \n",
              "678    678   7.04 2022-02-15 20:36:07 2022-02-17 23:59:59 2022-02-15 20:29:00   \n",
              "620    620   7.15 2022-02-23 20:17:00 2022-02-25 23:59:59 2022-02-23 21:15:00   \n",
              "...    ...    ...                 ...                 ...                 ...   \n",
              "1364  1364   7.34 2022-02-18 12:44:05 2022-02-21 23:59:59 2022-02-23 22:07:31   \n",
              "72      72   6.75 2022-02-18 17:06:40 2022-03-04 23:59:59 2022-02-21 21:08:29   \n",
              "1548  1548   7.42 2022-02-18 11:14:22 2022-03-01 23:59:59 2022-03-03 10:21:19   \n",
              "9        9   7.42 2022-02-11 13:15:49 2022-02-24 23:59:59 2022-02-19 08:26:43   \n",
              "1250  1250  28.55 2022-02-25 16:01:14 2022-02-28 23:59:59 2022-02-28 08:56:51   \n",
              "\n",
              "           delivery_date  cidade_origem_id  regiao_origem_id  \\\n",
              "1222 2022-02-18 08:07:24                 4                 2   \n",
              "451  2022-02-16 08:50:41                 4                 2   \n",
              "607  2022-02-24 08:32:46                 4                 2   \n",
              "678  2022-02-16 09:10:47                 4                 2   \n",
              "620  2022-02-24 08:55:02                 4                 2   \n",
              "...                  ...               ...               ...   \n",
              "1364 2022-03-09 16:15:06                 2                 1   \n",
              "72   2022-03-10 13:50:46                 1                 1   \n",
              "1548 2022-03-10 08:29:17                 5                 3   \n",
              "9    2022-03-04 20:08:34                 2                 1   \n",
              "1250 2022-03-31 14:12:38                 2                 1   \n",
              "\n",
              "      cidade_destino_id  regiao_destino_id    peso    delivery_time  \n",
              "1222                  3                  1    0.43  0 days 11:46:15  \n",
              "451                  20                  1  285.00  0 days 12:14:32  \n",
              "607                  29                  1  458.00  0 days 12:15:24  \n",
              "678                  45                  1  398.00  0 days 12:34:40  \n",
              "620                  29                  1  819.00  0 days 12:38:02  \n",
              "...                 ...                ...     ...              ...  \n",
              "1364                 59                  1    0.00 19 days 03:31:01  \n",
              "72                    6                  1    0.50 19 days 20:44:06  \n",
              "1548                108                  2    0.18 19 days 21:14:55  \n",
              "9                    93                  2  525.00 21 days 06:52:45  \n",
              "1250                  1                  1    5.80 33 days 22:11:24  \n",
              "\n",
              "[1795 rows x 12 columns]"
            ],
            "text/html": [
              "\n",
              "  <div id=\"df-01cc8571-d599-4499-b1f2-bd3894bf2bb8\">\n",
              "    <div class=\"colab-df-container\">\n",
              "      <div>\n",
              "<style scoped>\n",
              "    .dataframe tbody tr th:only-of-type {\n",
              "        vertical-align: middle;\n",
              "    }\n",
              "\n",
              "    .dataframe tbody tr th {\n",
              "        vertical-align: top;\n",
              "    }\n",
              "\n",
              "    .dataframe thead th {\n",
              "        text-align: right;\n",
              "    }\n",
              "</style>\n",
              "<table border=\"1\" class=\"dataframe\">\n",
              "  <thead>\n",
              "    <tr style=\"text-align: right;\">\n",
              "      <th></th>\n",
              "      <th>id</th>\n",
              "      <th>price</th>\n",
              "      <th>order_date</th>\n",
              "      <th>due_date</th>\n",
              "      <th>opt_date</th>\n",
              "      <th>delivery_date</th>\n",
              "      <th>cidade_origem_id</th>\n",
              "      <th>regiao_origem_id</th>\n",
              "      <th>cidade_destino_id</th>\n",
              "      <th>regiao_destino_id</th>\n",
              "      <th>peso</th>\n",
              "      <th>delivery_time</th>\n",
              "    </tr>\n",
              "  </thead>\n",
              "  <tbody>\n",
              "    <tr>\n",
              "      <th>1222</th>\n",
              "      <td>1222</td>\n",
              "      <td>5.98</td>\n",
              "      <td>2022-02-17 20:21:09</td>\n",
              "      <td>2022-02-21 23:59:59</td>\n",
              "      <td>2022-02-17 21:02:06</td>\n",
              "      <td>2022-02-18 08:07:24</td>\n",
              "      <td>4</td>\n",
              "      <td>2</td>\n",
              "      <td>3</td>\n",
              "      <td>1</td>\n",
              "      <td>0.43</td>\n",
              "      <td>0 days 11:46:15</td>\n",
              "    </tr>\n",
              "    <tr>\n",
              "      <th>451</th>\n",
              "      <td>451</td>\n",
              "      <td>5.49</td>\n",
              "      <td>2022-02-15 20:36:09</td>\n",
              "      <td>2022-02-17 23:59:59</td>\n",
              "      <td>2022-02-15 20:56:10</td>\n",
              "      <td>2022-02-16 08:50:41</td>\n",
              "      <td>4</td>\n",
              "      <td>2</td>\n",
              "      <td>20</td>\n",
              "      <td>1</td>\n",
              "      <td>285.00</td>\n",
              "      <td>0 days 12:14:32</td>\n",
              "    </tr>\n",
              "    <tr>\n",
              "      <th>607</th>\n",
              "      <td>607</td>\n",
              "      <td>5.98</td>\n",
              "      <td>2022-02-23 20:17:22</td>\n",
              "      <td>2022-02-25 23:59:59</td>\n",
              "      <td>2022-02-23 21:16:25</td>\n",
              "      <td>2022-02-24 08:32:46</td>\n",
              "      <td>4</td>\n",
              "      <td>2</td>\n",
              "      <td>29</td>\n",
              "      <td>1</td>\n",
              "      <td>458.00</td>\n",
              "      <td>0 days 12:15:24</td>\n",
              "    </tr>\n",
              "    <tr>\n",
              "      <th>678</th>\n",
              "      <td>678</td>\n",
              "      <td>7.04</td>\n",
              "      <td>2022-02-15 20:36:07</td>\n",
              "      <td>2022-02-17 23:59:59</td>\n",
              "      <td>2022-02-15 20:29:00</td>\n",
              "      <td>2022-02-16 09:10:47</td>\n",
              "      <td>4</td>\n",
              "      <td>2</td>\n",
              "      <td>45</td>\n",
              "      <td>1</td>\n",
              "      <td>398.00</td>\n",
              "      <td>0 days 12:34:40</td>\n",
              "    </tr>\n",
              "    <tr>\n",
              "      <th>620</th>\n",
              "      <td>620</td>\n",
              "      <td>7.15</td>\n",
              "      <td>2022-02-23 20:17:00</td>\n",
              "      <td>2022-02-25 23:59:59</td>\n",
              "      <td>2022-02-23 21:15:00</td>\n",
              "      <td>2022-02-24 08:55:02</td>\n",
              "      <td>4</td>\n",
              "      <td>2</td>\n",
              "      <td>29</td>\n",
              "      <td>1</td>\n",
              "      <td>819.00</td>\n",
              "      <td>0 days 12:38:02</td>\n",
              "    </tr>\n",
              "    <tr>\n",
              "      <th>...</th>\n",
              "      <td>...</td>\n",
              "      <td>...</td>\n",
              "      <td>...</td>\n",
              "      <td>...</td>\n",
              "      <td>...</td>\n",
              "      <td>...</td>\n",
              "      <td>...</td>\n",
              "      <td>...</td>\n",
              "      <td>...</td>\n",
              "      <td>...</td>\n",
              "      <td>...</td>\n",
              "      <td>...</td>\n",
              "    </tr>\n",
              "    <tr>\n",
              "      <th>1364</th>\n",
              "      <td>1364</td>\n",
              "      <td>7.34</td>\n",
              "      <td>2022-02-18 12:44:05</td>\n",
              "      <td>2022-02-21 23:59:59</td>\n",
              "      <td>2022-02-23 22:07:31</td>\n",
              "      <td>2022-03-09 16:15:06</td>\n",
              "      <td>2</td>\n",
              "      <td>1</td>\n",
              "      <td>59</td>\n",
              "      <td>1</td>\n",
              "      <td>0.00</td>\n",
              "      <td>19 days 03:31:01</td>\n",
              "    </tr>\n",
              "    <tr>\n",
              "      <th>72</th>\n",
              "      <td>72</td>\n",
              "      <td>6.75</td>\n",
              "      <td>2022-02-18 17:06:40</td>\n",
              "      <td>2022-03-04 23:59:59</td>\n",
              "      <td>2022-02-21 21:08:29</td>\n",
              "      <td>2022-03-10 13:50:46</td>\n",
              "      <td>1</td>\n",
              "      <td>1</td>\n",
              "      <td>6</td>\n",
              "      <td>1</td>\n",
              "      <td>0.50</td>\n",
              "      <td>19 days 20:44:06</td>\n",
              "    </tr>\n",
              "    <tr>\n",
              "      <th>1548</th>\n",
              "      <td>1548</td>\n",
              "      <td>7.42</td>\n",
              "      <td>2022-02-18 11:14:22</td>\n",
              "      <td>2022-03-01 23:59:59</td>\n",
              "      <td>2022-03-03 10:21:19</td>\n",
              "      <td>2022-03-10 08:29:17</td>\n",
              "      <td>5</td>\n",
              "      <td>3</td>\n",
              "      <td>108</td>\n",
              "      <td>2</td>\n",
              "      <td>0.18</td>\n",
              "      <td>19 days 21:14:55</td>\n",
              "    </tr>\n",
              "    <tr>\n",
              "      <th>9</th>\n",
              "      <td>9</td>\n",
              "      <td>7.42</td>\n",
              "      <td>2022-02-11 13:15:49</td>\n",
              "      <td>2022-02-24 23:59:59</td>\n",
              "      <td>2022-02-19 08:26:43</td>\n",
              "      <td>2022-03-04 20:08:34</td>\n",
              "      <td>2</td>\n",
              "      <td>1</td>\n",
              "      <td>93</td>\n",
              "      <td>2</td>\n",
              "      <td>525.00</td>\n",
              "      <td>21 days 06:52:45</td>\n",
              "    </tr>\n",
              "    <tr>\n",
              "      <th>1250</th>\n",
              "      <td>1250</td>\n",
              "      <td>28.55</td>\n",
              "      <td>2022-02-25 16:01:14</td>\n",
              "      <td>2022-02-28 23:59:59</td>\n",
              "      <td>2022-02-28 08:56:51</td>\n",
              "      <td>2022-03-31 14:12:38</td>\n",
              "      <td>2</td>\n",
              "      <td>1</td>\n",
              "      <td>1</td>\n",
              "      <td>1</td>\n",
              "      <td>5.80</td>\n",
              "      <td>33 days 22:11:24</td>\n",
              "    </tr>\n",
              "  </tbody>\n",
              "</table>\n",
              "<p>1795 rows × 12 columns</p>\n",
              "</div>\n",
              "      <button class=\"colab-df-convert\" onclick=\"convertToInteractive('df-01cc8571-d599-4499-b1f2-bd3894bf2bb8')\"\n",
              "              title=\"Convert this dataframe to an interactive table.\"\n",
              "              style=\"display:none;\">\n",
              "        \n",
              "  <svg xmlns=\"http://www.w3.org/2000/svg\" height=\"24px\"viewBox=\"0 0 24 24\"\n",
              "       width=\"24px\">\n",
              "    <path d=\"M0 0h24v24H0V0z\" fill=\"none\"/>\n",
              "    <path d=\"M18.56 5.44l.94 2.06.94-2.06 2.06-.94-2.06-.94-.94-2.06-.94 2.06-2.06.94zm-11 1L8.5 8.5l.94-2.06 2.06-.94-2.06-.94L8.5 2.5l-.94 2.06-2.06.94zm10 10l.94 2.06.94-2.06 2.06-.94-2.06-.94-.94-2.06-.94 2.06-2.06.94z\"/><path d=\"M17.41 7.96l-1.37-1.37c-.4-.4-.92-.59-1.43-.59-.52 0-1.04.2-1.43.59L10.3 9.45l-7.72 7.72c-.78.78-.78 2.05 0 2.83L4 21.41c.39.39.9.59 1.41.59.51 0 1.02-.2 1.41-.59l7.78-7.78 2.81-2.81c.8-.78.8-2.07 0-2.86zM5.41 20L4 18.59l7.72-7.72 1.47 1.35L5.41 20z\"/>\n",
              "  </svg>\n",
              "      </button>\n",
              "      \n",
              "  <style>\n",
              "    .colab-df-container {\n",
              "      display:flex;\n",
              "      flex-wrap:wrap;\n",
              "      gap: 12px;\n",
              "    }\n",
              "\n",
              "    .colab-df-convert {\n",
              "      background-color: #E8F0FE;\n",
              "      border: none;\n",
              "      border-radius: 50%;\n",
              "      cursor: pointer;\n",
              "      display: none;\n",
              "      fill: #1967D2;\n",
              "      height: 32px;\n",
              "      padding: 0 0 0 0;\n",
              "      width: 32px;\n",
              "    }\n",
              "\n",
              "    .colab-df-convert:hover {\n",
              "      background-color: #E2EBFA;\n",
              "      box-shadow: 0px 1px 2px rgba(60, 64, 67, 0.3), 0px 1px 3px 1px rgba(60, 64, 67, 0.15);\n",
              "      fill: #174EA6;\n",
              "    }\n",
              "\n",
              "    [theme=dark] .colab-df-convert {\n",
              "      background-color: #3B4455;\n",
              "      fill: #D2E3FC;\n",
              "    }\n",
              "\n",
              "    [theme=dark] .colab-df-convert:hover {\n",
              "      background-color: #434B5C;\n",
              "      box-shadow: 0px 1px 3px 1px rgba(0, 0, 0, 0.15);\n",
              "      filter: drop-shadow(0px 1px 2px rgba(0, 0, 0, 0.3));\n",
              "      fill: #FFFFFF;\n",
              "    }\n",
              "  </style>\n",
              "\n",
              "      <script>\n",
              "        const buttonEl =\n",
              "          document.querySelector('#df-01cc8571-d599-4499-b1f2-bd3894bf2bb8 button.colab-df-convert');\n",
              "        buttonEl.style.display =\n",
              "          google.colab.kernel.accessAllowed ? 'block' : 'none';\n",
              "\n",
              "        async function convertToInteractive(key) {\n",
              "          const element = document.querySelector('#df-01cc8571-d599-4499-b1f2-bd3894bf2bb8');\n",
              "          const dataTable =\n",
              "            await google.colab.kernel.invokeFunction('convertToInteractive',\n",
              "                                                     [key], {});\n",
              "          if (!dataTable) return;\n",
              "\n",
              "          const docLinkHtml = 'Like what you see? Visit the ' +\n",
              "            '<a target=\"_blank\" href=https://colab.research.google.com/notebooks/data_table.ipynb>data table notebook</a>'\n",
              "            + ' to learn more about interactive tables.';\n",
              "          element.innerHTML = '';\n",
              "          dataTable['output_type'] = 'display_data';\n",
              "          await google.colab.output.renderOutput(dataTable, element);\n",
              "          const docLink = document.createElement('div');\n",
              "          docLink.innerHTML = docLinkHtml;\n",
              "          element.appendChild(docLink);\n",
              "        }\n",
              "      </script>\n",
              "    </div>\n",
              "  </div>\n",
              "  "
            ]
          },
          "metadata": {},
          "execution_count": 19
        }
      ]
    },
    {
      "cell_type": "code",
      "source": [
        "# Criando função que retorna 1 caso a entrega atrasou; 0 se foi entregue dentro do prazo estipulado (será a variável target)\n",
        "\n",
        "def delay_time(dfcol_data_prevista, dfcol_data_realizada):\n",
        "  delay = []\n",
        "  delay = np.where(dfcol_data_realizada > dfcol_data_prevista, 1, 0)\n",
        "  return delay"
      ],
      "metadata": {
        "id": "wBmauo9PO0nF"
      },
      "execution_count": null,
      "outputs": []
    },
    {
      "cell_type": "code",
      "source": [
        "delay_dummy = delay_time(df['due_date'], df['delivery_date'])"
      ],
      "metadata": {
        "id": "fXMVpNk8QH-i"
      },
      "execution_count": null,
      "outputs": []
    },
    {
      "cell_type": "code",
      "source": [
        "df['delay'] = delay_dummy"
      ],
      "metadata": {
        "id": "PF9H75TaQ6-A"
      },
      "execution_count": null,
      "outputs": []
    },
    {
      "cell_type": "code",
      "source": [
        "df.head(3)"
      ],
      "metadata": {
        "colab": {
          "base_uri": "https://localhost:8080/",
          "height": 187
        },
        "id": "70Ur7D8qEV_c",
        "outputId": "873aad80-550c-419f-83ee-1e41b838c39f"
      },
      "execution_count": null,
      "outputs": [
        {
          "output_type": "execute_result",
          "data": {
            "text/plain": [
              "   id   price          order_date            due_date            opt_date  \\\n",
              "0   0  107.78 2022-02-25 20:46:25 2022-03-02 23:59:59 2022-02-28 20:35:20   \n",
              "1   1    7.47 2022-02-23 20:34:59 2022-02-24 23:59:59 2022-02-24 09:56:23   \n",
              "2   2    5.98 2022-02-23 20:35:19 2022-02-24 23:59:59 2022-02-23 20:29:38   \n",
              "\n",
              "        delivery_date  cidade_origem_id  regiao_origem_id  cidade_destino_id  \\\n",
              "0 2022-03-02 18:03:33                 2                 1                 25   \n",
              "1 2022-02-24 15:52:40                 2                 1                 16   \n",
              "2 2022-02-24 22:55:38                 2                 1                 88   \n",
              "\n",
              "   regiao_destino_id   peso   delivery_time  delay  \n",
              "0                  1   23.8 4 days 21:17:08      0  \n",
              "1                  4  536.0 0 days 19:17:41      0  \n",
              "2                  1  202.0 1 days 02:20:19      0  "
            ],
            "text/html": [
              "\n",
              "  <div id=\"df-c25cd772-93d5-413b-8c04-ba3217d404b6\">\n",
              "    <div class=\"colab-df-container\">\n",
              "      <div>\n",
              "<style scoped>\n",
              "    .dataframe tbody tr th:only-of-type {\n",
              "        vertical-align: middle;\n",
              "    }\n",
              "\n",
              "    .dataframe tbody tr th {\n",
              "        vertical-align: top;\n",
              "    }\n",
              "\n",
              "    .dataframe thead th {\n",
              "        text-align: right;\n",
              "    }\n",
              "</style>\n",
              "<table border=\"1\" class=\"dataframe\">\n",
              "  <thead>\n",
              "    <tr style=\"text-align: right;\">\n",
              "      <th></th>\n",
              "      <th>id</th>\n",
              "      <th>price</th>\n",
              "      <th>order_date</th>\n",
              "      <th>due_date</th>\n",
              "      <th>opt_date</th>\n",
              "      <th>delivery_date</th>\n",
              "      <th>cidade_origem_id</th>\n",
              "      <th>regiao_origem_id</th>\n",
              "      <th>cidade_destino_id</th>\n",
              "      <th>regiao_destino_id</th>\n",
              "      <th>peso</th>\n",
              "      <th>delivery_time</th>\n",
              "      <th>delay</th>\n",
              "    </tr>\n",
              "  </thead>\n",
              "  <tbody>\n",
              "    <tr>\n",
              "      <th>0</th>\n",
              "      <td>0</td>\n",
              "      <td>107.78</td>\n",
              "      <td>2022-02-25 20:46:25</td>\n",
              "      <td>2022-03-02 23:59:59</td>\n",
              "      <td>2022-02-28 20:35:20</td>\n",
              "      <td>2022-03-02 18:03:33</td>\n",
              "      <td>2</td>\n",
              "      <td>1</td>\n",
              "      <td>25</td>\n",
              "      <td>1</td>\n",
              "      <td>23.8</td>\n",
              "      <td>4 days 21:17:08</td>\n",
              "      <td>0</td>\n",
              "    </tr>\n",
              "    <tr>\n",
              "      <th>1</th>\n",
              "      <td>1</td>\n",
              "      <td>7.47</td>\n",
              "      <td>2022-02-23 20:34:59</td>\n",
              "      <td>2022-02-24 23:59:59</td>\n",
              "      <td>2022-02-24 09:56:23</td>\n",
              "      <td>2022-02-24 15:52:40</td>\n",
              "      <td>2</td>\n",
              "      <td>1</td>\n",
              "      <td>16</td>\n",
              "      <td>4</td>\n",
              "      <td>536.0</td>\n",
              "      <td>0 days 19:17:41</td>\n",
              "      <td>0</td>\n",
              "    </tr>\n",
              "    <tr>\n",
              "      <th>2</th>\n",
              "      <td>2</td>\n",
              "      <td>5.98</td>\n",
              "      <td>2022-02-23 20:35:19</td>\n",
              "      <td>2022-02-24 23:59:59</td>\n",
              "      <td>2022-02-23 20:29:38</td>\n",
              "      <td>2022-02-24 22:55:38</td>\n",
              "      <td>2</td>\n",
              "      <td>1</td>\n",
              "      <td>88</td>\n",
              "      <td>1</td>\n",
              "      <td>202.0</td>\n",
              "      <td>1 days 02:20:19</td>\n",
              "      <td>0</td>\n",
              "    </tr>\n",
              "  </tbody>\n",
              "</table>\n",
              "</div>\n",
              "      <button class=\"colab-df-convert\" onclick=\"convertToInteractive('df-c25cd772-93d5-413b-8c04-ba3217d404b6')\"\n",
              "              title=\"Convert this dataframe to an interactive table.\"\n",
              "              style=\"display:none;\">\n",
              "        \n",
              "  <svg xmlns=\"http://www.w3.org/2000/svg\" height=\"24px\"viewBox=\"0 0 24 24\"\n",
              "       width=\"24px\">\n",
              "    <path d=\"M0 0h24v24H0V0z\" fill=\"none\"/>\n",
              "    <path d=\"M18.56 5.44l.94 2.06.94-2.06 2.06-.94-2.06-.94-.94-2.06-.94 2.06-2.06.94zm-11 1L8.5 8.5l.94-2.06 2.06-.94-2.06-.94L8.5 2.5l-.94 2.06-2.06.94zm10 10l.94 2.06.94-2.06 2.06-.94-2.06-.94-.94-2.06-.94 2.06-2.06.94z\"/><path d=\"M17.41 7.96l-1.37-1.37c-.4-.4-.92-.59-1.43-.59-.52 0-1.04.2-1.43.59L10.3 9.45l-7.72 7.72c-.78.78-.78 2.05 0 2.83L4 21.41c.39.39.9.59 1.41.59.51 0 1.02-.2 1.41-.59l7.78-7.78 2.81-2.81c.8-.78.8-2.07 0-2.86zM5.41 20L4 18.59l7.72-7.72 1.47 1.35L5.41 20z\"/>\n",
              "  </svg>\n",
              "      </button>\n",
              "      \n",
              "  <style>\n",
              "    .colab-df-container {\n",
              "      display:flex;\n",
              "      flex-wrap:wrap;\n",
              "      gap: 12px;\n",
              "    }\n",
              "\n",
              "    .colab-df-convert {\n",
              "      background-color: #E8F0FE;\n",
              "      border: none;\n",
              "      border-radius: 50%;\n",
              "      cursor: pointer;\n",
              "      display: none;\n",
              "      fill: #1967D2;\n",
              "      height: 32px;\n",
              "      padding: 0 0 0 0;\n",
              "      width: 32px;\n",
              "    }\n",
              "\n",
              "    .colab-df-convert:hover {\n",
              "      background-color: #E2EBFA;\n",
              "      box-shadow: 0px 1px 2px rgba(60, 64, 67, 0.3), 0px 1px 3px 1px rgba(60, 64, 67, 0.15);\n",
              "      fill: #174EA6;\n",
              "    }\n",
              "\n",
              "    [theme=dark] .colab-df-convert {\n",
              "      background-color: #3B4455;\n",
              "      fill: #D2E3FC;\n",
              "    }\n",
              "\n",
              "    [theme=dark] .colab-df-convert:hover {\n",
              "      background-color: #434B5C;\n",
              "      box-shadow: 0px 1px 3px 1px rgba(0, 0, 0, 0.15);\n",
              "      filter: drop-shadow(0px 1px 2px rgba(0, 0, 0, 0.3));\n",
              "      fill: #FFFFFF;\n",
              "    }\n",
              "  </style>\n",
              "\n",
              "      <script>\n",
              "        const buttonEl =\n",
              "          document.querySelector('#df-c25cd772-93d5-413b-8c04-ba3217d404b6 button.colab-df-convert');\n",
              "        buttonEl.style.display =\n",
              "          google.colab.kernel.accessAllowed ? 'block' : 'none';\n",
              "\n",
              "        async function convertToInteractive(key) {\n",
              "          const element = document.querySelector('#df-c25cd772-93d5-413b-8c04-ba3217d404b6');\n",
              "          const dataTable =\n",
              "            await google.colab.kernel.invokeFunction('convertToInteractive',\n",
              "                                                     [key], {});\n",
              "          if (!dataTable) return;\n",
              "\n",
              "          const docLinkHtml = 'Like what you see? Visit the ' +\n",
              "            '<a target=\"_blank\" href=https://colab.research.google.com/notebooks/data_table.ipynb>data table notebook</a>'\n",
              "            + ' to learn more about interactive tables.';\n",
              "          element.innerHTML = '';\n",
              "          dataTable['output_type'] = 'display_data';\n",
              "          await google.colab.output.renderOutput(dataTable, element);\n",
              "          const docLink = document.createElement('div');\n",
              "          docLink.innerHTML = docLinkHtml;\n",
              "          element.appendChild(docLink);\n",
              "        }\n",
              "      </script>\n",
              "    </div>\n",
              "  </div>\n",
              "  "
            ]
          },
          "metadata": {},
          "execution_count": 23
        }
      ]
    },
    {
      "cell_type": "code",
      "source": [
        "df['delay'].value_counts(normalize=True)"
      ],
      "metadata": {
        "colab": {
          "base_uri": "https://localhost:8080/"
        },
        "id": "8ylvGciJKU0N",
        "outputId": "f9f8c65d-2847-4dbc-cdf8-c9acade505e5"
      },
      "execution_count": null,
      "outputs": [
        {
          "output_type": "execute_result",
          "data": {
            "text/plain": [
              "0    0.856825\n",
              "1    0.143175\n",
              "Name: delay, dtype: float64"
            ]
          },
          "metadata": {},
          "execution_count": 24
        }
      ]
    },
    {
      "cell_type": "code",
      "source": [
        "# Entregas atrasadas e no prazo \n",
        "fig = sns.barplot(x=df['delay'].unique(), y=df['delay'].value_counts())\n",
        "plt.title('Entregas', fontweight='bold', fontsize=20, pad=20)\n",
        "fig.set_xticklabels(['No prazo','Atrasadas']); \n",
        "plt.xlabel('Entregas por tipo', fontweight='bold')"
      ],
      "metadata": {
        "colab": {
          "base_uri": "https://localhost:8080/",
          "height": 340
        },
        "id": "N7fdm81aI-AA",
        "outputId": "08626ed7-ccaf-47e4-d819-11c5823457dc"
      },
      "execution_count": null,
      "outputs": [
        {
          "output_type": "execute_result",
          "data": {
            "text/plain": [
              "Text(0.5, 0, 'Entregas por tipo')"
            ]
          },
          "metadata": {},
          "execution_count": 27
        },
        {
          "output_type": "display_data",
          "data": {
            "text/plain": [
              "<Figure size 432x288 with 1 Axes>"
            ],
            "image/png": "[encoded data removed]"
          },
          "metadata": {
            "needs_background": "light"
          }
        }
      ]
    },
    {
      "cell_type": "markdown",
      "source": [
        "Cerca de 14,3% das entregas atrasaram."
      ],
      "metadata": {
        "id": "8fh5sM7Fhuzg"
      }
    },
    {
      "cell_type": "code",
      "source": [
        "# Atrasos por região de destino\n",
        "for regiao in df['regiao_destino_id'].unique():\n",
        "  print('Região', regiao)\n",
        "  print('Quantidade de Entregas: ', df[df['regiao_destino_id']==regiao].shape[0])\n",
        "  print('Porcentagem de atrasos: {0:.3f}%'.format(df[df['regiao_destino_id']==regiao]['delay'].value_counts(normalize=True)[1]))\n",
        "  print()"
      ],
      "metadata": {
        "colab": {
          "base_uri": "https://localhost:8080/"
        },
        "id": "xQv0Vf1sK23Q",
        "outputId": "67047e37-d7a7-4cc9-d9ca-4cd0345aebc7"
      },
      "execution_count": null,
      "outputs": [
        {
          "output_type": "stream",
          "name": "stdout",
          "text": [
            "Região 1\n",
            "Quantidade de Entregas:  1698\n",
            "Porcentagem de atrasos: 0.127%\n",
            "\n",
            "Região 4\n",
            "Quantidade de Entregas:  66\n",
            "Porcentagem de atrasos: 0.424%\n",
            "\n",
            "Região 2\n",
            "Quantidade de Entregas:  31\n",
            "Porcentagem de atrasos: 0.419%\n",
            "\n"
          ]
        }
      ]
    },
    {
      "cell_type": "code",
      "source": [
        "# Atrasos por região de origem\n",
        "for regiao in df['regiao_origem_id'].unique():\n",
        "  print('Região de origem', regiao)\n",
        "  print('Quantidade de Entregas que saíram dessa região: ', df[df['regiao_origem_id']==regiao].shape[0])\n",
        "  print('Porcentagem de atrasos de entregas que saíram dessa região: {0:.3f}%'.format(df[df['regiao_origem_id']==regiao]['delay'].value_counts(normalize=True)[1]))\n",
        "  print()"
      ],
      "metadata": {
        "colab": {
          "base_uri": "https://localhost:8080/"
        },
        "id": "DaZurzQfQh6g",
        "outputId": "ae33da9d-a827-407b-9507-e0a57531b369"
      },
      "execution_count": null,
      "outputs": [
        {
          "output_type": "stream",
          "name": "stdout",
          "text": [
            "Região de origem 1\n",
            "Quantidade de Entregas que saíram dessa região:  638\n",
            "Porcentagem de atrasos de entregas que saíram dessa região: 0.197%\n",
            "\n",
            "Região de origem 2\n",
            "Quantidade de Entregas que saíram dessa região:  896\n",
            "Porcentagem de atrasos de entregas que saíram dessa região: 0.066%\n",
            "\n",
            "Região de origem 3\n",
            "Quantidade de Entregas que saíram dessa região:  261\n",
            "Porcentagem de atrasos de entregas que saíram dessa região: 0.276%\n",
            "\n"
          ]
        }
      ]
    },
    {
      "cell_type": "code",
      "source": [
        "# Quantidade de entregas por cidade de destino\n",
        "cidade_delivery = pd.DataFrame(df['cidade_destino_id'].value_counts())\n",
        "cidade_delivery.rename(columns={'cidade_destino_id':'qtd_delivery_cidade'}, inplace=True)\n",
        "cidade_delivery.index.rename('cidade_destino_id', inplace=True)\n",
        "cidade_delivery.reset_index(inplace=True)\n",
        "cidade_delivery"
      ],
      "metadata": {
        "colab": {
          "base_uri": "https://localhost:8080/",
          "height": 424
        },
        "id": "z1dTICqSNOxD",
        "outputId": "ddfad8a9-28ef-4a59-bf9a-fd8e5542a48f"
      },
      "execution_count": null,
      "outputs": [
        {
          "output_type": "execute_result",
          "data": {
            "text/plain": [
              "     cidade_destino_id  qtd_delivery_cidade\n",
              "0                    2                  589\n",
              "1                   25                   85\n",
              "2                   16                   60\n",
              "3                   24                   59\n",
              "4                   18                   46\n",
              "..                 ...                  ...\n",
              "119                 82                    1\n",
              "120                105                    1\n",
              "121                121                    1\n",
              "122                116                    1\n",
              "123                 60                    1\n",
              "\n",
              "[124 rows x 2 columns]"
            ],
            "text/html": [
              "\n",
              "  <div id=\"df-b77a211c-0406-4cda-a349-7640a5ce0f3c\">\n",
              "    <div class=\"colab-df-container\">\n",
              "      <div>\n",
              "<style scoped>\n",
              "    .dataframe tbody tr th:only-of-type {\n",
              "        vertical-align: middle;\n",
              "    }\n",
              "\n",
              "    .dataframe tbody tr th {\n",
              "        vertical-align: top;\n",
              "    }\n",
              "\n",
              "    .dataframe thead th {\n",
              "        text-align: right;\n",
              "    }\n",
              "</style>\n",
              "<table border=\"1\" class=\"dataframe\">\n",
              "  <thead>\n",
              "    <tr style=\"text-align: right;\">\n",
              "      <th></th>\n",
              "      <th>cidade_destino_id</th>\n",
              "      <th>qtd_delivery_cidade</th>\n",
              "    </tr>\n",
              "  </thead>\n",
              "  <tbody>\n",
              "    <tr>\n",
              "      <th>0</th>\n",
              "      <td>2</td>\n",
              "      <td>589</td>\n",
              "    </tr>\n",
              "    <tr>\n",
              "      <th>1</th>\n",
              "      <td>25</td>\n",
              "      <td>85</td>\n",
              "    </tr>\n",
              "    <tr>\n",
              "      <th>2</th>\n",
              "      <td>16</td>\n",
              "      <td>60</td>\n",
              "    </tr>\n",
              "    <tr>\n",
              "      <th>3</th>\n",
              "      <td>24</td>\n",
              "      <td>59</td>\n",
              "    </tr>\n",
              "    <tr>\n",
              "      <th>4</th>\n",
              "      <td>18</td>\n",
              "      <td>46</td>\n",
              "    </tr>\n",
              "    <tr>\n",
              "      <th>...</th>\n",
              "      <td>...</td>\n",
              "      <td>...</td>\n",
              "    </tr>\n",
              "    <tr>\n",
              "      <th>119</th>\n",
              "      <td>82</td>\n",
              "      <td>1</td>\n",
              "    </tr>\n",
              "    <tr>\n",
              "      <th>120</th>\n",
              "      <td>105</td>\n",
              "      <td>1</td>\n",
              "    </tr>\n",
              "    <tr>\n",
              "      <th>121</th>\n",
              "      <td>121</td>\n",
              "      <td>1</td>\n",
              "    </tr>\n",
              "    <tr>\n",
              "      <th>122</th>\n",
              "      <td>116</td>\n",
              "      <td>1</td>\n",
              "    </tr>\n",
              "    <tr>\n",
              "      <th>123</th>\n",
              "      <td>60</td>\n",
              "      <td>1</td>\n",
              "    </tr>\n",
              "  </tbody>\n",
              "</table>\n",
              "<p>124 rows × 2 columns</p>\n",
              "</div>\n",
              "      <button class=\"colab-df-convert\" onclick=\"convertToInteractive('df-b77a211c-0406-4cda-a349-7640a5ce0f3c')\"\n",
              "              title=\"Convert this dataframe to an interactive table.\"\n",
              "              style=\"display:none;\">\n",
              "        \n",
              "  <svg xmlns=\"http://www.w3.org/2000/svg\" height=\"24px\"viewBox=\"0 0 24 24\"\n",
              "       width=\"24px\">\n",
              "    <path d=\"M0 0h24v24H0V0z\" fill=\"none\"/>\n",
              "    <path d=\"M18.56 5.44l.94 2.06.94-2.06 2.06-.94-2.06-.94-.94-2.06-.94 2.06-2.06.94zm-11 1L8.5 8.5l.94-2.06 2.06-.94-2.06-.94L8.5 2.5l-.94 2.06-2.06.94zm10 10l.94 2.06.94-2.06 2.06-.94-2.06-.94-.94-2.06-.94 2.06-2.06.94z\"/><path d=\"M17.41 7.96l-1.37-1.37c-.4-.4-.92-.59-1.43-.59-.52 0-1.04.2-1.43.59L10.3 9.45l-7.72 7.72c-.78.78-.78 2.05 0 2.83L4 21.41c.39.39.9.59 1.41.59.51 0 1.02-.2 1.41-.59l7.78-7.78 2.81-2.81c.8-.78.8-2.07 0-2.86zM5.41 20L4 18.59l7.72-7.72 1.47 1.35L5.41 20z\"/>\n",
              "  </svg>\n",
              "      </button>\n",
              "      \n",
              "  <style>\n",
              "    .colab-df-container {\n",
              "      display:flex;\n",
              "      flex-wrap:wrap;\n",
              "      gap: 12px;\n",
              "    }\n",
              "\n",
              "    .colab-df-convert {\n",
              "      background-color: #E8F0FE;\n",
              "      border: none;\n",
              "      border-radius: 50%;\n",
              "      cursor: pointer;\n",
              "      display: none;\n",
              "      fill: #1967D2;\n",
              "      height: 32px;\n",
              "      padding: 0 0 0 0;\n",
              "      width: 32px;\n",
              "    }\n",
              "\n",
              "    .colab-df-convert:hover {\n",
              "      background-color: #E2EBFA;\n",
              "      box-shadow: 0px 1px 2px rgba(60, 64, 67, 0.3), 0px 1px 3px 1px rgba(60, 64, 67, 0.15);\n",
              "      fill: #174EA6;\n",
              "    }\n",
              "\n",
              "    [theme=dark] .colab-df-convert {\n",
              "      background-color: #3B4455;\n",
              "      fill: #D2E3FC;\n",
              "    }\n",
              "\n",
              "    [theme=dark] .colab-df-convert:hover {\n",
              "      background-color: #434B5C;\n",
              "      box-shadow: 0px 1px 3px 1px rgba(0, 0, 0, 0.15);\n",
              "      filter: drop-shadow(0px 1px 2px rgba(0, 0, 0, 0.3));\n",
              "      fill: #FFFFFF;\n",
              "    }\n",
              "  </style>\n",
              "\n",
              "      <script>\n",
              "        const buttonEl =\n",
              "          document.querySelector('#df-b77a211c-0406-4cda-a349-7640a5ce0f3c button.colab-df-convert');\n",
              "        buttonEl.style.display =\n",
              "          google.colab.kernel.accessAllowed ? 'block' : 'none';\n",
              "\n",
              "        async function convertToInteractive(key) {\n",
              "          const element = document.querySelector('#df-b77a211c-0406-4cda-a349-7640a5ce0f3c');\n",
              "          const dataTable =\n",
              "            await google.colab.kernel.invokeFunction('convertToInteractive',\n",
              "                                                     [key], {});\n",
              "          if (!dataTable) return;\n",
              "\n",
              "          const docLinkHtml = 'Like what you see? Visit the ' +\n",
              "            '<a target=\"_blank\" href=https://colab.research.google.com/notebooks/data_table.ipynb>data table notebook</a>'\n",
              "            + ' to learn more about interactive tables.';\n",
              "          element.innerHTML = '';\n",
              "          dataTable['output_type'] = 'display_data';\n",
              "          await google.colab.output.renderOutput(dataTable, element);\n",
              "          const docLink = document.createElement('div');\n",
              "          docLink.innerHTML = docLinkHtml;\n",
              "          element.appendChild(docLink);\n",
              "        }\n",
              "      </script>\n",
              "    </div>\n",
              "  </div>\n",
              "  "
            ]
          },
          "metadata": {},
          "execution_count": 30
        }
      ]
    },
    {
      "cell_type": "code",
      "source": [
        "# 10 cidades com mais porcentagem de atrasos \n",
        "cidade_delay = df.groupby('cidade_destino_id', as_index=False).agg({'delay':'mean'})\n",
        "cidade_delay.sort_values(by='delay', ascending=False)"
      ],
      "metadata": {
        "id": "3jUnEKMHRx3u",
        "colab": {
          "base_uri": "https://localhost:8080/",
          "height": 424
        },
        "outputId": "1509a6a6-b3cb-439c-95f6-b3c7a7fe1d1c"
      },
      "execution_count": null,
      "outputs": [
        {
          "output_type": "execute_result",
          "data": {
            "text/plain": [
              "     cidade_destino_id  delay\n",
              "92                  95    1.0\n",
              "113                116    1.0\n",
              "64                  67    1.0\n",
              "69                  72    1.0\n",
              "57                  60    1.0\n",
              "..                 ...    ...\n",
              "79                  82    0.0\n",
              "81                  84    0.0\n",
              "82                  85    0.0\n",
              "85                  88    0.0\n",
              "123                127    0.0\n",
              "\n",
              "[124 rows x 2 columns]"
            ],
            "text/html": [
              "\n",
              "  <div id=\"df-64ebcd58-7d25-4673-8790-266697b2547a\">\n",
              "    <div class=\"colab-df-container\">\n",
              "      <div>\n",
              "<style scoped>\n",
              "    .dataframe tbody tr th:only-of-type {\n",
              "        vertical-align: middle;\n",
              "    }\n",
              "\n",
              "    .dataframe tbody tr th {\n",
              "        vertical-align: top;\n",
              "    }\n",
              "\n",
              "    .dataframe thead th {\n",
              "        text-align: right;\n",
              "    }\n",
              "</style>\n",
              "<table border=\"1\" class=\"dataframe\">\n",
              "  <thead>\n",
              "    <tr style=\"text-align: right;\">\n",
              "      <th></th>\n",
              "      <th>cidade_destino_id</th>\n",
              "      <th>delay</th>\n",
              "    </tr>\n",
              "  </thead>\n",
              "  <tbody>\n",
              "    <tr>\n",
              "      <th>92</th>\n",
              "      <td>95</td>\n",
              "      <td>1.0</td>\n",
              "    </tr>\n",
              "    <tr>\n",
              "      <th>113</th>\n",
              "      <td>116</td>\n",
              "      <td>1.0</td>\n",
              "    </tr>\n",
              "    <tr>\n",
              "      <th>64</th>\n",
              "      <td>67</td>\n",
              "      <td>1.0</td>\n",
              "    </tr>\n",
              "    <tr>\n",
              "      <th>69</th>\n",
              "      <td>72</td>\n",
              "      <td>1.0</td>\n",
              "    </tr>\n",
              "    <tr>\n",
              "      <th>57</th>\n",
              "      <td>60</td>\n",
              "      <td>1.0</td>\n",
              "    </tr>\n",
              "    <tr>\n",
              "      <th>...</th>\n",
              "      <td>...</td>\n",
              "      <td>...</td>\n",
              "    </tr>\n",
              "    <tr>\n",
              "      <th>79</th>\n",
              "      <td>82</td>\n",
              "      <td>0.0</td>\n",
              "    </tr>\n",
              "    <tr>\n",
              "      <th>81</th>\n",
              "      <td>84</td>\n",
              "      <td>0.0</td>\n",
              "    </tr>\n",
              "    <tr>\n",
              "      <th>82</th>\n",
              "      <td>85</td>\n",
              "      <td>0.0</td>\n",
              "    </tr>\n",
              "    <tr>\n",
              "      <th>85</th>\n",
              "      <td>88</td>\n",
              "      <td>0.0</td>\n",
              "    </tr>\n",
              "    <tr>\n",
              "      <th>123</th>\n",
              "      <td>127</td>\n",
              "      <td>0.0</td>\n",
              "    </tr>\n",
              "  </tbody>\n",
              "</table>\n",
              "<p>124 rows × 2 columns</p>\n",
              "</div>\n",
              "      <button class=\"colab-df-convert\" onclick=\"convertToInteractive('df-64ebcd58-7d25-4673-8790-266697b2547a')\"\n",
              "              title=\"Convert this dataframe to an interactive table.\"\n",
              "              style=\"display:none;\">\n",
              "        \n",
              "  <svg xmlns=\"http://www.w3.org/2000/svg\" height=\"24px\"viewBox=\"0 0 24 24\"\n",
              "       width=\"24px\">\n",
              "    <path d=\"M0 0h24v24H0V0z\" fill=\"none\"/>\n",
              "    <path d=\"M18.56 5.44l.94 2.06.94-2.06 2.06-.94-2.06-.94-.94-2.06-.94 2.06-2.06.94zm-11 1L8.5 8.5l.94-2.06 2.06-.94-2.06-.94L8.5 2.5l-.94 2.06-2.06.94zm10 10l.94 2.06.94-2.06 2.06-.94-2.06-.94-.94-2.06-.94 2.06-2.06.94z\"/><path d=\"M17.41 7.96l-1.37-1.37c-.4-.4-.92-.59-1.43-.59-.52 0-1.04.2-1.43.59L10.3 9.45l-7.72 7.72c-.78.78-.78 2.05 0 2.83L4 21.41c.39.39.9.59 1.41.59.51 0 1.02-.2 1.41-.59l7.78-7.78 2.81-2.81c.8-.78.8-2.07 0-2.86zM5.41 20L4 18.59l7.72-7.72 1.47 1.35L5.41 20z\"/>\n",
              "  </svg>\n",
              "      </button>\n",
              "      \n",
              "  <style>\n",
              "    .colab-df-container {\n",
              "      display:flex;\n",
              "      flex-wrap:wrap;\n",
              "      gap: 12px;\n",
              "    }\n",
              "\n",
              "    .colab-df-convert {\n",
              "      background-color: #E8F0FE;\n",
              "      border: none;\n",
              "      border-radius: 50%;\n",
              "      cursor: pointer;\n",
              "      display: none;\n",
              "      fill: #1967D2;\n",
              "      height: 32px;\n",
              "      padding: 0 0 0 0;\n",
              "      width: 32px;\n",
              "    }\n",
              "\n",
              "    .colab-df-convert:hover {\n",
              "      background-color: #E2EBFA;\n",
              "      box-shadow: 0px 1px 2px rgba(60, 64, 67, 0.3), 0px 1px 3px 1px rgba(60, 64, 67, 0.15);\n",
              "      fill: #174EA6;\n",
              "    }\n",
              "\n",
              "    [theme=dark] .colab-df-convert {\n",
              "      background-color: #3B4455;\n",
              "      fill: #D2E3FC;\n",
              "    }\n",
              "\n",
              "    [theme=dark] .colab-df-convert:hover {\n",
              "      background-color: #434B5C;\n",
              "      box-shadow: 0px 1px 3px 1px rgba(0, 0, 0, 0.15);\n",
              "      filter: drop-shadow(0px 1px 2px rgba(0, 0, 0, 0.3));\n",
              "      fill: #FFFFFF;\n",
              "    }\n",
              "  </style>\n",
              "\n",
              "      <script>\n",
              "        const buttonEl =\n",
              "          document.querySelector('#df-64ebcd58-7d25-4673-8790-266697b2547a button.colab-df-convert');\n",
              "        buttonEl.style.display =\n",
              "          google.colab.kernel.accessAllowed ? 'block' : 'none';\n",
              "\n",
              "        async function convertToInteractive(key) {\n",
              "          const element = document.querySelector('#df-64ebcd58-7d25-4673-8790-266697b2547a');\n",
              "          const dataTable =\n",
              "            await google.colab.kernel.invokeFunction('convertToInteractive',\n",
              "                                                     [key], {});\n",
              "          if (!dataTable) return;\n",
              "\n",
              "          const docLinkHtml = 'Like what you see? Visit the ' +\n",
              "            '<a target=\"_blank\" href=https://colab.research.google.com/notebooks/data_table.ipynb>data table notebook</a>'\n",
              "            + ' to learn more about interactive tables.';\n",
              "          element.innerHTML = '';\n",
              "          dataTable['output_type'] = 'display_data';\n",
              "          await google.colab.output.renderOutput(dataTable, element);\n",
              "          const docLink = document.createElement('div');\n",
              "          docLink.innerHTML = docLinkHtml;\n",
              "          element.appendChild(docLink);\n",
              "        }\n",
              "      </script>\n",
              "    </div>\n",
              "  </div>\n",
              "  "
            ]
          },
          "metadata": {},
          "execution_count": 31
        }
      ]
    },
    {
      "cell_type": "markdown",
      "source": [
        "Temos cidades que todas as entregas nelas atrasaram, provavelmente por termos poucas entregas nelas. "
      ],
      "metadata": {
        "id": "22O7FmSzYJjl"
      }
    },
    {
      "cell_type": "code",
      "source": [
        "# Adicionando a quantidade de entregas no dataframe acima\n",
        "destinos = cidade_delay.merge(right=cidade_delivery)\n",
        "destinos.sort_values(by='qtd_delivery_cidade', ascending=False)"
      ],
      "metadata": {
        "colab": {
          "base_uri": "https://localhost:8080/",
          "height": 424
        },
        "id": "GZuUFa04MZbT",
        "outputId": "0aad3f6d-25a2-464d-b28a-a6139dfae860"
      },
      "execution_count": null,
      "outputs": [
        {
          "output_type": "execute_result",
          "data": {
            "text/plain": [
              "     cidade_destino_id     delay  qtd_delivery_cidade\n",
              "1                    2  0.047538                  589\n",
              "22                  25  0.070588                   85\n",
              "13                  16  0.416667                   60\n",
              "21                  24  0.406780                   59\n",
              "15                  18  0.021739                   46\n",
              "..                 ...       ...                  ...\n",
              "64                  67  1.000000                    1\n",
              "102                105  1.000000                    1\n",
              "101                104  0.000000                    1\n",
              "78                  81  0.000000                    1\n",
              "92                  95  1.000000                    1\n",
              "\n",
              "[124 rows x 3 columns]"
            ],
            "text/html": [
              "\n",
              "  <div id=\"df-936c464a-5d6f-4965-861e-d20a2cfa3213\">\n",
              "    <div class=\"colab-df-container\">\n",
              "      <div>\n",
              "<style scoped>\n",
              "    .dataframe tbody tr th:only-of-type {\n",
              "        vertical-align: middle;\n",
              "    }\n",
              "\n",
              "    .dataframe tbody tr th {\n",
              "        vertical-align: top;\n",
              "    }\n",
              "\n",
              "    .dataframe thead th {\n",
              "        text-align: right;\n",
              "    }\n",
              "</style>\n",
              "<table border=\"1\" class=\"dataframe\">\n",
              "  <thead>\n",
              "    <tr style=\"text-align: right;\">\n",
              "      <th></th>\n",
              "      <th>cidade_destino_id</th>\n",
              "      <th>delay</th>\n",
              "      <th>qtd_delivery_cidade</th>\n",
              "    </tr>\n",
              "  </thead>\n",
              "  <tbody>\n",
              "    <tr>\n",
              "      <th>1</th>\n",
              "      <td>2</td>\n",
              "      <td>0.047538</td>\n",
              "      <td>589</td>\n",
              "    </tr>\n",
              "    <tr>\n",
              "      <th>22</th>\n",
              "      <td>25</td>\n",
              "      <td>0.070588</td>\n",
              "      <td>85</td>\n",
              "    </tr>\n",
              "    <tr>\n",
              "      <th>13</th>\n",
              "      <td>16</td>\n",
              "      <td>0.416667</td>\n",
              "      <td>60</td>\n",
              "    </tr>\n",
              "    <tr>\n",
              "      <th>21</th>\n",
              "      <td>24</td>\n",
              "      <td>0.406780</td>\n",
              "      <td>59</td>\n",
              "    </tr>\n",
              "    <tr>\n",
              "      <th>15</th>\n",
              "      <td>18</td>\n",
              "      <td>0.021739</td>\n",
              "      <td>46</td>\n",
              "    </tr>\n",
              "    <tr>\n",
              "      <th>...</th>\n",
              "      <td>...</td>\n",
              "      <td>...</td>\n",
              "      <td>...</td>\n",
              "    </tr>\n",
              "    <tr>\n",
              "      <th>64</th>\n",
              "      <td>67</td>\n",
              "      <td>1.000000</td>\n",
              "      <td>1</td>\n",
              "    </tr>\n",
              "    <tr>\n",
              "      <th>102</th>\n",
              "      <td>105</td>\n",
              "      <td>1.000000</td>\n",
              "      <td>1</td>\n",
              "    </tr>\n",
              "    <tr>\n",
              "      <th>101</th>\n",
              "      <td>104</td>\n",
              "      <td>0.000000</td>\n",
              "      <td>1</td>\n",
              "    </tr>\n",
              "    <tr>\n",
              "      <th>78</th>\n",
              "      <td>81</td>\n",
              "      <td>0.000000</td>\n",
              "      <td>1</td>\n",
              "    </tr>\n",
              "    <tr>\n",
              "      <th>92</th>\n",
              "      <td>95</td>\n",
              "      <td>1.000000</td>\n",
              "      <td>1</td>\n",
              "    </tr>\n",
              "  </tbody>\n",
              "</table>\n",
              "<p>124 rows × 3 columns</p>\n",
              "</div>\n",
              "      <button class=\"colab-df-convert\" onclick=\"convertToInteractive('df-936c464a-5d6f-4965-861e-d20a2cfa3213')\"\n",
              "              title=\"Convert this dataframe to an interactive table.\"\n",
              "              style=\"display:none;\">\n",
              "        \n",
              "  <svg xmlns=\"http://www.w3.org/2000/svg\" height=\"24px\"viewBox=\"0 0 24 24\"\n",
              "       width=\"24px\">\n",
              "    <path d=\"M0 0h24v24H0V0z\" fill=\"none\"/>\n",
              "    <path d=\"M18.56 5.44l.94 2.06.94-2.06 2.06-.94-2.06-.94-.94-2.06-.94 2.06-2.06.94zm-11 1L8.5 8.5l.94-2.06 2.06-.94-2.06-.94L8.5 2.5l-.94 2.06-2.06.94zm10 10l.94 2.06.94-2.06 2.06-.94-2.06-.94-.94-2.06-.94 2.06-2.06.94z\"/><path d=\"M17.41 7.96l-1.37-1.37c-.4-.4-.92-.59-1.43-.59-.52 0-1.04.2-1.43.59L10.3 9.45l-7.72 7.72c-.78.78-.78 2.05 0 2.83L4 21.41c.39.39.9.59 1.41.59.51 0 1.02-.2 1.41-.59l7.78-7.78 2.81-2.81c.8-.78.8-2.07 0-2.86zM5.41 20L4 18.59l7.72-7.72 1.47 1.35L5.41 20z\"/>\n",
              "  </svg>\n",
              "      </button>\n",
              "      \n",
              "  <style>\n",
              "    .colab-df-container {\n",
              "      display:flex;\n",
              "      flex-wrap:wrap;\n",
              "      gap: 12px;\n",
              "    }\n",
              "\n",
              "    .colab-df-convert {\n",
              "      background-color: #E8F0FE;\n",
              "      border: none;\n",
              "      border-radius: 50%;\n",
              "      cursor: pointer;\n",
              "      display: none;\n",
              "      fill: #1967D2;\n",
              "      height: 32px;\n",
              "      padding: 0 0 0 0;\n",
              "      width: 32px;\n",
              "    }\n",
              "\n",
              "    .colab-df-convert:hover {\n",
              "      background-color: #E2EBFA;\n",
              "      box-shadow: 0px 1px 2px rgba(60, 64, 67, 0.3), 0px 1px 3px 1px rgba(60, 64, 67, 0.15);\n",
              "      fill: #174EA6;\n",
              "    }\n",
              "\n",
              "    [theme=dark] .colab-df-convert {\n",
              "      background-color: #3B4455;\n",
              "      fill: #D2E3FC;\n",
              "    }\n",
              "\n",
              "    [theme=dark] .colab-df-convert:hover {\n",
              "      background-color: #434B5C;\n",
              "      box-shadow: 0px 1px 3px 1px rgba(0, 0, 0, 0.15);\n",
              "      filter: drop-shadow(0px 1px 2px rgba(0, 0, 0, 0.3));\n",
              "      fill: #FFFFFF;\n",
              "    }\n",
              "  </style>\n",
              "\n",
              "      <script>\n",
              "        const buttonEl =\n",
              "          document.querySelector('#df-936c464a-5d6f-4965-861e-d20a2cfa3213 button.colab-df-convert');\n",
              "        buttonEl.style.display =\n",
              "          google.colab.kernel.accessAllowed ? 'block' : 'none';\n",
              "\n",
              "        async function convertToInteractive(key) {\n",
              "          const element = document.querySelector('#df-936c464a-5d6f-4965-861e-d20a2cfa3213');\n",
              "          const dataTable =\n",
              "            await google.colab.kernel.invokeFunction('convertToInteractive',\n",
              "                                                     [key], {});\n",
              "          if (!dataTable) return;\n",
              "\n",
              "          const docLinkHtml = 'Like what you see? Visit the ' +\n",
              "            '<a target=\"_blank\" href=https://colab.research.google.com/notebooks/data_table.ipynb>data table notebook</a>'\n",
              "            + ' to learn more about interactive tables.';\n",
              "          element.innerHTML = '';\n",
              "          dataTable['output_type'] = 'display_data';\n",
              "          await google.colab.output.renderOutput(dataTable, element);\n",
              "          const docLink = document.createElement('div');\n",
              "          docLink.innerHTML = docLinkHtml;\n",
              "          element.appendChild(docLink);\n",
              "        }\n",
              "      </script>\n",
              "    </div>\n",
              "  </div>\n",
              "  "
            ]
          },
          "metadata": {},
          "execution_count": 32
        }
      ]
    },
    {
      "cell_type": "code",
      "source": [
        "print('Quantidade de destinos que todas as entregas chegaram com atraso: ', destinos[destinos['delay']==1].shape[0])"
      ],
      "metadata": {
        "colab": {
          "base_uri": "https://localhost:8080/"
        },
        "id": "m7yiilvGPj_W",
        "outputId": "c6d6fb02-ad8e-422b-8629-af63d977d560"
      },
      "execution_count": null,
      "outputs": [
        {
          "output_type": "stream",
          "name": "stdout",
          "text": [
            "Quantidade de destinos que todas as entregas chegaram com atraso:  20\n"
          ]
        }
      ]
    },
    {
      "cell_type": "code",
      "source": [
        "# Mostrando, entre as cidades que chegaram a ter entregas no tempo certo, as com maior porcentagem de entregas atrasadas\n",
        "destinos.sort_values(by='delay', ascending=False).iloc[20:30]"
      ],
      "metadata": {
        "colab": {
          "base_uri": "https://localhost:8080/",
          "height": 363
        },
        "id": "OTjmvNBePIoY",
        "outputId": "d25d8ea9-3332-40f2-f5dc-86da5948e7e0"
      },
      "execution_count": null,
      "outputs": [
        {
          "output_type": "execute_result",
          "data": {
            "text/plain": [
              "     cidade_destino_id     delay  qtd_delivery_cidade\n",
              "31                  34  0.888889                    9\n",
              "105                108  0.857143                    7\n",
              "56                  59  0.750000                    4\n",
              "20                  23  0.750000                    8\n",
              "74                  77  0.666667                    3\n",
              "7                   10  0.636364                   11\n",
              "45                  48  0.625000                    8\n",
              "60                  63  0.571429                    7\n",
              "9                   12  0.545455                   11\n",
              "54                  57  0.500000                    4"
            ],
            "text/html": [
              "\n",
              "  <div id=\"df-507d660b-f2ec-419a-a07c-cb6d8bf803ce\">\n",
              "    <div class=\"colab-df-container\">\n",
              "      <div>\n",
              "<style scoped>\n",
              "    .dataframe tbody tr th:only-of-type {\n",
              "        vertical-align: middle;\n",
              "    }\n",
              "\n",
              "    .dataframe tbody tr th {\n",
              "        vertical-align: top;\n",
              "    }\n",
              "\n",
              "    .dataframe thead th {\n",
              "        text-align: right;\n",
              "    }\n",
              "</style>\n",
              "<table border=\"1\" class=\"dataframe\">\n",
              "  <thead>\n",
              "    <tr style=\"text-align: right;\">\n",
              "      <th></th>\n",
              "      <th>cidade_destino_id</th>\n",
              "      <th>delay</th>\n",
              "      <th>qtd_delivery_cidade</th>\n",
              "    </tr>\n",
              "  </thead>\n",
              "  <tbody>\n",
              "    <tr>\n",
              "      <th>31</th>\n",
              "      <td>34</td>\n",
              "      <td>0.888889</td>\n",
              "      <td>9</td>\n",
              "    </tr>\n",
              "    <tr>\n",
              "      <th>105</th>\n",
              "      <td>108</td>\n",
              "      <td>0.857143</td>\n",
              "      <td>7</td>\n",
              "    </tr>\n",
              "    <tr>\n",
              "      <th>56</th>\n",
              "      <td>59</td>\n",
              "      <td>0.750000</td>\n",
              "      <td>4</td>\n",
              "    </tr>\n",
              "    <tr>\n",
              "      <th>20</th>\n",
              "      <td>23</td>\n",
              "      <td>0.750000</td>\n",
              "      <td>8</td>\n",
              "    </tr>\n",
              "    <tr>\n",
              "      <th>74</th>\n",
              "      <td>77</td>\n",
              "      <td>0.666667</td>\n",
              "      <td>3</td>\n",
              "    </tr>\n",
              "    <tr>\n",
              "      <th>7</th>\n",
              "      <td>10</td>\n",
              "      <td>0.636364</td>\n",
              "      <td>11</td>\n",
              "    </tr>\n",
              "    <tr>\n",
              "      <th>45</th>\n",
              "      <td>48</td>\n",
              "      <td>0.625000</td>\n",
              "      <td>8</td>\n",
              "    </tr>\n",
              "    <tr>\n",
              "      <th>60</th>\n",
              "      <td>63</td>\n",
              "      <td>0.571429</td>\n",
              "      <td>7</td>\n",
              "    </tr>\n",
              "    <tr>\n",
              "      <th>9</th>\n",
              "      <td>12</td>\n",
              "      <td>0.545455</td>\n",
              "      <td>11</td>\n",
              "    </tr>\n",
              "    <tr>\n",
              "      <th>54</th>\n",
              "      <td>57</td>\n",
              "      <td>0.500000</td>\n",
              "      <td>4</td>\n",
              "    </tr>\n",
              "  </tbody>\n",
              "</table>\n",
              "</div>\n",
              "      <button class=\"colab-df-convert\" onclick=\"convertToInteractive('df-507d660b-f2ec-419a-a07c-cb6d8bf803ce')\"\n",
              "              title=\"Convert this dataframe to an interactive table.\"\n",
              "              style=\"display:none;\">\n",
              "        \n",
              "  <svg xmlns=\"http://www.w3.org/2000/svg\" height=\"24px\"viewBox=\"0 0 24 24\"\n",
              "       width=\"24px\">\n",
              "    <path d=\"M0 0h24v24H0V0z\" fill=\"none\"/>\n",
              "    <path d=\"M18.56 5.44l.94 2.06.94-2.06 2.06-.94-2.06-.94-.94-2.06-.94 2.06-2.06.94zm-11 1L8.5 8.5l.94-2.06 2.06-.94-2.06-.94L8.5 2.5l-.94 2.06-2.06.94zm10 10l.94 2.06.94-2.06 2.06-.94-2.06-.94-.94-2.06-.94 2.06-2.06.94z\"/><path d=\"M17.41 7.96l-1.37-1.37c-.4-.4-.92-.59-1.43-.59-.52 0-1.04.2-1.43.59L10.3 9.45l-7.72 7.72c-.78.78-.78 2.05 0 2.83L4 21.41c.39.39.9.59 1.41.59.51 0 1.02-.2 1.41-.59l7.78-7.78 2.81-2.81c.8-.78.8-2.07 0-2.86zM5.41 20L4 18.59l7.72-7.72 1.47 1.35L5.41 20z\"/>\n",
              "  </svg>\n",
              "      </button>\n",
              "      \n",
              "  <style>\n",
              "    .colab-df-container {\n",
              "      display:flex;\n",
              "      flex-wrap:wrap;\n",
              "      gap: 12px;\n",
              "    }\n",
              "\n",
              "    .colab-df-convert {\n",
              "      background-color: #E8F0FE;\n",
              "      border: none;\n",
              "      border-radius: 50%;\n",
              "      cursor: pointer;\n",
              "      display: none;\n",
              "      fill: #1967D2;\n",
              "      height: 32px;\n",
              "      padding: 0 0 0 0;\n",
              "      width: 32px;\n",
              "    }\n",
              "\n",
              "    .colab-df-convert:hover {\n",
              "      background-color: #E2EBFA;\n",
              "      box-shadow: 0px 1px 2px rgba(60, 64, 67, 0.3), 0px 1px 3px 1px rgba(60, 64, 67, 0.15);\n",
              "      fill: #174EA6;\n",
              "    }\n",
              "\n",
              "    [theme=dark] .colab-df-convert {\n",
              "      background-color: #3B4455;\n",
              "      fill: #D2E3FC;\n",
              "    }\n",
              "\n",
              "    [theme=dark] .colab-df-convert:hover {\n",
              "      background-color: #434B5C;\n",
              "      box-shadow: 0px 1px 3px 1px rgba(0, 0, 0, 0.15);\n",
              "      filter: drop-shadow(0px 1px 2px rgba(0, 0, 0, 0.3));\n",
              "      fill: #FFFFFF;\n",
              "    }\n",
              "  </style>\n",
              "\n",
              "      <script>\n",
              "        const buttonEl =\n",
              "          document.querySelector('#df-507d660b-f2ec-419a-a07c-cb6d8bf803ce button.colab-df-convert');\n",
              "        buttonEl.style.display =\n",
              "          google.colab.kernel.accessAllowed ? 'block' : 'none';\n",
              "\n",
              "        async function convertToInteractive(key) {\n",
              "          const element = document.querySelector('#df-507d660b-f2ec-419a-a07c-cb6d8bf803ce');\n",
              "          const dataTable =\n",
              "            await google.colab.kernel.invokeFunction('convertToInteractive',\n",
              "                                                     [key], {});\n",
              "          if (!dataTable) return;\n",
              "\n",
              "          const docLinkHtml = 'Like what you see? Visit the ' +\n",
              "            '<a target=\"_blank\" href=https://colab.research.google.com/notebooks/data_table.ipynb>data table notebook</a>'\n",
              "            + ' to learn more about interactive tables.';\n",
              "          element.innerHTML = '';\n",
              "          dataTable['output_type'] = 'display_data';\n",
              "          await google.colab.output.renderOutput(dataTable, element);\n",
              "          const docLink = document.createElement('div');\n",
              "          docLink.innerHTML = docLinkHtml;\n",
              "          element.appendChild(docLink);\n",
              "        }\n",
              "      </script>\n",
              "    </div>\n",
              "  </div>\n",
              "  "
            ]
          },
          "metadata": {},
          "execution_count": 34
        }
      ]
    },
    {
      "cell_type": "markdown",
      "source": [
        "### Variável dummy de dia não-útil "
      ],
      "metadata": {
        "id": "1mQiz4IqFsQ1"
      }
    },
    {
      "cell_type": "markdown",
      "source": [
        "**Variável final de semana:** O dia da semana é muito importante em uma base de dados de entregas. Dessa forma, é interessante criar uma variável final_semana que retorna 0 se o dia é considerado útil, e 1 caso contrário.    "
      ],
      "metadata": {
        "id": "85L2D2ghp-Tm"
      }
    },
    {
      "cell_type": "code",
      "source": [
        "df_util = df.copy()"
      ],
      "metadata": {
        "id": "Fc9TSFbkFyA7"
      },
      "execution_count": null,
      "outputs": []
    },
    {
      "cell_type": "code",
      "source": [
        "indices = list(df_util.index)\n",
        "df_util['week_day'] = df_util['delivery_date']\n",
        "for n in indices:\n",
        "  df_util['week_day'].loc[n] = df_util['delivery_date'].loc[n].weekday()\n",
        "df_util['final_semana'] = df_util['week_day'].apply(lambda x : 1 if(x >4) else 0 )\n",
        "#df_util = df_util.drop(columns = ['week_day']) "
      ],
      "metadata": {
        "colab": {
          "base_uri": "https://localhost:8080/"
        },
        "id": "DQeFk_Vjk-f9",
        "outputId": "5169e7ed-c905-45a2-9031-ee1c551c4d1d"
      },
      "execution_count": null,
      "outputs": [
        {
          "output_type": "stream",
          "name": "stderr",
          "text": [
            "/usr/local/lib/python3.7/dist-packages/pandas/core/indexing.py:1732: SettingWithCopyWarning: \n",
            "A value is trying to be set on a copy of a slice from a DataFrame\n",
            "\n",
            "See the caveats in the documentation: https://pandas.pydata.org/pandas-docs/stable/user_guide/indexing.html#returning-a-view-versus-a-copy\n",
            "  self._setitem_single_block(indexer, value, name)\n"
          ]
        }
      ]
    },
    {
      "cell_type": "code",
      "source": [
        "df_util"
      ],
      "metadata": {
        "colab": {
          "base_uri": "https://localhost:8080/",
          "height": 815
        },
        "id": "BcG-6qZzlHTw",
        "outputId": "75c64007-7960-4afc-9860-5a1109564f07"
      },
      "execution_count": null,
      "outputs": [
        {
          "output_type": "execute_result",
          "data": {
            "text/plain": [
              "        id   price          order_date            due_date  \\\n",
              "0        0  107.78 2022-02-25 20:46:25 2022-03-02 23:59:59   \n",
              "1        1    7.47 2022-02-23 20:34:59 2022-02-24 23:59:59   \n",
              "2        2    5.98 2022-02-23 20:35:19 2022-02-24 23:59:59   \n",
              "3        3    5.98 2022-02-10 14:34:37 2022-02-17 23:59:59   \n",
              "4        4    5.98 2022-02-23 20:35:05 2022-02-24 23:59:59   \n",
              "...    ...     ...                 ...                 ...   \n",
              "1790  1790    8.29 2022-02-18 22:55:19 2022-02-22 23:59:59   \n",
              "1791  1791   12.73 2022-02-16 17:30:56 2022-02-17 23:59:59   \n",
              "1792  1792    9.70 2022-02-18 16:01:10 2022-02-22 23:59:59   \n",
              "1793  1793    6.75 2022-02-27 15:56:42 2022-03-02 23:59:59   \n",
              "1794  1794    8.34 2022-02-18 22:55:19 2022-02-22 23:59:59   \n",
              "\n",
              "                opt_date       delivery_date  cidade_origem_id  \\\n",
              "0    2022-02-28 20:35:20 2022-03-02 18:03:33                 2   \n",
              "1    2022-02-24 09:56:23 2022-02-24 15:52:40                 2   \n",
              "2    2022-02-23 20:29:38 2022-02-24 22:55:38                 2   \n",
              "3    2022-02-17 07:47:49 2022-02-17 14:23:12                 2   \n",
              "4    2022-02-23 20:28:40 2022-02-24 12:08:00                 2   \n",
              "...                  ...                 ...               ...   \n",
              "1790 2022-02-21 21:11:11 2022-02-22 10:05:08                 2   \n",
              "1791 2022-02-16 21:08:23 2022-02-17 14:43:02                 2   \n",
              "1792 2022-02-18 20:52:11 2022-02-22 11:31:38                 2   \n",
              "1793 2022-03-02 09:51:20 2022-03-02 14:37:17                 2   \n",
              "1794 2022-02-21 20:29:39 2022-02-22 11:37:27                 2   \n",
              "\n",
              "      regiao_origem_id  cidade_destino_id  regiao_destino_id     peso  \\\n",
              "0                    1                 25                  1    23.80   \n",
              "1                    1                 16                  4   536.00   \n",
              "2                    1                 88                  1   202.00   \n",
              "3                    1                 21                  1   441.00   \n",
              "4                    1                 25                  1   316.00   \n",
              "...                ...                ...                ...      ...   \n",
              "1790                 1                  2                  1     3.05   \n",
              "1791                 1                  2                  1     5.50   \n",
              "1792                 1                  2                  1  1683.00   \n",
              "1793                 1                 19                  1   697.00   \n",
              "1794                 1                 25                  1  3806.00   \n",
              "\n",
              "       delivery_time  delay week_day  final_semana  \n",
              "0    4 days 21:17:08      0        2             0  \n",
              "1    0 days 19:17:41      0        3             0  \n",
              "2    1 days 02:20:19      0        3             0  \n",
              "3    6 days 23:48:35      0        3             0  \n",
              "4    0 days 15:32:55      0        3             0  \n",
              "...              ...    ...      ...           ...  \n",
              "1790 3 days 11:09:49      0        1             0  \n",
              "1791 0 days 21:12:06      0        3             0  \n",
              "1792 3 days 19:30:28      0        1             0  \n",
              "1793 2 days 22:40:35      0        2             0  \n",
              "1794 3 days 12:42:08      0        1             0  \n",
              "\n",
              "[1795 rows x 15 columns]"
            ],
            "text/html": [
              "\n",
              "  <div id=\"df-28c7e03e-2780-47a0-b034-d1e7c82f61b8\">\n",
              "    <div class=\"colab-df-container\">\n",
              "      <div>\n",
              "<style scoped>\n",
              "    .dataframe tbody tr th:only-of-type {\n",
              "        vertical-align: middle;\n",
              "    }\n",
              "\n",
              "    .dataframe tbody tr th {\n",
              "        vertical-align: top;\n",
              "    }\n",
              "\n",
              "    .dataframe thead th {\n",
              "        text-align: right;\n",
              "    }\n",
              "</style>\n",
              "<table border=\"1\" class=\"dataframe\">\n",
              "  <thead>\n",
              "    <tr style=\"text-align: right;\">\n",
              "      <th></th>\n",
              "      <th>id</th>\n",
              "      <th>price</th>\n",
              "      <th>order_date</th>\n",
              "      <th>due_date</th>\n",
              "      <th>opt_date</th>\n",
              "      <th>delivery_date</th>\n",
              "      <th>cidade_origem_id</th>\n",
              "      <th>regiao_origem_id</th>\n",
              "      <th>cidade_destino_id</th>\n",
              "      <th>regiao_destino_id</th>\n",
              "      <th>peso</th>\n",
              "      <th>delivery_time</th>\n",
              "      <th>delay</th>\n",
              "      <th>week_day</th>\n",
              "      <th>final_semana</th>\n",
              "    </tr>\n",
              "  </thead>\n",
              "  <tbody>\n",
              "    <tr>\n",
              "      <th>0</th>\n",
              "      <td>0</td>\n",
              "      <td>107.78</td>\n",
              "      <td>2022-02-25 20:46:25</td>\n",
              "      <td>2022-03-02 23:59:59</td>\n",
              "      <td>2022-02-28 20:35:20</td>\n",
              "      <td>2022-03-02 18:03:33</td>\n",
              "      <td>2</td>\n",
              "      <td>1</td>\n",
              "      <td>25</td>\n",
              "      <td>1</td>\n",
              "      <td>23.80</td>\n",
              "      <td>4 days 21:17:08</td>\n",
              "      <td>0</td>\n",
              "      <td>2</td>\n",
              "      <td>0</td>\n",
              "    </tr>\n",
              "    <tr>\n",
              "      <th>1</th>\n",
              "      <td>1</td>\n",
              "      <td>7.47</td>\n",
              "      <td>2022-02-23 20:34:59</td>\n",
              "      <td>2022-02-24 23:59:59</td>\n",
              "      <td>2022-02-24 09:56:23</td>\n",
              "      <td>2022-02-24 15:52:40</td>\n",
              "      <td>2</td>\n",
              "      <td>1</td>\n",
              "      <td>16</td>\n",
              "      <td>4</td>\n",
              "      <td>536.00</td>\n",
              "      <td>0 days 19:17:41</td>\n",
              "      <td>0</td>\n",
              "      <td>3</td>\n",
              "      <td>0</td>\n",
              "    </tr>\n",
              "    <tr>\n",
              "      <th>2</th>\n",
              "      <td>2</td>\n",
              "      <td>5.98</td>\n",
              "      <td>2022-02-23 20:35:19</td>\n",
              "      <td>2022-02-24 23:59:59</td>\n",
              "      <td>2022-02-23 20:29:38</td>\n",
              "      <td>2022-02-24 22:55:38</td>\n",
              "      <td>2</td>\n",
              "      <td>1</td>\n",
              "      <td>88</td>\n",
              "      <td>1</td>\n",
              "      <td>202.00</td>\n",
              "      <td>1 days 02:20:19</td>\n",
              "      <td>0</td>\n",
              "      <td>3</td>\n",
              "      <td>0</td>\n",
              "    </tr>\n",
              "    <tr>\n",
              "      <th>3</th>\n",
              "      <td>3</td>\n",
              "      <td>5.98</td>\n",
              "      <td>2022-02-10 14:34:37</td>\n",
              "      <td>2022-02-17 23:59:59</td>\n",
              "      <td>2022-02-17 07:47:49</td>\n",
              "      <td>2022-02-17 14:23:12</td>\n",
              "      <td>2</td>\n",
              "      <td>1</td>\n",
              "      <td>21</td>\n",
              "      <td>1</td>\n",
              "      <td>441.00</td>\n",
              "      <td>6 days 23:48:35</td>\n",
              "      <td>0</td>\n",
              "      <td>3</td>\n",
              "      <td>0</td>\n",
              "    </tr>\n",
              "    <tr>\n",
              "      <th>4</th>\n",
              "      <td>4</td>\n",
              "      <td>5.98</td>\n",
              "      <td>2022-02-23 20:35:05</td>\n",
              "      <td>2022-02-24 23:59:59</td>\n",
              "      <td>2022-02-23 20:28:40</td>\n",
              "      <td>2022-02-24 12:08:00</td>\n",
              "      <td>2</td>\n",
              "      <td>1</td>\n",
              "      <td>25</td>\n",
              "      <td>1</td>\n",
              "      <td>316.00</td>\n",
              "      <td>0 days 15:32:55</td>\n",
              "      <td>0</td>\n",
              "      <td>3</td>\n",
              "      <td>0</td>\n",
              "    </tr>\n",
              "    <tr>\n",
              "      <th>...</th>\n",
              "      <td>...</td>\n",
              "      <td>...</td>\n",
              "      <td>...</td>\n",
              "      <td>...</td>\n",
              "      <td>...</td>\n",
              "      <td>...</td>\n",
              "      <td>...</td>\n",
              "      <td>...</td>\n",
              "      <td>...</td>\n",
              "      <td>...</td>\n",
              "      <td>...</td>\n",
              "      <td>...</td>\n",
              "      <td>...</td>\n",
              "      <td>...</td>\n",
              "      <td>...</td>\n",
              "    </tr>\n",
              "    <tr>\n",
              "      <th>1790</th>\n",
              "      <td>1790</td>\n",
              "      <td>8.29</td>\n",
              "      <td>2022-02-18 22:55:19</td>\n",
              "      <td>2022-02-22 23:59:59</td>\n",
              "      <td>2022-02-21 21:11:11</td>\n",
              "      <td>2022-02-22 10:05:08</td>\n",
              "      <td>2</td>\n",
              "      <td>1</td>\n",
              "      <td>2</td>\n",
              "      <td>1</td>\n",
              "      <td>3.05</td>\n",
              "      <td>3 days 11:09:49</td>\n",
              "      <td>0</td>\n",
              "      <td>1</td>\n",
              "      <td>0</td>\n",
              "    </tr>\n",
              "    <tr>\n",
              "      <th>1791</th>\n",
              "      <td>1791</td>\n",
              "      <td>12.73</td>\n",
              "      <td>2022-02-16 17:30:56</td>\n",
              "      <td>2022-02-17 23:59:59</td>\n",
              "      <td>2022-02-16 21:08:23</td>\n",
              "      <td>2022-02-17 14:43:02</td>\n",
              "      <td>2</td>\n",
              "      <td>1</td>\n",
              "      <td>2</td>\n",
              "      <td>1</td>\n",
              "      <td>5.50</td>\n",
              "      <td>0 days 21:12:06</td>\n",
              "      <td>0</td>\n",
              "      <td>3</td>\n",
              "      <td>0</td>\n",
              "    </tr>\n",
              "    <tr>\n",
              "      <th>1792</th>\n",
              "      <td>1792</td>\n",
              "      <td>9.70</td>\n",
              "      <td>2022-02-18 16:01:10</td>\n",
              "      <td>2022-02-22 23:59:59</td>\n",
              "      <td>2022-02-18 20:52:11</td>\n",
              "      <td>2022-02-22 11:31:38</td>\n",
              "      <td>2</td>\n",
              "      <td>1</td>\n",
              "      <td>2</td>\n",
              "      <td>1</td>\n",
              "      <td>1683.00</td>\n",
              "      <td>3 days 19:30:28</td>\n",
              "      <td>0</td>\n",
              "      <td>1</td>\n",
              "      <td>0</td>\n",
              "    </tr>\n",
              "    <tr>\n",
              "      <th>1793</th>\n",
              "      <td>1793</td>\n",
              "      <td>6.75</td>\n",
              "      <td>2022-02-27 15:56:42</td>\n",
              "      <td>2022-03-02 23:59:59</td>\n",
              "      <td>2022-03-02 09:51:20</td>\n",
              "      <td>2022-03-02 14:37:17</td>\n",
              "      <td>2</td>\n",
              "      <td>1</td>\n",
              "      <td>19</td>\n",
              "      <td>1</td>\n",
              "      <td>697.00</td>\n",
              "      <td>2 days 22:40:35</td>\n",
              "      <td>0</td>\n",
              "      <td>2</td>\n",
              "      <td>0</td>\n",
              "    </tr>\n",
              "    <tr>\n",
              "      <th>1794</th>\n",
              "      <td>1794</td>\n",
              "      <td>8.34</td>\n",
              "      <td>2022-02-18 22:55:19</td>\n",
              "      <td>2022-02-22 23:59:59</td>\n",
              "      <td>2022-02-21 20:29:39</td>\n",
              "      <td>2022-02-22 11:37:27</td>\n",
              "      <td>2</td>\n",
              "      <td>1</td>\n",
              "      <td>25</td>\n",
              "      <td>1</td>\n",
              "      <td>3806.00</td>\n",
              "      <td>3 days 12:42:08</td>\n",
              "      <td>0</td>\n",
              "      <td>1</td>\n",
              "      <td>0</td>\n",
              "    </tr>\n",
              "  </tbody>\n",
              "</table>\n",
              "<p>1795 rows × 15 columns</p>\n",
              "</div>\n",
              "      <button class=\"colab-df-convert\" onclick=\"convertToInteractive('df-28c7e03e-2780-47a0-b034-d1e7c82f61b8')\"\n",
              "              title=\"Convert this dataframe to an interactive table.\"\n",
              "              style=\"display:none;\">\n",
              "        \n",
              "  <svg xmlns=\"http://www.w3.org/2000/svg\" height=\"24px\"viewBox=\"0 0 24 24\"\n",
              "       width=\"24px\">\n",
              "    <path d=\"M0 0h24v24H0V0z\" fill=\"none\"/>\n",
              "    <path d=\"M18.56 5.44l.94 2.06.94-2.06 2.06-.94-2.06-.94-.94-2.06-.94 2.06-2.06.94zm-11 1L8.5 8.5l.94-2.06 2.06-.94-2.06-.94L8.5 2.5l-.94 2.06-2.06.94zm10 10l.94 2.06.94-2.06 2.06-.94-2.06-.94-.94-2.06-.94 2.06-2.06.94z\"/><path d=\"M17.41 7.96l-1.37-1.37c-.4-.4-.92-.59-1.43-.59-.52 0-1.04.2-1.43.59L10.3 9.45l-7.72 7.72c-.78.78-.78 2.05 0 2.83L4 21.41c.39.39.9.59 1.41.59.51 0 1.02-.2 1.41-.59l7.78-7.78 2.81-2.81c.8-.78.8-2.07 0-2.86zM5.41 20L4 18.59l7.72-7.72 1.47 1.35L5.41 20z\"/>\n",
              "  </svg>\n",
              "      </button>\n",
              "      \n",
              "  <style>\n",
              "    .colab-df-container {\n",
              "      display:flex;\n",
              "      flex-wrap:wrap;\n",
              "      gap: 12px;\n",
              "    }\n",
              "\n",
              "    .colab-df-convert {\n",
              "      background-color: #E8F0FE;\n",
              "      border: none;\n",
              "      border-radius: 50%;\n",
              "      cursor: pointer;\n",
              "      display: none;\n",
              "      fill: #1967D2;\n",
              "      height: 32px;\n",
              "      padding: 0 0 0 0;\n",
              "      width: 32px;\n",
              "    }\n",
              "\n",
              "    .colab-df-convert:hover {\n",
              "      background-color: #E2EBFA;\n",
              "      box-shadow: 0px 1px 2px rgba(60, 64, 67, 0.3), 0px 1px 3px 1px rgba(60, 64, 67, 0.15);\n",
              "      fill: #174EA6;\n",
              "    }\n",
              "\n",
              "    [theme=dark] .colab-df-convert {\n",
              "      background-color: #3B4455;\n",
              "      fill: #D2E3FC;\n",
              "    }\n",
              "\n",
              "    [theme=dark] .colab-df-convert:hover {\n",
              "      background-color: #434B5C;\n",
              "      box-shadow: 0px 1px 3px 1px rgba(0, 0, 0, 0.15);\n",
              "      filter: drop-shadow(0px 1px 2px rgba(0, 0, 0, 0.3));\n",
              "      fill: #FFFFFF;\n",
              "    }\n",
              "  </style>\n",
              "\n",
              "      <script>\n",
              "        const buttonEl =\n",
              "          document.querySelector('#df-28c7e03e-2780-47a0-b034-d1e7c82f61b8 button.colab-df-convert');\n",
              "        buttonEl.style.display =\n",
              "          google.colab.kernel.accessAllowed ? 'block' : 'none';\n",
              "\n",
              "        async function convertToInteractive(key) {\n",
              "          const element = document.querySelector('#df-28c7e03e-2780-47a0-b034-d1e7c82f61b8');\n",
              "          const dataTable =\n",
              "            await google.colab.kernel.invokeFunction('convertToInteractive',\n",
              "                                                     [key], {});\n",
              "          if (!dataTable) return;\n",
              "\n",
              "          const docLinkHtml = 'Like what you see? Visit the ' +\n",
              "            '<a target=\"_blank\" href=https://colab.research.google.com/notebooks/data_table.ipynb>data table notebook</a>'\n",
              "            + ' to learn more about interactive tables.';\n",
              "          element.innerHTML = '';\n",
              "          dataTable['output_type'] = 'display_data';\n",
              "          await google.colab.output.renderOutput(dataTable, element);\n",
              "          const docLink = document.createElement('div');\n",
              "          docLink.innerHTML = docLinkHtml;\n",
              "          element.appendChild(docLink);\n",
              "        }\n",
              "      </script>\n",
              "    </div>\n",
              "  </div>\n",
              "  "
            ]
          },
          "metadata": {},
          "execution_count": 37
        }
      ]
    },
    {
      "cell_type": "code",
      "source": [
        "# Relação entre atrasos e dia da semana \n",
        "\n",
        "plt.figure(figsize=(10,6))\n",
        "ax = sns.countplot(x='week_day', hue='delay', data=df_util)\n",
        "plt.title('Relação entre dias da semana e atraso na entrega', fontweight='bold', fontsize=20)\n",
        "plt.xlabel('Dia da Semana', fontweight='bold')\n",
        "plt.ylabel('Quantidade de entregas', fontweight='bold')\n",
        "plt.legend(labels=[\"No prazo\",\"Atrasado\"])\n",
        "legenda = ('Segunda', 'Terça', 'Quarta', 'Quinta', 'Sexta', 'Sábado', 'Domingo')\n",
        "plt.xticks(np.arange(len(legenda)), legenda)\n",
        "plt.show() "
      ],
      "metadata": {
        "colab": {
          "base_uri": "https://localhost:8080/",
          "height": 418
        },
        "id": "2khpZoKmPIba",
        "outputId": "8b73deb0-e214-4167-9989-d61da8443bd7"
      },
      "execution_count": null,
      "outputs": [
        {
          "output_type": "display_data",
          "data": {
            "text/plain": [
              "<Figure size 720x432 with 1 Axes>"
            ],
            "image/png": "[encoded data removed]"
          },
          "metadata": {
            "needs_background": "light"
          }
        }
      ]
    },
    {
      "cell_type": "markdown",
      "source": [
        "Quarta e Sexta são os dias com mais atrasos em termos absolutos. Para uma análise mais precisa, é interessante observar os atrasos em termos percentuais. "
      ],
      "metadata": {
        "id": "_QPi6-xOXf4d"
      }
    },
    {
      "cell_type": "code",
      "source": [
        "# Atrasos percentual \n",
        "df_util2 = df_util \n",
        "df_util2['week_day'] = df_util2['week_day'].replace({0:'Segunda', 1:'Terça', 2:'Quarta', 3:'Quinta', 4:'Sexta', 5:'Sábado', 6:'Domingo'})\n",
        "df_atrasos = df_util2[df_util2['delay']==1]\n",
        "df_sematrasos = df_util2[df_util2['delay']==0]\n",
        "\n",
        "dfa1 = pd.DataFrame(df_atrasos['week_day'].value_counts())\n",
        "dfa1"
      ],
      "metadata": {
        "colab": {
          "base_uri": "https://localhost:8080/",
          "height": 269
        },
        "id": "MUeomngKUxBr",
        "outputId": "efc4206f-76d8-4d19-9350-d500427197ab"
      },
      "execution_count": null,
      "outputs": [
        {
          "output_type": "execute_result",
          "data": {
            "text/plain": [
              "         week_day\n",
              "Quarta         73\n",
              "Sexta          66\n",
              "Quinta         48\n",
              "Segunda        26\n",
              "Terça          22\n",
              "Sábado         15\n",
              "Domingo         7"
            ],
            "text/html": [
              "\n",
              "  <div id=\"df-865114fb-42de-445e-ac59-a1fcd1c6f129\">\n",
              "    <div class=\"colab-df-container\">\n",
              "      <div>\n",
              "<style scoped>\n",
              "    .dataframe tbody tr th:only-of-type {\n",
              "        vertical-align: middle;\n",
              "    }\n",
              "\n",
              "    .dataframe tbody tr th {\n",
              "        vertical-align: top;\n",
              "    }\n",
              "\n",
              "    .dataframe thead th {\n",
              "        text-align: right;\n",
              "    }\n",
              "</style>\n",
              "<table border=\"1\" class=\"dataframe\">\n",
              "  <thead>\n",
              "    <tr style=\"text-align: right;\">\n",
              "      <th></th>\n",
              "      <th>week_day</th>\n",
              "    </tr>\n",
              "  </thead>\n",
              "  <tbody>\n",
              "    <tr>\n",
              "      <th>Quarta</th>\n",
              "      <td>73</td>\n",
              "    </tr>\n",
              "    <tr>\n",
              "      <th>Sexta</th>\n",
              "      <td>66</td>\n",
              "    </tr>\n",
              "    <tr>\n",
              "      <th>Quinta</th>\n",
              "      <td>48</td>\n",
              "    </tr>\n",
              "    <tr>\n",
              "      <th>Segunda</th>\n",
              "      <td>26</td>\n",
              "    </tr>\n",
              "    <tr>\n",
              "      <th>Terça</th>\n",
              "      <td>22</td>\n",
              "    </tr>\n",
              "    <tr>\n",
              "      <th>Sábado</th>\n",
              "      <td>15</td>\n",
              "    </tr>\n",
              "    <tr>\n",
              "      <th>Domingo</th>\n",
              "      <td>7</td>\n",
              "    </tr>\n",
              "  </tbody>\n",
              "</table>\n",
              "</div>\n",
              "      <button class=\"colab-df-convert\" onclick=\"convertToInteractive('df-865114fb-42de-445e-ac59-a1fcd1c6f129')\"\n",
              "              title=\"Convert this dataframe to an interactive table.\"\n",
              "              style=\"display:none;\">\n",
              "        \n",
              "  <svg xmlns=\"http://www.w3.org/2000/svg\" height=\"24px\"viewBox=\"0 0 24 24\"\n",
              "       width=\"24px\">\n",
              "    <path d=\"M0 0h24v24H0V0z\" fill=\"none\"/>\n",
              "    <path d=\"M18.56 5.44l.94 2.06.94-2.06 2.06-.94-2.06-.94-.94-2.06-.94 2.06-2.06.94zm-11 1L8.5 8.5l.94-2.06 2.06-.94-2.06-.94L8.5 2.5l-.94 2.06-2.06.94zm10 10l.94 2.06.94-2.06 2.06-.94-2.06-.94-.94-2.06-.94 2.06-2.06.94z\"/><path d=\"M17.41 7.96l-1.37-1.37c-.4-.4-.92-.59-1.43-.59-.52 0-1.04.2-1.43.59L10.3 9.45l-7.72 7.72c-.78.78-.78 2.05 0 2.83L4 21.41c.39.39.9.59 1.41.59.51 0 1.02-.2 1.41-.59l7.78-7.78 2.81-2.81c.8-.78.8-2.07 0-2.86zM5.41 20L4 18.59l7.72-7.72 1.47 1.35L5.41 20z\"/>\n",
              "  </svg>\n",
              "      </button>\n",
              "      \n",
              "  <style>\n",
              "    .colab-df-container {\n",
              "      display:flex;\n",
              "      flex-wrap:wrap;\n",
              "      gap: 12px;\n",
              "    }\n",
              "\n",
              "    .colab-df-convert {\n",
              "      background-color: #E8F0FE;\n",
              "      border: none;\n",
              "      border-radius: 50%;\n",
              "      cursor: pointer;\n",
              "      display: none;\n",
              "      fill: #1967D2;\n",
              "      height: 32px;\n",
              "      padding: 0 0 0 0;\n",
              "      width: 32px;\n",
              "    }\n",
              "\n",
              "    .colab-df-convert:hover {\n",
              "      background-color: #E2EBFA;\n",
              "      box-shadow: 0px 1px 2px rgba(60, 64, 67, 0.3), 0px 1px 3px 1px rgba(60, 64, 67, 0.15);\n",
              "      fill: #174EA6;\n",
              "    }\n",
              "\n",
              "    [theme=dark] .colab-df-convert {\n",
              "      background-color: #3B4455;\n",
              "      fill: #D2E3FC;\n",
              "    }\n",
              "\n",
              "    [theme=dark] .colab-df-convert:hover {\n",
              "      background-color: #434B5C;\n",
              "      box-shadow: 0px 1px 3px 1px rgba(0, 0, 0, 0.15);\n",
              "      filter: drop-shadow(0px 1px 2px rgba(0, 0, 0, 0.3));\n",
              "      fill: #FFFFFF;\n",
              "    }\n",
              "  </style>\n",
              "\n",
              "      <script>\n",
              "        const buttonEl =\n",
              "          document.querySelector('#df-865114fb-42de-445e-ac59-a1fcd1c6f129 button.colab-df-convert');\n",
              "        buttonEl.style.display =\n",
              "          google.colab.kernel.accessAllowed ? 'block' : 'none';\n",
              "\n",
              "        async function convertToInteractive(key) {\n",
              "          const element = document.querySelector('#df-865114fb-42de-445e-ac59-a1fcd1c6f129');\n",
              "          const dataTable =\n",
              "            await google.colab.kernel.invokeFunction('convertToInteractive',\n",
              "                                                     [key], {});\n",
              "          if (!dataTable) return;\n",
              "\n",
              "          const docLinkHtml = 'Like what you see? Visit the ' +\n",
              "            '<a target=\"_blank\" href=https://colab.research.google.com/notebooks/data_table.ipynb>data table notebook</a>'\n",
              "            + ' to learn more about interactive tables.';\n",
              "          element.innerHTML = '';\n",
              "          dataTable['output_type'] = 'display_data';\n",
              "          await google.colab.output.renderOutput(dataTable, element);\n",
              "          const docLink = document.createElement('div');\n",
              "          docLink.innerHTML = docLinkHtml;\n",
              "          element.appendChild(docLink);\n",
              "        }\n",
              "      </script>\n",
              "    </div>\n",
              "  </div>\n",
              "  "
            ]
          },
          "metadata": {},
          "execution_count": 39
        }
      ]
    },
    {
      "cell_type": "code",
      "source": [
        "# Quantidade de entregas por dia \n",
        "dfa2 = pd.DataFrame(df_util2['week_day'].value_counts())\n",
        "dfa2 "
      ],
      "metadata": {
        "colab": {
          "base_uri": "https://localhost:8080/",
          "height": 269
        },
        "id": "2oHr3UbjVSg6",
        "outputId": "d3cad003-2133-4c7c-9781-3485a560279c"
      },
      "execution_count": null,
      "outputs": [
        {
          "output_type": "execute_result",
          "data": {
            "text/plain": [
              "         week_day\n",
              "Quinta        506\n",
              "Sexta         376\n",
              "Segunda       347\n",
              "Quarta        280\n",
              "Terça         226\n",
              "Sábado         51\n",
              "Domingo         9"
            ],
            "text/html": [
              "\n",
              "  <div id=\"df-080434d5-0203-4092-b4cb-1fb24b4627fc\">\n",
              "    <div class=\"colab-df-container\">\n",
              "      <div>\n",
              "<style scoped>\n",
              "    .dataframe tbody tr th:only-of-type {\n",
              "        vertical-align: middle;\n",
              "    }\n",
              "\n",
              "    .dataframe tbody tr th {\n",
              "        vertical-align: top;\n",
              "    }\n",
              "\n",
              "    .dataframe thead th {\n",
              "        text-align: right;\n",
              "    }\n",
              "</style>\n",
              "<table border=\"1\" class=\"dataframe\">\n",
              "  <thead>\n",
              "    <tr style=\"text-align: right;\">\n",
              "      <th></th>\n",
              "      <th>week_day</th>\n",
              "    </tr>\n",
              "  </thead>\n",
              "  <tbody>\n",
              "    <tr>\n",
              "      <th>Quinta</th>\n",
              "      <td>506</td>\n",
              "    </tr>\n",
              "    <tr>\n",
              "      <th>Sexta</th>\n",
              "      <td>376</td>\n",
              "    </tr>\n",
              "    <tr>\n",
              "      <th>Segunda</th>\n",
              "      <td>347</td>\n",
              "    </tr>\n",
              "    <tr>\n",
              "      <th>Quarta</th>\n",
              "      <td>280</td>\n",
              "    </tr>\n",
              "    <tr>\n",
              "      <th>Terça</th>\n",
              "      <td>226</td>\n",
              "    </tr>\n",
              "    <tr>\n",
              "      <th>Sábado</th>\n",
              "      <td>51</td>\n",
              "    </tr>\n",
              "    <tr>\n",
              "      <th>Domingo</th>\n",
              "      <td>9</td>\n",
              "    </tr>\n",
              "  </tbody>\n",
              "</table>\n",
              "</div>\n",
              "      <button class=\"colab-df-convert\" onclick=\"convertToInteractive('df-080434d5-0203-4092-b4cb-1fb24b4627fc')\"\n",
              "              title=\"Convert this dataframe to an interactive table.\"\n",
              "              style=\"display:none;\">\n",
              "        \n",
              "  <svg xmlns=\"http://www.w3.org/2000/svg\" height=\"24px\"viewBox=\"0 0 24 24\"\n",
              "       width=\"24px\">\n",
              "    <path d=\"M0 0h24v24H0V0z\" fill=\"none\"/>\n",
              "    <path d=\"M18.56 5.44l.94 2.06.94-2.06 2.06-.94-2.06-.94-.94-2.06-.94 2.06-2.06.94zm-11 1L8.5 8.5l.94-2.06 2.06-.94-2.06-.94L8.5 2.5l-.94 2.06-2.06.94zm10 10l.94 2.06.94-2.06 2.06-.94-2.06-.94-.94-2.06-.94 2.06-2.06.94z\"/><path d=\"M17.41 7.96l-1.37-1.37c-.4-.4-.92-.59-1.43-.59-.52 0-1.04.2-1.43.59L10.3 9.45l-7.72 7.72c-.78.78-.78 2.05 0 2.83L4 21.41c.39.39.9.59 1.41.59.51 0 1.02-.2 1.41-.59l7.78-7.78 2.81-2.81c.8-.78.8-2.07 0-2.86zM5.41 20L4 18.59l7.72-7.72 1.47 1.35L5.41 20z\"/>\n",
              "  </svg>\n",
              "      </button>\n",
              "      \n",
              "  <style>\n",
              "    .colab-df-container {\n",
              "      display:flex;\n",
              "      flex-wrap:wrap;\n",
              "      gap: 12px;\n",
              "    }\n",
              "\n",
              "    .colab-df-convert {\n",
              "      background-color: #E8F0FE;\n",
              "      border: none;\n",
              "      border-radius: 50%;\n",
              "      cursor: pointer;\n",
              "      display: none;\n",
              "      fill: #1967D2;\n",
              "      height: 32px;\n",
              "      padding: 0 0 0 0;\n",
              "      width: 32px;\n",
              "    }\n",
              "\n",
              "    .colab-df-convert:hover {\n",
              "      background-color: #E2EBFA;\n",
              "      box-shadow: 0px 1px 2px rgba(60, 64, 67, 0.3), 0px 1px 3px 1px rgba(60, 64, 67, 0.15);\n",
              "      fill: #174EA6;\n",
              "    }\n",
              "\n",
              "    [theme=dark] .colab-df-convert {\n",
              "      background-color: #3B4455;\n",
              "      fill: #D2E3FC;\n",
              "    }\n",
              "\n",
              "    [theme=dark] .colab-df-convert:hover {\n",
              "      background-color: #434B5C;\n",
              "      box-shadow: 0px 1px 3px 1px rgba(0, 0, 0, 0.15);\n",
              "      filter: drop-shadow(0px 1px 2px rgba(0, 0, 0, 0.3));\n",
              "      fill: #FFFFFF;\n",
              "    }\n",
              "  </style>\n",
              "\n",
              "      <script>\n",
              "        const buttonEl =\n",
              "          document.querySelector('#df-080434d5-0203-4092-b4cb-1fb24b4627fc button.colab-df-convert');\n",
              "        buttonEl.style.display =\n",
              "          google.colab.kernel.accessAllowed ? 'block' : 'none';\n",
              "\n",
              "        async function convertToInteractive(key) {\n",
              "          const element = document.querySelector('#df-080434d5-0203-4092-b4cb-1fb24b4627fc');\n",
              "          const dataTable =\n",
              "            await google.colab.kernel.invokeFunction('convertToInteractive',\n",
              "                                                     [key], {});\n",
              "          if (!dataTable) return;\n",
              "\n",
              "          const docLinkHtml = 'Like what you see? Visit the ' +\n",
              "            '<a target=\"_blank\" href=https://colab.research.google.com/notebooks/data_table.ipynb>data table notebook</a>'\n",
              "            + ' to learn more about interactive tables.';\n",
              "          element.innerHTML = '';\n",
              "          dataTable['output_type'] = 'display_data';\n",
              "          await google.colab.output.renderOutput(dataTable, element);\n",
              "          const docLink = document.createElement('div');\n",
              "          docLink.innerHTML = docLinkHtml;\n",
              "          element.appendChild(docLink);\n",
              "        }\n",
              "      </script>\n",
              "    </div>\n",
              "  </div>\n",
              "  "
            ]
          },
          "metadata": {},
          "execution_count": 40
        }
      ]
    },
    {
      "cell_type": "code",
      "source": [
        "dfa3 = pd.merge(right=dfa1, left=dfa2, left_index=True, right_index=True)\n",
        "dfa3 = dfa3.rename(columns={'week_day_x': 'Quantidade de entregas', 'week_day_y' : 'Atrasos'})\n",
        "dfa3['Percentual de atrasos'] = (dfa3['Atrasos']/dfa3['Quantidade de entregas'])\n",
        "dfa3"
      ],
      "metadata": {
        "colab": {
          "base_uri": "https://localhost:8080/",
          "height": 269
        },
        "id": "5X3EeeRSVjxr",
        "outputId": "fb2565e5-a088-4fff-91cd-e81741ec9af2"
      },
      "execution_count": null,
      "outputs": [
        {
          "output_type": "execute_result",
          "data": {
            "text/plain": [
              "         Quantidade de entregas  Atrasos  Percentual de atrasos\n",
              "Quinta                      506       48               0.094862\n",
              "Sexta                       376       66               0.175532\n",
              "Segunda                     347       26               0.074928\n",
              "Quarta                      280       73               0.260714\n",
              "Terça                       226       22               0.097345\n",
              "Sábado                       51       15               0.294118\n",
              "Domingo                       9        7               0.777778"
            ],
            "text/html": [
              "\n",
              "  <div id=\"df-c1e4080e-342a-4d35-a5d0-c6b2bb7e6fa9\">\n",
              "    <div class=\"colab-df-container\">\n",
              "      <div>\n",
              "<style scoped>\n",
              "    .dataframe tbody tr th:only-of-type {\n",
              "        vertical-align: middle;\n",
              "    }\n",
              "\n",
              "    .dataframe tbody tr th {\n",
              "        vertical-align: top;\n",
              "    }\n",
              "\n",
              "    .dataframe thead th {\n",
              "        text-align: right;\n",
              "    }\n",
              "</style>\n",
              "<table border=\"1\" class=\"dataframe\">\n",
              "  <thead>\n",
              "    <tr style=\"text-align: right;\">\n",
              "      <th></th>\n",
              "      <th>Quantidade de entregas</th>\n",
              "      <th>Atrasos</th>\n",
              "      <th>Percentual de atrasos</th>\n",
              "    </tr>\n",
              "  </thead>\n",
              "  <tbody>\n",
              "    <tr>\n",
              "      <th>Quinta</th>\n",
              "      <td>506</td>\n",
              "      <td>48</td>\n",
              "      <td>0.094862</td>\n",
              "    </tr>\n",
              "    <tr>\n",
              "      <th>Sexta</th>\n",
              "      <td>376</td>\n",
              "      <td>66</td>\n",
              "      <td>0.175532</td>\n",
              "    </tr>\n",
              "    <tr>\n",
              "      <th>Segunda</th>\n",
              "      <td>347</td>\n",
              "      <td>26</td>\n",
              "      <td>0.074928</td>\n",
              "    </tr>\n",
              "    <tr>\n",
              "      <th>Quarta</th>\n",
              "      <td>280</td>\n",
              "      <td>73</td>\n",
              "      <td>0.260714</td>\n",
              "    </tr>\n",
              "    <tr>\n",
              "      <th>Terça</th>\n",
              "      <td>226</td>\n",
              "      <td>22</td>\n",
              "      <td>0.097345</td>\n",
              "    </tr>\n",
              "    <tr>\n",
              "      <th>Sábado</th>\n",
              "      <td>51</td>\n",
              "      <td>15</td>\n",
              "      <td>0.294118</td>\n",
              "    </tr>\n",
              "    <tr>\n",
              "      <th>Domingo</th>\n",
              "      <td>9</td>\n",
              "      <td>7</td>\n",
              "      <td>0.777778</td>\n",
              "    </tr>\n",
              "  </tbody>\n",
              "</table>\n",
              "</div>\n",
              "      <button class=\"colab-df-convert\" onclick=\"convertToInteractive('df-c1e4080e-342a-4d35-a5d0-c6b2bb7e6fa9')\"\n",
              "              title=\"Convert this dataframe to an interactive table.\"\n",
              "              style=\"display:none;\">\n",
              "        \n",
              "  <svg xmlns=\"http://www.w3.org/2000/svg\" height=\"24px\"viewBox=\"0 0 24 24\"\n",
              "       width=\"24px\">\n",
              "    <path d=\"M0 0h24v24H0V0z\" fill=\"none\"/>\n",
              "    <path d=\"M18.56 5.44l.94 2.06.94-2.06 2.06-.94-2.06-.94-.94-2.06-.94 2.06-2.06.94zm-11 1L8.5 8.5l.94-2.06 2.06-.94-2.06-.94L8.5 2.5l-.94 2.06-2.06.94zm10 10l.94 2.06.94-2.06 2.06-.94-2.06-.94-.94-2.06-.94 2.06-2.06.94z\"/><path d=\"M17.41 7.96l-1.37-1.37c-.4-.4-.92-.59-1.43-.59-.52 0-1.04.2-1.43.59L10.3 9.45l-7.72 7.72c-.78.78-.78 2.05 0 2.83L4 21.41c.39.39.9.59 1.41.59.51 0 1.02-.2 1.41-.59l7.78-7.78 2.81-2.81c.8-.78.8-2.07 0-2.86zM5.41 20L4 18.59l7.72-7.72 1.47 1.35L5.41 20z\"/>\n",
              "  </svg>\n",
              "      </button>\n",
              "      \n",
              "  <style>\n",
              "    .colab-df-container {\n",
              "      display:flex;\n",
              "      flex-wrap:wrap;\n",
              "      gap: 12px;\n",
              "    }\n",
              "\n",
              "    .colab-df-convert {\n",
              "      background-color: #E8F0FE;\n",
              "      border: none;\n",
              "      border-radius: 50%;\n",
              "      cursor: pointer;\n",
              "      display: none;\n",
              "      fill: #1967D2;\n",
              "      height: 32px;\n",
              "      padding: 0 0 0 0;\n",
              "      width: 32px;\n",
              "    }\n",
              "\n",
              "    .colab-df-convert:hover {\n",
              "      background-color: #E2EBFA;\n",
              "      box-shadow: 0px 1px 2px rgba(60, 64, 67, 0.3), 0px 1px 3px 1px rgba(60, 64, 67, 0.15);\n",
              "      fill: #174EA6;\n",
              "    }\n",
              "\n",
              "    [theme=dark] .colab-df-convert {\n",
              "      background-color: #3B4455;\n",
              "      fill: #D2E3FC;\n",
              "    }\n",
              "\n",
              "    [theme=dark] .colab-df-convert:hover {\n",
              "      background-color: #434B5C;\n",
              "      box-shadow: 0px 1px 3px 1px rgba(0, 0, 0, 0.15);\n",
              "      filter: drop-shadow(0px 1px 2px rgba(0, 0, 0, 0.3));\n",
              "      fill: #FFFFFF;\n",
              "    }\n",
              "  </style>\n",
              "\n",
              "      <script>\n",
              "        const buttonEl =\n",
              "          document.querySelector('#df-c1e4080e-342a-4d35-a5d0-c6b2bb7e6fa9 button.colab-df-convert');\n",
              "        buttonEl.style.display =\n",
              "          google.colab.kernel.accessAllowed ? 'block' : 'none';\n",
              "\n",
              "        async function convertToInteractive(key) {\n",
              "          const element = document.querySelector('#df-c1e4080e-342a-4d35-a5d0-c6b2bb7e6fa9');\n",
              "          const dataTable =\n",
              "            await google.colab.kernel.invokeFunction('convertToInteractive',\n",
              "                                                     [key], {});\n",
              "          if (!dataTable) return;\n",
              "\n",
              "          const docLinkHtml = 'Like what you see? Visit the ' +\n",
              "            '<a target=\"_blank\" href=https://colab.research.google.com/notebooks/data_table.ipynb>data table notebook</a>'\n",
              "            + ' to learn more about interactive tables.';\n",
              "          element.innerHTML = '';\n",
              "          dataTable['output_type'] = 'display_data';\n",
              "          await google.colab.output.renderOutput(dataTable, element);\n",
              "          const docLink = document.createElement('div');\n",
              "          docLink.innerHTML = docLinkHtml;\n",
              "          element.appendChild(docLink);\n",
              "        }\n",
              "      </script>\n",
              "    </div>\n",
              "  </div>\n",
              "  "
            ]
          },
          "metadata": {},
          "execution_count": 41
        }
      ]
    },
    {
      "cell_type": "code",
      "source": [
        "# Atrasos percentuais por dia da semana\n",
        "plt.figure(figsize=(8,6))\n",
        "plt.title('Atrasos (%) por dia da semana', fontweight='bold', fontsize=20, pad=20)\n",
        "sns.barplot(data=dfa3, x=dfa3.index, y='Percentual de atrasos');"
      ],
      "metadata": {
        "colab": {
          "base_uri": "https://localhost:8080/",
          "height": 415
        },
        "id": "X6MOZOufWQnB",
        "outputId": "7690a5ac-7da6-4719-95b8-66d0f8c27781"
      },
      "execution_count": null,
      "outputs": [
        {
          "output_type": "display_data",
          "data": {
            "text/plain": [
              "<Figure size 576x432 with 1 Axes>"
            ],
            "image/png": "[encoded data removed]"
          },
          "metadata": {
            "needs_background": "light"
          }
        }
      ]
    },
    {
      "cell_type": "markdown",
      "source": [
        "Percebe-se que os finais de semana são as datas com mais atrasos em termos percentuais."
      ],
      "metadata": {
        "id": "9GAf8zUhXGXy"
      }
    },
    {
      "cell_type": "code",
      "source": [
        "df_util = df_util.drop(['week_day'],axis=1)\n",
        "df = df_util.copy()"
      ],
      "metadata": {
        "id": "W99gab0olNKU"
      },
      "execution_count": null,
      "outputs": []
    },
    {
      "cell_type": "code",
      "source": [
        "df['final_semana'].value_counts()"
      ],
      "metadata": {
        "colab": {
          "base_uri": "https://localhost:8080/"
        },
        "id": "gilfk251lRh7",
        "outputId": "7718534b-31bd-4c0b-c51d-7dd2083c2b55"
      },
      "execution_count": null,
      "outputs": [
        {
          "output_type": "execute_result",
          "data": {
            "text/plain": [
              "0    1735\n",
              "1      60\n",
              "Name: final_semana, dtype: int64"
            ]
          },
          "metadata": {},
          "execution_count": 44
        }
      ]
    },
    {
      "cell_type": "markdown",
      "source": [
        "### Criando variável de complexidade do pedido"
      ],
      "metadata": {
        "id": "8NiB8fFNigCR"
      }
    },
    {
      "cell_type": "markdown",
      "source": [
        "**Variável complexidade:** a ideia aqui é que a diferença entre o prazo estipulado para entrega e a data que o pedido foi feito nos mostre uma medida do quão complexo é o preparo do pedido. Isso pode ser uma variável que vai impactar na logística. "
      ],
      "metadata": {
        "id": "-mFCyKFciQe0"
      }
    },
    {
      "cell_type": "code",
      "source": [
        "df['complexidade'] = (df['due_date'] - df['order_date'])"
      ],
      "metadata": {
        "id": "Y6YUf-eqHGFc"
      },
      "execution_count": null,
      "outputs": []
    },
    {
      "cell_type": "code",
      "source": [
        "df.head()"
      ],
      "metadata": {
        "colab": {
          "base_uri": "https://localhost:8080/",
          "height": 337
        },
        "id": "RFGBbuRhHIIX",
        "outputId": "ce793892-58e7-464f-ee12-d12ac5ffd7c7"
      },
      "execution_count": null,
      "outputs": [
        {
          "output_type": "execute_result",
          "data": {
            "text/plain": [
              "   id   price          order_date            due_date            opt_date  \\\n",
              "0   0  107.78 2022-02-25 20:46:25 2022-03-02 23:59:59 2022-02-28 20:35:20   \n",
              "1   1    7.47 2022-02-23 20:34:59 2022-02-24 23:59:59 2022-02-24 09:56:23   \n",
              "2   2    5.98 2022-02-23 20:35:19 2022-02-24 23:59:59 2022-02-23 20:29:38   \n",
              "3   3    5.98 2022-02-10 14:34:37 2022-02-17 23:59:59 2022-02-17 07:47:49   \n",
              "4   4    5.98 2022-02-23 20:35:05 2022-02-24 23:59:59 2022-02-23 20:28:40   \n",
              "\n",
              "        delivery_date  cidade_origem_id  regiao_origem_id  cidade_destino_id  \\\n",
              "0 2022-03-02 18:03:33                 2                 1                 25   \n",
              "1 2022-02-24 15:52:40                 2                 1                 16   \n",
              "2 2022-02-24 22:55:38                 2                 1                 88   \n",
              "3 2022-02-17 14:23:12                 2                 1                 21   \n",
              "4 2022-02-24 12:08:00                 2                 1                 25   \n",
              "\n",
              "   regiao_destino_id   peso   delivery_time  delay  final_semana  \\\n",
              "0                  1   23.8 4 days 21:17:08      0             0   \n",
              "1                  4  536.0 0 days 19:17:41      0             0   \n",
              "2                  1  202.0 1 days 02:20:19      0             0   \n",
              "3                  1  441.0 6 days 23:48:35      0             0   \n",
              "4                  1  316.0 0 days 15:32:55      0             0   \n",
              "\n",
              "     complexidade  \n",
              "0 5 days 03:13:34  \n",
              "1 1 days 03:25:00  \n",
              "2 1 days 03:24:40  \n",
              "3 7 days 09:25:22  \n",
              "4 1 days 03:24:54  "
            ],
            "text/html": [
              "\n",
              "  <div id=\"df-4fed47f2-e9bd-4c4e-a5d4-125180165383\">\n",
              "    <div class=\"colab-df-container\">\n",
              "      <div>\n",
              "<style scoped>\n",
              "    .dataframe tbody tr th:only-of-type {\n",
              "        vertical-align: middle;\n",
              "    }\n",
              "\n",
              "    .dataframe tbody tr th {\n",
              "        vertical-align: top;\n",
              "    }\n",
              "\n",
              "    .dataframe thead th {\n",
              "        text-align: right;\n",
              "    }\n",
              "</style>\n",
              "<table border=\"1\" class=\"dataframe\">\n",
              "  <thead>\n",
              "    <tr style=\"text-align: right;\">\n",
              "      <th></th>\n",
              "      <th>id</th>\n",
              "      <th>price</th>\n",
              "      <th>order_date</th>\n",
              "      <th>due_date</th>\n",
              "      <th>opt_date</th>\n",
              "      <th>delivery_date</th>\n",
              "      <th>cidade_origem_id</th>\n",
              "      <th>regiao_origem_id</th>\n",
              "      <th>cidade_destino_id</th>\n",
              "      <th>regiao_destino_id</th>\n",
              "      <th>peso</th>\n",
              "      <th>delivery_time</th>\n",
              "      <th>delay</th>\n",
              "      <th>final_semana</th>\n",
              "      <th>complexidade</th>\n",
              "    </tr>\n",
              "  </thead>\n",
              "  <tbody>\n",
              "    <tr>\n",
              "      <th>0</th>\n",
              "      <td>0</td>\n",
              "      <td>107.78</td>\n",
              "      <td>2022-02-25 20:46:25</td>\n",
              "      <td>2022-03-02 23:59:59</td>\n",
              "      <td>2022-02-28 20:35:20</td>\n",
              "      <td>2022-03-02 18:03:33</td>\n",
              "      <td>2</td>\n",
              "      <td>1</td>\n",
              "      <td>25</td>\n",
              "      <td>1</td>\n",
              "      <td>23.8</td>\n",
              "      <td>4 days 21:17:08</td>\n",
              "      <td>0</td>\n",
              "      <td>0</td>\n",
              "      <td>5 days 03:13:34</td>\n",
              "    </tr>\n",
              "    <tr>\n",
              "      <th>1</th>\n",
              "      <td>1</td>\n",
              "      <td>7.47</td>\n",
              "      <td>2022-02-23 20:34:59</td>\n",
              "      <td>2022-02-24 23:59:59</td>\n",
              "      <td>2022-02-24 09:56:23</td>\n",
              "      <td>2022-02-24 15:52:40</td>\n",
              "      <td>2</td>\n",
              "      <td>1</td>\n",
              "      <td>16</td>\n",
              "      <td>4</td>\n",
              "      <td>536.0</td>\n",
              "      <td>0 days 19:17:41</td>\n",
              "      <td>0</td>\n",
              "      <td>0</td>\n",
              "      <td>1 days 03:25:00</td>\n",
              "    </tr>\n",
              "    <tr>\n",
              "      <th>2</th>\n",
              "      <td>2</td>\n",
              "      <td>5.98</td>\n",
              "      <td>2022-02-23 20:35:19</td>\n",
              "      <td>2022-02-24 23:59:59</td>\n",
              "      <td>2022-02-23 20:29:38</td>\n",
              "      <td>2022-02-24 22:55:38</td>\n",
              "      <td>2</td>\n",
              "      <td>1</td>\n",
              "      <td>88</td>\n",
              "      <td>1</td>\n",
              "      <td>202.0</td>\n",
              "      <td>1 days 02:20:19</td>\n",
              "      <td>0</td>\n",
              "      <td>0</td>\n",
              "      <td>1 days 03:24:40</td>\n",
              "    </tr>\n",
              "    <tr>\n",
              "      <th>3</th>\n",
              "      <td>3</td>\n",
              "      <td>5.98</td>\n",
              "      <td>2022-02-10 14:34:37</td>\n",
              "      <td>2022-02-17 23:59:59</td>\n",
              "      <td>2022-02-17 07:47:49</td>\n",
              "      <td>2022-02-17 14:23:12</td>\n",
              "      <td>2</td>\n",
              "      <td>1</td>\n",
              "      <td>21</td>\n",
              "      <td>1</td>\n",
              "      <td>441.0</td>\n",
              "      <td>6 days 23:48:35</td>\n",
              "      <td>0</td>\n",
              "      <td>0</td>\n",
              "      <td>7 days 09:25:22</td>\n",
              "    </tr>\n",
              "    <tr>\n",
              "      <th>4</th>\n",
              "      <td>4</td>\n",
              "      <td>5.98</td>\n",
              "      <td>2022-02-23 20:35:05</td>\n",
              "      <td>2022-02-24 23:59:59</td>\n",
              "      <td>2022-02-23 20:28:40</td>\n",
              "      <td>2022-02-24 12:08:00</td>\n",
              "      <td>2</td>\n",
              "      <td>1</td>\n",
              "      <td>25</td>\n",
              "      <td>1</td>\n",
              "      <td>316.0</td>\n",
              "      <td>0 days 15:32:55</td>\n",
              "      <td>0</td>\n",
              "      <td>0</td>\n",
              "      <td>1 days 03:24:54</td>\n",
              "    </tr>\n",
              "  </tbody>\n",
              "</table>\n",
              "</div>\n",
              "      <button class=\"colab-df-convert\" onclick=\"convertToInteractive('df-4fed47f2-e9bd-4c4e-a5d4-125180165383')\"\n",
              "              title=\"Convert this dataframe to an interactive table.\"\n",
              "              style=\"display:none;\">\n",
              "        \n",
              "  <svg xmlns=\"http://www.w3.org/2000/svg\" height=\"24px\"viewBox=\"0 0 24 24\"\n",
              "       width=\"24px\">\n",
              "    <path d=\"M0 0h24v24H0V0z\" fill=\"none\"/>\n",
              "    <path d=\"M18.56 5.44l.94 2.06.94-2.06 2.06-.94-2.06-.94-.94-2.06-.94 2.06-2.06.94zm-11 1L8.5 8.5l.94-2.06 2.06-.94-2.06-.94L8.5 2.5l-.94 2.06-2.06.94zm10 10l.94 2.06.94-2.06 2.06-.94-2.06-.94-.94-2.06-.94 2.06-2.06.94z\"/><path d=\"M17.41 7.96l-1.37-1.37c-.4-.4-.92-.59-1.43-.59-.52 0-1.04.2-1.43.59L10.3 9.45l-7.72 7.72c-.78.78-.78 2.05 0 2.83L4 21.41c.39.39.9.59 1.41.59.51 0 1.02-.2 1.41-.59l7.78-7.78 2.81-2.81c.8-.78.8-2.07 0-2.86zM5.41 20L4 18.59l7.72-7.72 1.47 1.35L5.41 20z\"/>\n",
              "  </svg>\n",
              "      </button>\n",
              "      \n",
              "  <style>\n",
              "    .colab-df-container {\n",
              "      display:flex;\n",
              "      flex-wrap:wrap;\n",
              "      gap: 12px;\n",
              "    }\n",
              "\n",
              "    .colab-df-convert {\n",
              "      background-color: #E8F0FE;\n",
              "      border: none;\n",
              "      border-radius: 50%;\n",
              "      cursor: pointer;\n",
              "      display: none;\n",
              "      fill: #1967D2;\n",
              "      height: 32px;\n",
              "      padding: 0 0 0 0;\n",
              "      width: 32px;\n",
              "    }\n",
              "\n",
              "    .colab-df-convert:hover {\n",
              "      background-color: #E2EBFA;\n",
              "      box-shadow: 0px 1px 2px rgba(60, 64, 67, 0.3), 0px 1px 3px 1px rgba(60, 64, 67, 0.15);\n",
              "      fill: #174EA6;\n",
              "    }\n",
              "\n",
              "    [theme=dark] .colab-df-convert {\n",
              "      background-color: #3B4455;\n",
              "      fill: #D2E3FC;\n",
              "    }\n",
              "\n",
              "    [theme=dark] .colab-df-convert:hover {\n",
              "      background-color: #434B5C;\n",
              "      box-shadow: 0px 1px 3px 1px rgba(0, 0, 0, 0.15);\n",
              "      filter: drop-shadow(0px 1px 2px rgba(0, 0, 0, 0.3));\n",
              "      fill: #FFFFFF;\n",
              "    }\n",
              "  </style>\n",
              "\n",
              "      <script>\n",
              "        const buttonEl =\n",
              "          document.querySelector('#df-4fed47f2-e9bd-4c4e-a5d4-125180165383 button.colab-df-convert');\n",
              "        buttonEl.style.display =\n",
              "          google.colab.kernel.accessAllowed ? 'block' : 'none';\n",
              "\n",
              "        async function convertToInteractive(key) {\n",
              "          const element = document.querySelector('#df-4fed47f2-e9bd-4c4e-a5d4-125180165383');\n",
              "          const dataTable =\n",
              "            await google.colab.kernel.invokeFunction('convertToInteractive',\n",
              "                                                     [key], {});\n",
              "          if (!dataTable) return;\n",
              "\n",
              "          const docLinkHtml = 'Like what you see? Visit the ' +\n",
              "            '<a target=\"_blank\" href=https://colab.research.google.com/notebooks/data_table.ipynb>data table notebook</a>'\n",
              "            + ' to learn more about interactive tables.';\n",
              "          element.innerHTML = '';\n",
              "          dataTable['output_type'] = 'display_data';\n",
              "          await google.colab.output.renderOutput(dataTable, element);\n",
              "          const docLink = document.createElement('div');\n",
              "          docLink.innerHTML = docLinkHtml;\n",
              "          element.appendChild(docLink);\n",
              "        }\n",
              "      </script>\n",
              "    </div>\n",
              "  </div>\n",
              "  "
            ]
          },
          "metadata": {},
          "execution_count": 46
        }
      ]
    },
    {
      "cell_type": "markdown",
      "source": [
        "A variável complexidade está em formato datetime. É necessário transformar ela em float (minutos) para podermos utilizar no modelo. Antes disso, ela será transformada novamente em string para poder realizar a transformação em minutos de forma mais fácil. Esse processo também será feito com a variável delivery_time. Antes disso, será realizada a transformação de variáveis de região com one hot encoding."
      ],
      "metadata": {
        "id": "_aG3e6Llivp5"
      }
    },
    {
      "cell_type": "markdown",
      "source": [
        "### One Hot Encoding da região_destino_id e regiao_origem_id"
      ],
      "metadata": {
        "id": "DGuN0DcGjLys"
      }
    },
    {
      "cell_type": "code",
      "source": [
        "# One hot encoding em regiao_destino_id, regiao_origem_id\n",
        "\n",
        "df_regiaodestino = pd.get_dummies(df['regiao_destino_id'], prefix='regiao_destino', drop_first=True)\n",
        "df_regiaoorigem = pd.get_dummies(df['regiao_origem_id'], prefix='regiao_origem', drop_first=True)"
      ],
      "metadata": {
        "id": "kS-EA2gcRhgO"
      },
      "execution_count": null,
      "outputs": []
    },
    {
      "cell_type": "code",
      "source": [
        "df_final1 = pd.merge(left=df, right=df_regiaodestino, left_index=True, right_index=True)\n",
        "df_final2 = pd.merge(left=df_final1, right=df_regiaoorigem, left_index=True, right_index=True)\n",
        "\n",
        "df_final2.head()"
      ],
      "metadata": {
        "id": "CNz5UsnPRxEW",
        "colab": {
          "base_uri": "https://localhost:8080/",
          "height": 444
        },
        "outputId": "2224ccfb-3b35-4a3a-fd8b-fc6a2563c653"
      },
      "execution_count": null,
      "outputs": [
        {
          "output_type": "execute_result",
          "data": {
            "text/plain": [
              "   id   price          order_date            due_date            opt_date  \\\n",
              "0   0  107.78 2022-02-25 20:46:25 2022-03-02 23:59:59 2022-02-28 20:35:20   \n",
              "1   1    7.47 2022-02-23 20:34:59 2022-02-24 23:59:59 2022-02-24 09:56:23   \n",
              "2   2    5.98 2022-02-23 20:35:19 2022-02-24 23:59:59 2022-02-23 20:29:38   \n",
              "3   3    5.98 2022-02-10 14:34:37 2022-02-17 23:59:59 2022-02-17 07:47:49   \n",
              "4   4    5.98 2022-02-23 20:35:05 2022-02-24 23:59:59 2022-02-23 20:28:40   \n",
              "\n",
              "        delivery_date  cidade_origem_id  regiao_origem_id  cidade_destino_id  \\\n",
              "0 2022-03-02 18:03:33                 2                 1                 25   \n",
              "1 2022-02-24 15:52:40                 2                 1                 16   \n",
              "2 2022-02-24 22:55:38                 2                 1                 88   \n",
              "3 2022-02-17 14:23:12                 2                 1                 21   \n",
              "4 2022-02-24 12:08:00                 2                 1                 25   \n",
              "\n",
              "   regiao_destino_id   peso   delivery_time  delay  final_semana  \\\n",
              "0                  1   23.8 4 days 21:17:08      0             0   \n",
              "1                  4  536.0 0 days 19:17:41      0             0   \n",
              "2                  1  202.0 1 days 02:20:19      0             0   \n",
              "3                  1  441.0 6 days 23:48:35      0             0   \n",
              "4                  1  316.0 0 days 15:32:55      0             0   \n",
              "\n",
              "     complexidade  regiao_destino_2  regiao_destino_4  regiao_origem_2  \\\n",
              "0 5 days 03:13:34                 0                 0                0   \n",
              "1 1 days 03:25:00                 0                 1                0   \n",
              "2 1 days 03:24:40                 0                 0                0   \n",
              "3 7 days 09:25:22                 0                 0                0   \n",
              "4 1 days 03:24:54                 0                 0                0   \n",
              "\n",
              "   regiao_origem_3  \n",
              "0                0  \n",
              "1                0  \n",
              "2                0  \n",
              "3                0  \n",
              "4                0  "
            ],
            "text/html": [
              "\n",
              "  <div id=\"df-da71b437-3596-4ad3-8cb6-3decafeb7c6e\">\n",
              "    <div class=\"colab-df-container\">\n",
              "      <div>\n",
              "<style scoped>\n",
              "    .dataframe tbody tr th:only-of-type {\n",
              "        vertical-align: middle;\n",
              "    }\n",
              "\n",
              "    .dataframe tbody tr th {\n",
              "        vertical-align: top;\n",
              "    }\n",
              "\n",
              "    .dataframe thead th {\n",
              "        text-align: right;\n",
              "    }\n",
              "</style>\n",
              "<table border=\"1\" class=\"dataframe\">\n",
              "  <thead>\n",
              "    <tr style=\"text-align: right;\">\n",
              "      <th></th>\n",
              "      <th>id</th>\n",
              "      <th>price</th>\n",
              "      <th>order_date</th>\n",
              "      <th>due_date</th>\n",
              "      <th>opt_date</th>\n",
              "      <th>delivery_date</th>\n",
              "      <th>cidade_origem_id</th>\n",
              "      <th>regiao_origem_id</th>\n",
              "      <th>cidade_destino_id</th>\n",
              "      <th>regiao_destino_id</th>\n",
              "      <th>peso</th>\n",
              "      <th>delivery_time</th>\n",
              "      <th>delay</th>\n",
              "      <th>final_semana</th>\n",
              "      <th>complexidade</th>\n",
              "      <th>regiao_destino_2</th>\n",
              "      <th>regiao_destino_4</th>\n",
              "      <th>regiao_origem_2</th>\n",
              "      <th>regiao_origem_3</th>\n",
              "    </tr>\n",
              "  </thead>\n",
              "  <tbody>\n",
              "    <tr>\n",
              "      <th>0</th>\n",
              "      <td>0</td>\n",
              "      <td>107.78</td>\n",
              "      <td>2022-02-25 20:46:25</td>\n",
              "      <td>2022-03-02 23:59:59</td>\n",
              "      <td>2022-02-28 20:35:20</td>\n",
              "      <td>2022-03-02 18:03:33</td>\n",
              "      <td>2</td>\n",
              "      <td>1</td>\n",
              "      <td>25</td>\n",
              "      <td>1</td>\n",
              "      <td>23.8</td>\n",
              "      <td>4 days 21:17:08</td>\n",
              "      <td>0</td>\n",
              "      <td>0</td>\n",
              "      <td>5 days 03:13:34</td>\n",
              "      <td>0</td>\n",
              "      <td>0</td>\n",
              "      <td>0</td>\n",
              "      <td>0</td>\n",
              "    </tr>\n",
              "    <tr>\n",
              "      <th>1</th>\n",
              "      <td>1</td>\n",
              "      <td>7.47</td>\n",
              "      <td>2022-02-23 20:34:59</td>\n",
              "      <td>2022-02-24 23:59:59</td>\n",
              "      <td>2022-02-24 09:56:23</td>\n",
              "      <td>2022-02-24 15:52:40</td>\n",
              "      <td>2</td>\n",
              "      <td>1</td>\n",
              "      <td>16</td>\n",
              "      <td>4</td>\n",
              "      <td>536.0</td>\n",
              "      <td>0 days 19:17:41</td>\n",
              "      <td>0</td>\n",
              "      <td>0</td>\n",
              "      <td>1 days 03:25:00</td>\n",
              "      <td>0</td>\n",
              "      <td>1</td>\n",
              "      <td>0</td>\n",
              "      <td>0</td>\n",
              "    </tr>\n",
              "    <tr>\n",
              "      <th>2</th>\n",
              "      <td>2</td>\n",
              "      <td>5.98</td>\n",
              "      <td>2022-02-23 20:35:19</td>\n",
              "      <td>2022-02-24 23:59:59</td>\n",
              "      <td>2022-02-23 20:29:38</td>\n",
              "      <td>2022-02-24 22:55:38</td>\n",
              "      <td>2</td>\n",
              "      <td>1</td>\n",
              "      <td>88</td>\n",
              "      <td>1</td>\n",
              "      <td>202.0</td>\n",
              "      <td>1 days 02:20:19</td>\n",
              "      <td>0</td>\n",
              "      <td>0</td>\n",
              "      <td>1 days 03:24:40</td>\n",
              "      <td>0</td>\n",
              "      <td>0</td>\n",
              "      <td>0</td>\n",
              "      <td>0</td>\n",
              "    </tr>\n",
              "    <tr>\n",
              "      <th>3</th>\n",
              "      <td>3</td>\n",
              "      <td>5.98</td>\n",
              "      <td>2022-02-10 14:34:37</td>\n",
              "      <td>2022-02-17 23:59:59</td>\n",
              "      <td>2022-02-17 07:47:49</td>\n",
              "      <td>2022-02-17 14:23:12</td>\n",
              "      <td>2</td>\n",
              "      <td>1</td>\n",
              "      <td>21</td>\n",
              "      <td>1</td>\n",
              "      <td>441.0</td>\n",
              "      <td>6 days 23:48:35</td>\n",
              "      <td>0</td>\n",
              "      <td>0</td>\n",
              "      <td>7 days 09:25:22</td>\n",
              "      <td>0</td>\n",
              "      <td>0</td>\n",
              "      <td>0</td>\n",
              "      <td>0</td>\n",
              "    </tr>\n",
              "    <tr>\n",
              "      <th>4</th>\n",
              "      <td>4</td>\n",
              "      <td>5.98</td>\n",
              "      <td>2022-02-23 20:35:05</td>\n",
              "      <td>2022-02-24 23:59:59</td>\n",
              "      <td>2022-02-23 20:28:40</td>\n",
              "      <td>2022-02-24 12:08:00</td>\n",
              "      <td>2</td>\n",
              "      <td>1</td>\n",
              "      <td>25</td>\n",
              "      <td>1</td>\n",
              "      <td>316.0</td>\n",
              "      <td>0 days 15:32:55</td>\n",
              "      <td>0</td>\n",
              "      <td>0</td>\n",
              "      <td>1 days 03:24:54</td>\n",
              "      <td>0</td>\n",
              "      <td>0</td>\n",
              "      <td>0</td>\n",
              "      <td>0</td>\n",
              "    </tr>\n",
              "  </tbody>\n",
              "</table>\n",
              "</div>\n",
              "      <button class=\"colab-df-convert\" onclick=\"convertToInteractive('df-da71b437-3596-4ad3-8cb6-3decafeb7c6e')\"\n",
              "              title=\"Convert this dataframe to an interactive table.\"\n",
              "              style=\"display:none;\">\n",
              "        \n",
              "  <svg xmlns=\"http://www.w3.org/2000/svg\" height=\"24px\"viewBox=\"0 0 24 24\"\n",
              "       width=\"24px\">\n",
              "    <path d=\"M0 0h24v24H0V0z\" fill=\"none\"/>\n",
              "    <path d=\"M18.56 5.44l.94 2.06.94-2.06 2.06-.94-2.06-.94-.94-2.06-.94 2.06-2.06.94zm-11 1L8.5 8.5l.94-2.06 2.06-.94-2.06-.94L8.5 2.5l-.94 2.06-2.06.94zm10 10l.94 2.06.94-2.06 2.06-.94-2.06-.94-.94-2.06-.94 2.06-2.06.94z\"/><path d=\"M17.41 7.96l-1.37-1.37c-.4-.4-.92-.59-1.43-.59-.52 0-1.04.2-1.43.59L10.3 9.45l-7.72 7.72c-.78.78-.78 2.05 0 2.83L4 21.41c.39.39.9.59 1.41.59.51 0 1.02-.2 1.41-.59l7.78-7.78 2.81-2.81c.8-.78.8-2.07 0-2.86zM5.41 20L4 18.59l7.72-7.72 1.47 1.35L5.41 20z\"/>\n",
              "  </svg>\n",
              "      </button>\n",
              "      \n",
              "  <style>\n",
              "    .colab-df-container {\n",
              "      display:flex;\n",
              "      flex-wrap:wrap;\n",
              "      gap: 12px;\n",
              "    }\n",
              "\n",
              "    .colab-df-convert {\n",
              "      background-color: #E8F0FE;\n",
              "      border: none;\n",
              "      border-radius: 50%;\n",
              "      cursor: pointer;\n",
              "      display: none;\n",
              "      fill: #1967D2;\n",
              "      height: 32px;\n",
              "      padding: 0 0 0 0;\n",
              "      width: 32px;\n",
              "    }\n",
              "\n",
              "    .colab-df-convert:hover {\n",
              "      background-color: #E2EBFA;\n",
              "      box-shadow: 0px 1px 2px rgba(60, 64, 67, 0.3), 0px 1px 3px 1px rgba(60, 64, 67, 0.15);\n",
              "      fill: #174EA6;\n",
              "    }\n",
              "\n",
              "    [theme=dark] .colab-df-convert {\n",
              "      background-color: #3B4455;\n",
              "      fill: #D2E3FC;\n",
              "    }\n",
              "\n",
              "    [theme=dark] .colab-df-convert:hover {\n",
              "      background-color: #434B5C;\n",
              "      box-shadow: 0px 1px 3px 1px rgba(0, 0, 0, 0.15);\n",
              "      filter: drop-shadow(0px 1px 2px rgba(0, 0, 0, 0.3));\n",
              "      fill: #FFFFFF;\n",
              "    }\n",
              "  </style>\n",
              "\n",
              "      <script>\n",
              "        const buttonEl =\n",
              "          document.querySelector('#df-da71b437-3596-4ad3-8cb6-3decafeb7c6e button.colab-df-convert');\n",
              "        buttonEl.style.display =\n",
              "          google.colab.kernel.accessAllowed ? 'block' : 'none';\n",
              "\n",
              "        async function convertToInteractive(key) {\n",
              "          const element = document.querySelector('#df-da71b437-3596-4ad3-8cb6-3decafeb7c6e');\n",
              "          const dataTable =\n",
              "            await google.colab.kernel.invokeFunction('convertToInteractive',\n",
              "                                                     [key], {});\n",
              "          if (!dataTable) return;\n",
              "\n",
              "          const docLinkHtml = 'Like what you see? Visit the ' +\n",
              "            '<a target=\"_blank\" href=https://colab.research.google.com/notebooks/data_table.ipynb>data table notebook</a>'\n",
              "            + ' to learn more about interactive tables.';\n",
              "          element.innerHTML = '';\n",
              "          dataTable['output_type'] = 'display_data';\n",
              "          await google.colab.output.renderOutput(dataTable, element);\n",
              "          const docLink = document.createElement('div');\n",
              "          docLink.innerHTML = docLinkHtml;\n",
              "          element.appendChild(docLink);\n",
              "        }\n",
              "      </script>\n",
              "    </div>\n",
              "  </div>\n",
              "  "
            ]
          },
          "metadata": {},
          "execution_count": 48
        }
      ]
    },
    {
      "cell_type": "markdown",
      "source": [
        "**df_final2: df com onehot em regioes de destino e origem, mas sem apagar as variáveis originais (sem dummificação)**"
      ],
      "metadata": {
        "id": "-khfid3ayKhS"
      }
    },
    {
      "cell_type": "markdown",
      "source": [
        "### Normalização de variáveis "
      ],
      "metadata": {
        "id": "4b2Uyt9Jjohc"
      }
    },
    {
      "cell_type": "code",
      "source": [
        "# Normalizando price e peso \n",
        "peso = df_final2['peso'].values.reshape(-1,1)\n",
        "price = df_final2['price'].values.reshape(-1,1)\n",
        "\n",
        "Scaler = StandardScaler()\n",
        "peso_norm = Scaler.fit_transform(peso)\n",
        "price_norm = Scaler.fit_transform(price)"
      ],
      "metadata": {
        "id": "9uTcTz1zTksD"
      },
      "execution_count": null,
      "outputs": []
    },
    {
      "cell_type": "code",
      "source": [
        "# Adicionando variáveis normalizadas no dataframe\n",
        "df_final2['peso_norm'] = peso_norm\n",
        "df_final2['price_norm'] = price_norm"
      ],
      "metadata": {
        "id": "4WAZfJBcUusF"
      },
      "execution_count": null,
      "outputs": []
    },
    {
      "cell_type": "code",
      "source": [
        "df_final2.columns"
      ],
      "metadata": {
        "id": "mbJJEI5hclX-",
        "outputId": "bfd9fe82-f4ee-4f1a-ccb9-0aa73183aef3",
        "colab": {
          "base_uri": "https://localhost:8080/"
        }
      },
      "execution_count": null,
      "outputs": [
        {
          "output_type": "execute_result",
          "data": {
            "text/plain": [
              "Index(['id', 'price', 'order_date', 'due_date', 'opt_date', 'delivery_date',\n",
              "       'cidade_origem_id', 'regiao_origem_id', 'cidade_destino_id',\n",
              "       'regiao_destino_id', 'peso', 'delivery_time', 'delay', 'final_semana',\n",
              "       'complexidade', 'regiao_destino_2', 'regiao_destino_4',\n",
              "       'regiao_origem_2', 'regiao_origem_3', 'peso_norm', 'price_norm'],\n",
              "      dtype='object')"
            ]
          },
          "metadata": {},
          "execution_count": 51
        }
      ]
    },
    {
      "cell_type": "code",
      "source": [
        "# Apagando variáveis que forma normalizadas anteriormente\n",
        "df_final3 = df_final2.drop(columns=['regiao_origem_id', 'regiao_destino_id', 'price', 'peso'])\n",
        "df_final3.head()"
      ],
      "metadata": {
        "id": "cw6dRzFPSKVG",
        "colab": {
          "base_uri": "https://localhost:8080/",
          "height": 444
        },
        "outputId": "dafa5b97-ecb0-42c7-a582-d02f16b1f6c6"
      },
      "execution_count": null,
      "outputs": [
        {
          "output_type": "execute_result",
          "data": {
            "text/plain": [
              "   id          order_date            due_date            opt_date  \\\n",
              "0   0 2022-02-25 20:46:25 2022-03-02 23:59:59 2022-02-28 20:35:20   \n",
              "1   1 2022-02-23 20:34:59 2022-02-24 23:59:59 2022-02-24 09:56:23   \n",
              "2   2 2022-02-23 20:35:19 2022-02-24 23:59:59 2022-02-23 20:29:38   \n",
              "3   3 2022-02-10 14:34:37 2022-02-17 23:59:59 2022-02-17 07:47:49   \n",
              "4   4 2022-02-23 20:35:05 2022-02-24 23:59:59 2022-02-23 20:28:40   \n",
              "\n",
              "        delivery_date  cidade_origem_id  cidade_destino_id   delivery_time  \\\n",
              "0 2022-03-02 18:03:33                 2                 25 4 days 21:17:08   \n",
              "1 2022-02-24 15:52:40                 2                 16 0 days 19:17:41   \n",
              "2 2022-02-24 22:55:38                 2                 88 1 days 02:20:19   \n",
              "3 2022-02-17 14:23:12                 2                 21 6 days 23:48:35   \n",
              "4 2022-02-24 12:08:00                 2                 25 0 days 15:32:55   \n",
              "\n",
              "   delay  final_semana    complexidade  regiao_destino_2  regiao_destino_4  \\\n",
              "0      0             0 5 days 03:13:34                 0                 0   \n",
              "1      0             0 1 days 03:25:00                 0                 1   \n",
              "2      0             0 1 days 03:24:40                 0                 0   \n",
              "3      0             0 7 days 09:25:22                 0                 0   \n",
              "4      0             0 1 days 03:24:54                 0                 0   \n",
              "\n",
              "   regiao_origem_2  regiao_origem_3  peso_norm  price_norm  \n",
              "0                0                0  -0.228503    7.480177  \n",
              "1                0                0  -0.032939   -0.137851  \n",
              "2                0                0  -0.160464   -0.251008  \n",
              "3                0                0  -0.069211   -0.251008  \n",
              "4                0                0  -0.116938   -0.251008  "
            ],
            "text/html": [
              "\n",
              "  <div id=\"df-f3a2fbed-9bfe-4fc9-9d97-091fa4c27364\">\n",
              "    <div class=\"colab-df-container\">\n",
              "      <div>\n",
              "<style scoped>\n",
              "    .dataframe tbody tr th:only-of-type {\n",
              "        vertical-align: middle;\n",
              "    }\n",
              "\n",
              "    .dataframe tbody tr th {\n",
              "        vertical-align: top;\n",
              "    }\n",
              "\n",
              "    .dataframe thead th {\n",
              "        text-align: right;\n",
              "    }\n",
              "</style>\n",
              "<table border=\"1\" class=\"dataframe\">\n",
              "  <thead>\n",
              "    <tr style=\"text-align: right;\">\n",
              "      <th></th>\n",
              "      <th>id</th>\n",
              "      <th>order_date</th>\n",
              "      <th>due_date</th>\n",
              "      <th>opt_date</th>\n",
              "      <th>delivery_date</th>\n",
              "      <th>cidade_origem_id</th>\n",
              "      <th>cidade_destino_id</th>\n",
              "      <th>delivery_time</th>\n",
              "      <th>delay</th>\n",
              "      <th>final_semana</th>\n",
              "      <th>complexidade</th>\n",
              "      <th>regiao_destino_2</th>\n",
              "      <th>regiao_destino_4</th>\n",
              "      <th>regiao_origem_2</th>\n",
              "      <th>regiao_origem_3</th>\n",
              "      <th>peso_norm</th>\n",
              "      <th>price_norm</th>\n",
              "    </tr>\n",
              "  </thead>\n",
              "  <tbody>\n",
              "    <tr>\n",
              "      <th>0</th>\n",
              "      <td>0</td>\n",
              "      <td>2022-02-25 20:46:25</td>\n",
              "      <td>2022-03-02 23:59:59</td>\n",
              "      <td>2022-02-28 20:35:20</td>\n",
              "      <td>2022-03-02 18:03:33</td>\n",
              "      <td>2</td>\n",
              "      <td>25</td>\n",
              "      <td>4 days 21:17:08</td>\n",
              "      <td>0</td>\n",
              "      <td>0</td>\n",
              "      <td>5 days 03:13:34</td>\n",
              "      <td>0</td>\n",
              "      <td>0</td>\n",
              "      <td>0</td>\n",
              "      <td>0</td>\n",
              "      <td>-0.228503</td>\n",
              "      <td>7.480177</td>\n",
              "    </tr>\n",
              "    <tr>\n",
              "      <th>1</th>\n",
              "      <td>1</td>\n",
              "      <td>2022-02-23 20:34:59</td>\n",
              "      <td>2022-02-24 23:59:59</td>\n",
              "      <td>2022-02-24 09:56:23</td>\n",
              "      <td>2022-02-24 15:52:40</td>\n",
              "      <td>2</td>\n",
              "      <td>16</td>\n",
              "      <td>0 days 19:17:41</td>\n",
              "      <td>0</td>\n",
              "      <td>0</td>\n",
              "      <td>1 days 03:25:00</td>\n",
              "      <td>0</td>\n",
              "      <td>1</td>\n",
              "      <td>0</td>\n",
              "      <td>0</td>\n",
              "      <td>-0.032939</td>\n",
              "      <td>-0.137851</td>\n",
              "    </tr>\n",
              "    <tr>\n",
              "      <th>2</th>\n",
              "      <td>2</td>\n",
              "      <td>2022-02-23 20:35:19</td>\n",
              "      <td>2022-02-24 23:59:59</td>\n",
              "      <td>2022-02-23 20:29:38</td>\n",
              "      <td>2022-02-24 22:55:38</td>\n",
              "      <td>2</td>\n",
              "      <td>88</td>\n",
              "      <td>1 days 02:20:19</td>\n",
              "      <td>0</td>\n",
              "      <td>0</td>\n",
              "      <td>1 days 03:24:40</td>\n",
              "      <td>0</td>\n",
              "      <td>0</td>\n",
              "      <td>0</td>\n",
              "      <td>0</td>\n",
              "      <td>-0.160464</td>\n",
              "      <td>-0.251008</td>\n",
              "    </tr>\n",
              "    <tr>\n",
              "      <th>3</th>\n",
              "      <td>3</td>\n",
              "      <td>2022-02-10 14:34:37</td>\n",
              "      <td>2022-02-17 23:59:59</td>\n",
              "      <td>2022-02-17 07:47:49</td>\n",
              "      <td>2022-02-17 14:23:12</td>\n",
              "      <td>2</td>\n",
              "      <td>21</td>\n",
              "      <td>6 days 23:48:35</td>\n",
              "      <td>0</td>\n",
              "      <td>0</td>\n",
              "      <td>7 days 09:25:22</td>\n",
              "      <td>0</td>\n",
              "      <td>0</td>\n",
              "      <td>0</td>\n",
              "      <td>0</td>\n",
              "      <td>-0.069211</td>\n",
              "      <td>-0.251008</td>\n",
              "    </tr>\n",
              "    <tr>\n",
              "      <th>4</th>\n",
              "      <td>4</td>\n",
              "      <td>2022-02-23 20:35:05</td>\n",
              "      <td>2022-02-24 23:59:59</td>\n",
              "      <td>2022-02-23 20:28:40</td>\n",
              "      <td>2022-02-24 12:08:00</td>\n",
              "      <td>2</td>\n",
              "      <td>25</td>\n",
              "      <td>0 days 15:32:55</td>\n",
              "      <td>0</td>\n",
              "      <td>0</td>\n",
              "      <td>1 days 03:24:54</td>\n",
              "      <td>0</td>\n",
              "      <td>0</td>\n",
              "      <td>0</td>\n",
              "      <td>0</td>\n",
              "      <td>-0.116938</td>\n",
              "      <td>-0.251008</td>\n",
              "    </tr>\n",
              "  </tbody>\n",
              "</table>\n",
              "</div>\n",
              "      <button class=\"colab-df-convert\" onclick=\"convertToInteractive('df-f3a2fbed-9bfe-4fc9-9d97-091fa4c27364')\"\n",
              "              title=\"Convert this dataframe to an interactive table.\"\n",
              "              style=\"display:none;\">\n",
              "        \n",
              "  <svg xmlns=\"http://www.w3.org/2000/svg\" height=\"24px\"viewBox=\"0 0 24 24\"\n",
              "       width=\"24px\">\n",
              "    <path d=\"M0 0h24v24H0V0z\" fill=\"none\"/>\n",
              "    <path d=\"M18.56 5.44l.94 2.06.94-2.06 2.06-.94-2.06-.94-.94-2.06-.94 2.06-2.06.94zm-11 1L8.5 8.5l.94-2.06 2.06-.94-2.06-.94L8.5 2.5l-.94 2.06-2.06.94zm10 10l.94 2.06.94-2.06 2.06-.94-2.06-.94-.94-2.06-.94 2.06-2.06.94z\"/><path d=\"M17.41 7.96l-1.37-1.37c-.4-.4-.92-.59-1.43-.59-.52 0-1.04.2-1.43.59L10.3 9.45l-7.72 7.72c-.78.78-.78 2.05 0 2.83L4 21.41c.39.39.9.59 1.41.59.51 0 1.02-.2 1.41-.59l7.78-7.78 2.81-2.81c.8-.78.8-2.07 0-2.86zM5.41 20L4 18.59l7.72-7.72 1.47 1.35L5.41 20z\"/>\n",
              "  </svg>\n",
              "      </button>\n",
              "      \n",
              "  <style>\n",
              "    .colab-df-container {\n",
              "      display:flex;\n",
              "      flex-wrap:wrap;\n",
              "      gap: 12px;\n",
              "    }\n",
              "\n",
              "    .colab-df-convert {\n",
              "      background-color: #E8F0FE;\n",
              "      border: none;\n",
              "      border-radius: 50%;\n",
              "      cursor: pointer;\n",
              "      display: none;\n",
              "      fill: #1967D2;\n",
              "      height: 32px;\n",
              "      padding: 0 0 0 0;\n",
              "      width: 32px;\n",
              "    }\n",
              "\n",
              "    .colab-df-convert:hover {\n",
              "      background-color: #E2EBFA;\n",
              "      box-shadow: 0px 1px 2px rgba(60, 64, 67, 0.3), 0px 1px 3px 1px rgba(60, 64, 67, 0.15);\n",
              "      fill: #174EA6;\n",
              "    }\n",
              "\n",
              "    [theme=dark] .colab-df-convert {\n",
              "      background-color: #3B4455;\n",
              "      fill: #D2E3FC;\n",
              "    }\n",
              "\n",
              "    [theme=dark] .colab-df-convert:hover {\n",
              "      background-color: #434B5C;\n",
              "      box-shadow: 0px 1px 3px 1px rgba(0, 0, 0, 0.15);\n",
              "      filter: drop-shadow(0px 1px 2px rgba(0, 0, 0, 0.3));\n",
              "      fill: #FFFFFF;\n",
              "    }\n",
              "  </style>\n",
              "\n",
              "      <script>\n",
              "        const buttonEl =\n",
              "          document.querySelector('#df-f3a2fbed-9bfe-4fc9-9d97-091fa4c27364 button.colab-df-convert');\n",
              "        buttonEl.style.display =\n",
              "          google.colab.kernel.accessAllowed ? 'block' : 'none';\n",
              "\n",
              "        async function convertToInteractive(key) {\n",
              "          const element = document.querySelector('#df-f3a2fbed-9bfe-4fc9-9d97-091fa4c27364');\n",
              "          const dataTable =\n",
              "            await google.colab.kernel.invokeFunction('convertToInteractive',\n",
              "                                                     [key], {});\n",
              "          if (!dataTable) return;\n",
              "\n",
              "          const docLinkHtml = 'Like what you see? Visit the ' +\n",
              "            '<a target=\"_blank\" href=https://colab.research.google.com/notebooks/data_table.ipynb>data table notebook</a>'\n",
              "            + ' to learn more about interactive tables.';\n",
              "          element.innerHTML = '';\n",
              "          dataTable['output_type'] = 'display_data';\n",
              "          await google.colab.output.renderOutput(dataTable, element);\n",
              "          const docLink = document.createElement('div');\n",
              "          docLink.innerHTML = docLinkHtml;\n",
              "          element.appendChild(docLink);\n",
              "        }\n",
              "      </script>\n",
              "    </div>\n",
              "  </div>\n",
              "  "
            ]
          },
          "metadata": {},
          "execution_count": 52
        }
      ]
    },
    {
      "cell_type": "markdown",
      "source": [
        "### Transformando as variáveis de data em minutos"
      ],
      "metadata": {
        "id": "-IbEoPmwkeJu"
      }
    },
    {
      "cell_type": "code",
      "source": [
        "df_cidades_aux = df_final3.copy()"
      ],
      "metadata": {
        "id": "i_b2sgae8mp2"
      },
      "execution_count": null,
      "outputs": []
    },
    {
      "cell_type": "code",
      "source": [
        "df_cidades_aux.head(3)"
      ],
      "metadata": {
        "colab": {
          "base_uri": "https://localhost:8080/",
          "height": 312
        },
        "id": "dGQ_uzt2kw_B",
        "outputId": "520d6218-653b-4ac4-d866-b237926a2a72"
      },
      "execution_count": null,
      "outputs": [
        {
          "output_type": "execute_result",
          "data": {
            "text/plain": [
              "   id          order_date            due_date            opt_date  \\\n",
              "0   0 2022-02-25 20:46:25 2022-03-02 23:59:59 2022-02-28 20:35:20   \n",
              "1   1 2022-02-23 20:34:59 2022-02-24 23:59:59 2022-02-24 09:56:23   \n",
              "2   2 2022-02-23 20:35:19 2022-02-24 23:59:59 2022-02-23 20:29:38   \n",
              "\n",
              "        delivery_date  cidade_origem_id  cidade_destino_id   delivery_time  \\\n",
              "0 2022-03-02 18:03:33                 2                 25 4 days 21:17:08   \n",
              "1 2022-02-24 15:52:40                 2                 16 0 days 19:17:41   \n",
              "2 2022-02-24 22:55:38                 2                 88 1 days 02:20:19   \n",
              "\n",
              "   delay  final_semana    complexidade  regiao_destino_2  regiao_destino_4  \\\n",
              "0      0             0 5 days 03:13:34                 0                 0   \n",
              "1      0             0 1 days 03:25:00                 0                 1   \n",
              "2      0             0 1 days 03:24:40                 0                 0   \n",
              "\n",
              "   regiao_origem_2  regiao_origem_3  peso_norm  price_norm  \n",
              "0                0                0  -0.228503    7.480177  \n",
              "1                0                0  -0.032939   -0.137851  \n",
              "2                0                0  -0.160464   -0.251008  "
            ],
            "text/html": [
              "\n",
              "  <div id=\"df-a056f2e3-8a1b-4adc-81bb-fb8fccf407f7\">\n",
              "    <div class=\"colab-df-container\">\n",
              "      <div>\n",
              "<style scoped>\n",
              "    .dataframe tbody tr th:only-of-type {\n",
              "        vertical-align: middle;\n",
              "    }\n",
              "\n",
              "    .dataframe tbody tr th {\n",
              "        vertical-align: top;\n",
              "    }\n",
              "\n",
              "    .dataframe thead th {\n",
              "        text-align: right;\n",
              "    }\n",
              "</style>\n",
              "<table border=\"1\" class=\"dataframe\">\n",
              "  <thead>\n",
              "    <tr style=\"text-align: right;\">\n",
              "      <th></th>\n",
              "      <th>id</th>\n",
              "      <th>order_date</th>\n",
              "      <th>due_date</th>\n",
              "      <th>opt_date</th>\n",
              "      <th>delivery_date</th>\n",
              "      <th>cidade_origem_id</th>\n",
              "      <th>cidade_destino_id</th>\n",
              "      <th>delivery_time</th>\n",
              "      <th>delay</th>\n",
              "      <th>final_semana</th>\n",
              "      <th>complexidade</th>\n",
              "      <th>regiao_destino_2</th>\n",
              "      <th>regiao_destino_4</th>\n",
              "      <th>regiao_origem_2</th>\n",
              "      <th>regiao_origem_3</th>\n",
              "      <th>peso_norm</th>\n",
              "      <th>price_norm</th>\n",
              "    </tr>\n",
              "  </thead>\n",
              "  <tbody>\n",
              "    <tr>\n",
              "      <th>0</th>\n",
              "      <td>0</td>\n",
              "      <td>2022-02-25 20:46:25</td>\n",
              "      <td>2022-03-02 23:59:59</td>\n",
              "      <td>2022-02-28 20:35:20</td>\n",
              "      <td>2022-03-02 18:03:33</td>\n",
              "      <td>2</td>\n",
              "      <td>25</td>\n",
              "      <td>4 days 21:17:08</td>\n",
              "      <td>0</td>\n",
              "      <td>0</td>\n",
              "      <td>5 days 03:13:34</td>\n",
              "      <td>0</td>\n",
              "      <td>0</td>\n",
              "      <td>0</td>\n",
              "      <td>0</td>\n",
              "      <td>-0.228503</td>\n",
              "      <td>7.480177</td>\n",
              "    </tr>\n",
              "    <tr>\n",
              "      <th>1</th>\n",
              "      <td>1</td>\n",
              "      <td>2022-02-23 20:34:59</td>\n",
              "      <td>2022-02-24 23:59:59</td>\n",
              "      <td>2022-02-24 09:56:23</td>\n",
              "      <td>2022-02-24 15:52:40</td>\n",
              "      <td>2</td>\n",
              "      <td>16</td>\n",
              "      <td>0 days 19:17:41</td>\n",
              "      <td>0</td>\n",
              "      <td>0</td>\n",
              "      <td>1 days 03:25:00</td>\n",
              "      <td>0</td>\n",
              "      <td>1</td>\n",
              "      <td>0</td>\n",
              "      <td>0</td>\n",
              "      <td>-0.032939</td>\n",
              "      <td>-0.137851</td>\n",
              "    </tr>\n",
              "    <tr>\n",
              "      <th>2</th>\n",
              "      <td>2</td>\n",
              "      <td>2022-02-23 20:35:19</td>\n",
              "      <td>2022-02-24 23:59:59</td>\n",
              "      <td>2022-02-23 20:29:38</td>\n",
              "      <td>2022-02-24 22:55:38</td>\n",
              "      <td>2</td>\n",
              "      <td>88</td>\n",
              "      <td>1 days 02:20:19</td>\n",
              "      <td>0</td>\n",
              "      <td>0</td>\n",
              "      <td>1 days 03:24:40</td>\n",
              "      <td>0</td>\n",
              "      <td>0</td>\n",
              "      <td>0</td>\n",
              "      <td>0</td>\n",
              "      <td>-0.160464</td>\n",
              "      <td>-0.251008</td>\n",
              "    </tr>\n",
              "  </tbody>\n",
              "</table>\n",
              "</div>\n",
              "      <button class=\"colab-df-convert\" onclick=\"convertToInteractive('df-a056f2e3-8a1b-4adc-81bb-fb8fccf407f7')\"\n",
              "              title=\"Convert this dataframe to an interactive table.\"\n",
              "              style=\"display:none;\">\n",
              "        \n",
              "  <svg xmlns=\"http://www.w3.org/2000/svg\" height=\"24px\"viewBox=\"0 0 24 24\"\n",
              "       width=\"24px\">\n",
              "    <path d=\"M0 0h24v24H0V0z\" fill=\"none\"/>\n",
              "    <path d=\"M18.56 5.44l.94 2.06.94-2.06 2.06-.94-2.06-.94-.94-2.06-.94 2.06-2.06.94zm-11 1L8.5 8.5l.94-2.06 2.06-.94-2.06-.94L8.5 2.5l-.94 2.06-2.06.94zm10 10l.94 2.06.94-2.06 2.06-.94-2.06-.94-.94-2.06-.94 2.06-2.06.94z\"/><path d=\"M17.41 7.96l-1.37-1.37c-.4-.4-.92-.59-1.43-.59-.52 0-1.04.2-1.43.59L10.3 9.45l-7.72 7.72c-.78.78-.78 2.05 0 2.83L4 21.41c.39.39.9.59 1.41.59.51 0 1.02-.2 1.41-.59l7.78-7.78 2.81-2.81c.8-.78.8-2.07 0-2.86zM5.41 20L4 18.59l7.72-7.72 1.47 1.35L5.41 20z\"/>\n",
              "  </svg>\n",
              "      </button>\n",
              "      \n",
              "  <style>\n",
              "    .colab-df-container {\n",
              "      display:flex;\n",
              "      flex-wrap:wrap;\n",
              "      gap: 12px;\n",
              "    }\n",
              "\n",
              "    .colab-df-convert {\n",
              "      background-color: #E8F0FE;\n",
              "      border: none;\n",
              "      border-radius: 50%;\n",
              "      cursor: pointer;\n",
              "      display: none;\n",
              "      fill: #1967D2;\n",
              "      height: 32px;\n",
              "      padding: 0 0 0 0;\n",
              "      width: 32px;\n",
              "    }\n",
              "\n",
              "    .colab-df-convert:hover {\n",
              "      background-color: #E2EBFA;\n",
              "      box-shadow: 0px 1px 2px rgba(60, 64, 67, 0.3), 0px 1px 3px 1px rgba(60, 64, 67, 0.15);\n",
              "      fill: #174EA6;\n",
              "    }\n",
              "\n",
              "    [theme=dark] .colab-df-convert {\n",
              "      background-color: #3B4455;\n",
              "      fill: #D2E3FC;\n",
              "    }\n",
              "\n",
              "    [theme=dark] .colab-df-convert:hover {\n",
              "      background-color: #434B5C;\n",
              "      box-shadow: 0px 1px 3px 1px rgba(0, 0, 0, 0.15);\n",
              "      filter: drop-shadow(0px 1px 2px rgba(0, 0, 0, 0.3));\n",
              "      fill: #FFFFFF;\n",
              "    }\n",
              "  </style>\n",
              "\n",
              "      <script>\n",
              "        const buttonEl =\n",
              "          document.querySelector('#df-a056f2e3-8a1b-4adc-81bb-fb8fccf407f7 button.colab-df-convert');\n",
              "        buttonEl.style.display =\n",
              "          google.colab.kernel.accessAllowed ? 'block' : 'none';\n",
              "\n",
              "        async function convertToInteractive(key) {\n",
              "          const element = document.querySelector('#df-a056f2e3-8a1b-4adc-81bb-fb8fccf407f7');\n",
              "          const dataTable =\n",
              "            await google.colab.kernel.invokeFunction('convertToInteractive',\n",
              "                                                     [key], {});\n",
              "          if (!dataTable) return;\n",
              "\n",
              "          const docLinkHtml = 'Like what you see? Visit the ' +\n",
              "            '<a target=\"_blank\" href=https://colab.research.google.com/notebooks/data_table.ipynb>data table notebook</a>'\n",
              "            + ' to learn more about interactive tables.';\n",
              "          element.innerHTML = '';\n",
              "          dataTable['output_type'] = 'display_data';\n",
              "          await google.colab.output.renderOutput(dataTable, element);\n",
              "          const docLink = document.createElement('div');\n",
              "          docLink.innerHTML = docLinkHtml;\n",
              "          element.appendChild(docLink);\n",
              "        }\n",
              "      </script>\n",
              "    </div>\n",
              "  </div>\n",
              "  "
            ]
          },
          "metadata": {},
          "execution_count": 57
        }
      ]
    },
    {
      "cell_type": "markdown",
      "source": [
        "Transformando variáveis de data em String, utilizando a notação 4:20:17:08 ao invés de usar \" days \""
      ],
      "metadata": {
        "id": "1Oc-r49A9K7f"
      }
    },
    {
      "cell_type": "code",
      "source": [
        "def replace_days(string):\n",
        "   string = string.replace(\" days \", \":\")\n",
        "   return string"
      ],
      "metadata": {
        "id": "uzhNa4_y8XE0"
      },
      "execution_count": null,
      "outputs": []
    },
    {
      "cell_type": "markdown",
      "source": [
        "Convertendo essas variáveis em string, para poder usar a função de converter pra minutos depois. "
      ],
      "metadata": {
        "id": "OfYtw5QgJK-o"
      }
    },
    {
      "cell_type": "code",
      "source": [
        "df_cidades_aux['delivery_time'] = df_cidades_aux['delivery_time'].astype(str)\n",
        "df_cidades_aux['delivery_time'] = df_cidades_aux['delivery_time'].apply(replace_days)"
      ],
      "metadata": {
        "id": "XeQXU67q8iZs"
      },
      "execution_count": null,
      "outputs": []
    },
    {
      "cell_type": "code",
      "source": [
        "df_cidades_aux['complexidade'] = df_cidades_aux['complexidade'].astype(str)\n",
        "df_cidades_aux['complexidade'] = df_cidades_aux['complexidade'].apply(replace_days)"
      ],
      "metadata": {
        "id": "BhheXTpMIHp5"
      },
      "execution_count": null,
      "outputs": []
    },
    {
      "cell_type": "code",
      "source": [
        "# Convertendo delivery_time em minutos \n",
        "\n",
        "def time_to_float(dhms_str):\n",
        "    '''supports also format of d:h:m:s, h:m:s, m:s and s; Returns time in minutes'''\n",
        "    _,d,h,m,s = (':0'*10+dhms_str).rsplit(':',4)\n",
        "    return (int(d)*24*60*60+int(h)*60*60+int(m)*60+int(s))/60 "
      ],
      "metadata": {
        "id": "ZQ6iHXPorjdl"
      },
      "execution_count": null,
      "outputs": []
    },
    {
      "cell_type": "code",
      "source": [
        "# transformando delivery_time em minutos\n",
        "df_cidades_aux['delivery_minutes'] = df_cidades_aux['delivery_time'].apply(time_to_float)"
      ],
      "metadata": {
        "id": "TAemwKEptCuB"
      },
      "execution_count": null,
      "outputs": []
    },
    {
      "cell_type": "code",
      "source": [
        "# transformando complexidade em minutos \n",
        "df_cidades_aux['complexidade_minutes'] = df_cidades_aux['complexidade'].apply(time_to_float)"
      ],
      "metadata": {
        "id": "GMUkj852IjIj"
      },
      "execution_count": null,
      "outputs": []
    },
    {
      "cell_type": "code",
      "source": [
        "df_cidades_aux.head(3)"
      ],
      "metadata": {
        "colab": {
          "base_uri": "https://localhost:8080/",
          "height": 312
        },
        "id": "GpSFFhGzt29s",
        "outputId": "1d939b71-026e-4153-9245-7c0fcebc5c4b"
      },
      "execution_count": null,
      "outputs": [
        {
          "output_type": "execute_result",
          "data": {
            "text/plain": [
              "   id          order_date            due_date            opt_date  \\\n",
              "0   0 2022-02-25 20:46:25 2022-03-02 23:59:59 2022-02-28 20:35:20   \n",
              "1   1 2022-02-23 20:34:59 2022-02-24 23:59:59 2022-02-24 09:56:23   \n",
              "2   2 2022-02-23 20:35:19 2022-02-24 23:59:59 2022-02-23 20:29:38   \n",
              "\n",
              "        delivery_date  cidade_origem_id  cidade_destino_id delivery_time  \\\n",
              "0 2022-03-02 18:03:33                 2                 25    4:21:17:08   \n",
              "1 2022-02-24 15:52:40                 2                 16    0:19:17:41   \n",
              "2 2022-02-24 22:55:38                 2                 88    1:02:20:19   \n",
              "\n",
              "   delay  final_semana complexidade  regiao_destino_2  regiao_destino_4  \\\n",
              "0      0             0   5:03:13:34                 0                 0   \n",
              "1      0             0   1:03:25:00                 0                 1   \n",
              "2      0             0   1:03:24:40                 0                 0   \n",
              "\n",
              "   regiao_origem_2  regiao_origem_3  peso_norm  price_norm  delivery_minutes  \\\n",
              "0                0                0  -0.228503    7.480177       7037.133333   \n",
              "1                0                0  -0.032939   -0.137851       1157.683333   \n",
              "2                0                0  -0.160464   -0.251008       1580.316667   \n",
              "\n",
              "   complexidade_minutes  \n",
              "0           7393.566667  \n",
              "1           1645.000000  \n",
              "2           1644.666667  "
            ],
            "text/html": [
              "\n",
              "  <div id=\"df-d2f20fd2-5017-43ac-96e5-c24b57141ebf\">\n",
              "    <div class=\"colab-df-container\">\n",
              "      <div>\n",
              "<style scoped>\n",
              "    .dataframe tbody tr th:only-of-type {\n",
              "        vertical-align: middle;\n",
              "    }\n",
              "\n",
              "    .dataframe tbody tr th {\n",
              "        vertical-align: top;\n",
              "    }\n",
              "\n",
              "    .dataframe thead th {\n",
              "        text-align: right;\n",
              "    }\n",
              "</style>\n",
              "<table border=\"1\" class=\"dataframe\">\n",
              "  <thead>\n",
              "    <tr style=\"text-align: right;\">\n",
              "      <th></th>\n",
              "      <th>id</th>\n",
              "      <th>order_date</th>\n",
              "      <th>due_date</th>\n",
              "      <th>opt_date</th>\n",
              "      <th>delivery_date</th>\n",
              "      <th>cidade_origem_id</th>\n",
              "      <th>cidade_destino_id</th>\n",
              "      <th>delivery_time</th>\n",
              "      <th>delay</th>\n",
              "      <th>final_semana</th>\n",
              "      <th>complexidade</th>\n",
              "      <th>regiao_destino_2</th>\n",
              "      <th>regiao_destino_4</th>\n",
              "      <th>regiao_origem_2</th>\n",
              "      <th>regiao_origem_3</th>\n",
              "      <th>peso_norm</th>\n",
              "      <th>price_norm</th>\n",
              "      <th>delivery_minutes</th>\n",
              "      <th>complexidade_minutes</th>\n",
              "    </tr>\n",
              "  </thead>\n",
              "  <tbody>\n",
              "    <tr>\n",
              "      <th>0</th>\n",
              "      <td>0</td>\n",
              "      <td>2022-02-25 20:46:25</td>\n",
              "      <td>2022-03-02 23:59:59</td>\n",
              "      <td>2022-02-28 20:35:20</td>\n",
              "      <td>2022-03-02 18:03:33</td>\n",
              "      <td>2</td>\n",
              "      <td>25</td>\n",
              "      <td>4:21:17:08</td>\n",
              "      <td>0</td>\n",
              "      <td>0</td>\n",
              "      <td>5:03:13:34</td>\n",
              "      <td>0</td>\n",
              "      <td>0</td>\n",
              "      <td>0</td>\n",
              "      <td>0</td>\n",
              "      <td>-0.228503</td>\n",
              "      <td>7.480177</td>\n",
              "      <td>7037.133333</td>\n",
              "      <td>7393.566667</td>\n",
              "    </tr>\n",
              "    <tr>\n",
              "      <th>1</th>\n",
              "      <td>1</td>\n",
              "      <td>2022-02-23 20:34:59</td>\n",
              "      <td>2022-02-24 23:59:59</td>\n",
              "      <td>2022-02-24 09:56:23</td>\n",
              "      <td>2022-02-24 15:52:40</td>\n",
              "      <td>2</td>\n",
              "      <td>16</td>\n",
              "      <td>0:19:17:41</td>\n",
              "      <td>0</td>\n",
              "      <td>0</td>\n",
              "      <td>1:03:25:00</td>\n",
              "      <td>0</td>\n",
              "      <td>1</td>\n",
              "      <td>0</td>\n",
              "      <td>0</td>\n",
              "      <td>-0.032939</td>\n",
              "      <td>-0.137851</td>\n",
              "      <td>1157.683333</td>\n",
              "      <td>1645.000000</td>\n",
              "    </tr>\n",
              "    <tr>\n",
              "      <th>2</th>\n",
              "      <td>2</td>\n",
              "      <td>2022-02-23 20:35:19</td>\n",
              "      <td>2022-02-24 23:59:59</td>\n",
              "      <td>2022-02-23 20:29:38</td>\n",
              "      <td>2022-02-24 22:55:38</td>\n",
              "      <td>2</td>\n",
              "      <td>88</td>\n",
              "      <td>1:02:20:19</td>\n",
              "      <td>0</td>\n",
              "      <td>0</td>\n",
              "      <td>1:03:24:40</td>\n",
              "      <td>0</td>\n",
              "      <td>0</td>\n",
              "      <td>0</td>\n",
              "      <td>0</td>\n",
              "      <td>-0.160464</td>\n",
              "      <td>-0.251008</td>\n",
              "      <td>1580.316667</td>\n",
              "      <td>1644.666667</td>\n",
              "    </tr>\n",
              "  </tbody>\n",
              "</table>\n",
              "</div>\n",
              "      <button class=\"colab-df-convert\" onclick=\"convertToInteractive('df-d2f20fd2-5017-43ac-96e5-c24b57141ebf')\"\n",
              "              title=\"Convert this dataframe to an interactive table.\"\n",
              "              style=\"display:none;\">\n",
              "        \n",
              "  <svg xmlns=\"http://www.w3.org/2000/svg\" height=\"24px\"viewBox=\"0 0 24 24\"\n",
              "       width=\"24px\">\n",
              "    <path d=\"M0 0h24v24H0V0z\" fill=\"none\"/>\n",
              "    <path d=\"M18.56 5.44l.94 2.06.94-2.06 2.06-.94-2.06-.94-.94-2.06-.94 2.06-2.06.94zm-11 1L8.5 8.5l.94-2.06 2.06-.94-2.06-.94L8.5 2.5l-.94 2.06-2.06.94zm10 10l.94 2.06.94-2.06 2.06-.94-2.06-.94-.94-2.06-.94 2.06-2.06.94z\"/><path d=\"M17.41 7.96l-1.37-1.37c-.4-.4-.92-.59-1.43-.59-.52 0-1.04.2-1.43.59L10.3 9.45l-7.72 7.72c-.78.78-.78 2.05 0 2.83L4 21.41c.39.39.9.59 1.41.59.51 0 1.02-.2 1.41-.59l7.78-7.78 2.81-2.81c.8-.78.8-2.07 0-2.86zM5.41 20L4 18.59l7.72-7.72 1.47 1.35L5.41 20z\"/>\n",
              "  </svg>\n",
              "      </button>\n",
              "      \n",
              "  <style>\n",
              "    .colab-df-container {\n",
              "      display:flex;\n",
              "      flex-wrap:wrap;\n",
              "      gap: 12px;\n",
              "    }\n",
              "\n",
              "    .colab-df-convert {\n",
              "      background-color: #E8F0FE;\n",
              "      border: none;\n",
              "      border-radius: 50%;\n",
              "      cursor: pointer;\n",
              "      display: none;\n",
              "      fill: #1967D2;\n",
              "      height: 32px;\n",
              "      padding: 0 0 0 0;\n",
              "      width: 32px;\n",
              "    }\n",
              "\n",
              "    .colab-df-convert:hover {\n",
              "      background-color: #E2EBFA;\n",
              "      box-shadow: 0px 1px 2px rgba(60, 64, 67, 0.3), 0px 1px 3px 1px rgba(60, 64, 67, 0.15);\n",
              "      fill: #174EA6;\n",
              "    }\n",
              "\n",
              "    [theme=dark] .colab-df-convert {\n",
              "      background-color: #3B4455;\n",
              "      fill: #D2E3FC;\n",
              "    }\n",
              "\n",
              "    [theme=dark] .colab-df-convert:hover {\n",
              "      background-color: #434B5C;\n",
              "      box-shadow: 0px 1px 3px 1px rgba(0, 0, 0, 0.15);\n",
              "      filter: drop-shadow(0px 1px 2px rgba(0, 0, 0, 0.3));\n",
              "      fill: #FFFFFF;\n",
              "    }\n",
              "  </style>\n",
              "\n",
              "      <script>\n",
              "        const buttonEl =\n",
              "          document.querySelector('#df-d2f20fd2-5017-43ac-96e5-c24b57141ebf button.colab-df-convert');\n",
              "        buttonEl.style.display =\n",
              "          google.colab.kernel.accessAllowed ? 'block' : 'none';\n",
              "\n",
              "        async function convertToInteractive(key) {\n",
              "          const element = document.querySelector('#df-d2f20fd2-5017-43ac-96e5-c24b57141ebf');\n",
              "          const dataTable =\n",
              "            await google.colab.kernel.invokeFunction('convertToInteractive',\n",
              "                                                     [key], {});\n",
              "          if (!dataTable) return;\n",
              "\n",
              "          const docLinkHtml = 'Like what you see? Visit the ' +\n",
              "            '<a target=\"_blank\" href=https://colab.research.google.com/notebooks/data_table.ipynb>data table notebook</a>'\n",
              "            + ' to learn more about interactive tables.';\n",
              "          element.innerHTML = '';\n",
              "          dataTable['output_type'] = 'display_data';\n",
              "          await google.colab.output.renderOutput(dataTable, element);\n",
              "          const docLink = document.createElement('div');\n",
              "          docLink.innerHTML = docLinkHtml;\n",
              "          element.appendChild(docLink);\n",
              "        }\n",
              "      </script>\n",
              "    </div>\n",
              "  </div>\n",
              "  "
            ]
          },
          "metadata": {},
          "execution_count": 65
        }
      ]
    },
    {
      "cell_type": "code",
      "source": [
        "# Normalizando\n",
        "Scaler = StandardScaler()\n",
        "delivery_minutes_norm = Scaler.fit_transform(df_cidades_aux['delivery_minutes'].values.reshape(-1,1))\n",
        "complexidade_minutes_norm = Scaler.fit_transform(df_cidades_aux['complexidade_minutes'].values.reshape(-1,1))"
      ],
      "metadata": {
        "id": "1k7Le8Ep9geT"
      },
      "execution_count": null,
      "outputs": []
    },
    {
      "cell_type": "code",
      "source": [
        "df_final3 = df_final3.drop(columns=['delivery_time', 'complexidade'], axis=1)\n",
        "df_final3['delivery_minutes_norm'] = delivery_minutes_norm\n",
        "df_final3['complexidade_minutes'] = complexidade_minutes_norm"
      ],
      "metadata": {
        "id": "43SlylKN0ZvN"
      },
      "execution_count": null,
      "outputs": []
    },
    {
      "cell_type": "code",
      "source": [
        "# Adicionando também no dataframe das cidades (dataframe usado nas variáveis de clusterização)\n",
        "df_cidades_aux['delivery_minutes_norm'] = delivery_minutes_norm\n",
        "df_cidades_aux['complexidade_minutes'] = complexidade_minutes_norm"
      ],
      "metadata": {
        "id": "nG3GuKqc92fB"
      },
      "execution_count": null,
      "outputs": []
    },
    {
      "cell_type": "code",
      "source": [
        "# Variáveis utilizadas para clusterizar as cidades\n",
        "df_cidades = df_cidades_aux[['cidade_destino_id', 'delivery_minutes_norm', 'delay']]\n",
        "df_cidades.head(3)"
      ],
      "metadata": {
        "id": "9fXaUL3ucaoE",
        "colab": {
          "base_uri": "https://localhost:8080/",
          "height": 143
        },
        "outputId": "1410a989-1a43-4392-e909-14f33f9ba68a"
      },
      "execution_count": null,
      "outputs": [
        {
          "output_type": "execute_result",
          "data": {
            "text/plain": [
              "   cidade_destino_id  delivery_minutes_norm  delay\n",
              "0                 25               0.799618      0\n",
              "1                 16              -0.664080      0\n",
              "2                 88              -0.558865      0"
            ],
            "text/html": [
              "\n",
              "  <div id=\"df-40a1dd4d-c6b3-4c36-b606-5b2f727b19b5\">\n",
              "    <div class=\"colab-df-container\">\n",
              "      <div>\n",
              "<style scoped>\n",
              "    .dataframe tbody tr th:only-of-type {\n",
              "        vertical-align: middle;\n",
              "    }\n",
              "\n",
              "    .dataframe tbody tr th {\n",
              "        vertical-align: top;\n",
              "    }\n",
              "\n",
              "    .dataframe thead th {\n",
              "        text-align: right;\n",
              "    }\n",
              "</style>\n",
              "<table border=\"1\" class=\"dataframe\">\n",
              "  <thead>\n",
              "    <tr style=\"text-align: right;\">\n",
              "      <th></th>\n",
              "      <th>cidade_destino_id</th>\n",
              "      <th>delivery_minutes_norm</th>\n",
              "      <th>delay</th>\n",
              "    </tr>\n",
              "  </thead>\n",
              "  <tbody>\n",
              "    <tr>\n",
              "      <th>0</th>\n",
              "      <td>25</td>\n",
              "      <td>0.799618</td>\n",
              "      <td>0</td>\n",
              "    </tr>\n",
              "    <tr>\n",
              "      <th>1</th>\n",
              "      <td>16</td>\n",
              "      <td>-0.664080</td>\n",
              "      <td>0</td>\n",
              "    </tr>\n",
              "    <tr>\n",
              "      <th>2</th>\n",
              "      <td>88</td>\n",
              "      <td>-0.558865</td>\n",
              "      <td>0</td>\n",
              "    </tr>\n",
              "  </tbody>\n",
              "</table>\n",
              "</div>\n",
              "      <button class=\"colab-df-convert\" onclick=\"convertToInteractive('df-40a1dd4d-c6b3-4c36-b606-5b2f727b19b5')\"\n",
              "              title=\"Convert this dataframe to an interactive table.\"\n",
              "              style=\"display:none;\">\n",
              "        \n",
              "  <svg xmlns=\"http://www.w3.org/2000/svg\" height=\"24px\"viewBox=\"0 0 24 24\"\n",
              "       width=\"24px\">\n",
              "    <path d=\"M0 0h24v24H0V0z\" fill=\"none\"/>\n",
              "    <path d=\"M18.56 5.44l.94 2.06.94-2.06 2.06-.94-2.06-.94-.94-2.06-.94 2.06-2.06.94zm-11 1L8.5 8.5l.94-2.06 2.06-.94-2.06-.94L8.5 2.5l-.94 2.06-2.06.94zm10 10l.94 2.06.94-2.06 2.06-.94-2.06-.94-.94-2.06-.94 2.06-2.06.94z\"/><path d=\"M17.41 7.96l-1.37-1.37c-.4-.4-.92-.59-1.43-.59-.52 0-1.04.2-1.43.59L10.3 9.45l-7.72 7.72c-.78.78-.78 2.05 0 2.83L4 21.41c.39.39.9.59 1.41.59.51 0 1.02-.2 1.41-.59l7.78-7.78 2.81-2.81c.8-.78.8-2.07 0-2.86zM5.41 20L4 18.59l7.72-7.72 1.47 1.35L5.41 20z\"/>\n",
              "  </svg>\n",
              "      </button>\n",
              "      \n",
              "  <style>\n",
              "    .colab-df-container {\n",
              "      display:flex;\n",
              "      flex-wrap:wrap;\n",
              "      gap: 12px;\n",
              "    }\n",
              "\n",
              "    .colab-df-convert {\n",
              "      background-color: #E8F0FE;\n",
              "      border: none;\n",
              "      border-radius: 50%;\n",
              "      cursor: pointer;\n",
              "      display: none;\n",
              "      fill: #1967D2;\n",
              "      height: 32px;\n",
              "      padding: 0 0 0 0;\n",
              "      width: 32px;\n",
              "    }\n",
              "\n",
              "    .colab-df-convert:hover {\n",
              "      background-color: #E2EBFA;\n",
              "      box-shadow: 0px 1px 2px rgba(60, 64, 67, 0.3), 0px 1px 3px 1px rgba(60, 64, 67, 0.15);\n",
              "      fill: #174EA6;\n",
              "    }\n",
              "\n",
              "    [theme=dark] .colab-df-convert {\n",
              "      background-color: #3B4455;\n",
              "      fill: #D2E3FC;\n",
              "    }\n",
              "\n",
              "    [theme=dark] .colab-df-convert:hover {\n",
              "      background-color: #434B5C;\n",
              "      box-shadow: 0px 1px 3px 1px rgba(0, 0, 0, 0.15);\n",
              "      filter: drop-shadow(0px 1px 2px rgba(0, 0, 0, 0.3));\n",
              "      fill: #FFFFFF;\n",
              "    }\n",
              "  </style>\n",
              "\n",
              "      <script>\n",
              "        const buttonEl =\n",
              "          document.querySelector('#df-40a1dd4d-c6b3-4c36-b606-5b2f727b19b5 button.colab-df-convert');\n",
              "        buttonEl.style.display =\n",
              "          google.colab.kernel.accessAllowed ? 'block' : 'none';\n",
              "\n",
              "        async function convertToInteractive(key) {\n",
              "          const element = document.querySelector('#df-40a1dd4d-c6b3-4c36-b606-5b2f727b19b5');\n",
              "          const dataTable =\n",
              "            await google.colab.kernel.invokeFunction('convertToInteractive',\n",
              "                                                     [key], {});\n",
              "          if (!dataTable) return;\n",
              "\n",
              "          const docLinkHtml = 'Like what you see? Visit the ' +\n",
              "            '<a target=\"_blank\" href=https://colab.research.google.com/notebooks/data_table.ipynb>data table notebook</a>'\n",
              "            + ' to learn more about interactive tables.';\n",
              "          element.innerHTML = '';\n",
              "          dataTable['output_type'] = 'display_data';\n",
              "          await google.colab.output.renderOutput(dataTable, element);\n",
              "          const docLink = document.createElement('div');\n",
              "          docLink.innerHTML = docLinkHtml;\n",
              "          element.appendChild(docLink);\n",
              "        }\n",
              "      </script>\n",
              "    </div>\n",
              "  </div>\n",
              "  "
            ]
          },
          "metadata": {},
          "execution_count": 68
        }
      ]
    },
    {
      "cell_type": "markdown",
      "source": [
        "### Inferindo a quantidade ideal de clusters "
      ],
      "metadata": {
        "id": "c7kDL22GmNra"
      }
    },
    {
      "cell_type": "code",
      "source": [
        "# Vendo qual a quantidade ideal de clusters pelo método elbow \n",
        "dataset_atrib = df_cidades.values\n",
        "k_range = range(1,15)\n",
        "k_means_var = [KMeans(n_clusters = k).fit(df_cidades.values) for k in k_range]\n",
        "\n",
        "# Ajustando o centróide do cluster para cada modelo\n",
        "centroide = [X.cluster_centers_ for X in k_means_var]\n",
        "\n",
        "# Calculando a distância euclidiana de cada ponto de dado para o centróide\n",
        "k_euclid = [cdist(dataset_atrib, cent, 'euclidean') for cent in centroide]\n",
        "dist = [np.min(ke, axis = 1) for ke in k_euclid]\n",
        "\n",
        "# Soma dos quadrados das distâncias dentro do cluster\n",
        "soma_quadrados_intra_cluster = [sum(d**2) for d in dist]\n",
        "\n",
        "# Soma total dos quadrados\n",
        "soma_total = sum(pdist(dataset_atrib)**2)/dataset_atrib.shape[0]\n",
        "\n",
        "# Soma dos quadrados entre clusters\n",
        "soma_quadrados_inter_cluster = soma_total - soma_quadrados_intra_cluster\n",
        "\n",
        "# Curva de Elbow\n",
        "fig = plt.figure()\n",
        "ax = fig.add_subplot(111)\n",
        "ax.plot(k_range, soma_quadrados_inter_cluster/soma_total * 100, 'b*-')\n",
        "ax.set_ylim((0,100))\n",
        "plt.grid(True)\n",
        "plt.xlabel('N° de Clusters')\n",
        "plt.ylabel('% de Variância Explicada')\n",
        "plt.title('Variância Explicada para cada Valor de K')"
      ],
      "metadata": {
        "id": "LdYatZinpLOu",
        "colab": {
          "base_uri": "https://localhost:8080/",
          "height": 321
        },
        "outputId": "a3d73351-9a17-4efb-8fb8-af70b6adb551"
      },
      "execution_count": null,
      "outputs": [
        {
          "output_type": "execute_result",
          "data": {
            "text/plain": [
              "Text(0.5, 1.0, 'Variância Explicada para cada Valor de K')"
            ]
          },
          "metadata": {},
          "execution_count": 69
        },
        {
          "output_type": "display_data",
          "data": {
            "text/plain": [
              "<Figure size 432x288 with 1 Axes>"
            ],
            "image/png": "[encoded data removed]"
          },
          "metadata": {
            "needs_background": "light"
          }
        }
      ]
    },
    {
      "cell_type": "code",
      "source": [
        "# Visualizando a curva feita através da biblioteca Yellowbrick, que nos mostra o melhor score. \n",
        "kmeans = KMeans()\n",
        "kmeans.fit(df_cidades)\n",
        "visualizer = KElbowVisualizer(kmeans, k=(1,10))\n",
        "visualizer.fit(df_cidades)\n",
        "visualizer.show()"
      ],
      "metadata": {
        "id": "bZc099wTBylc",
        "colab": {
          "base_uri": "https://localhost:8080/",
          "height": 321
        },
        "outputId": "1de12636-44b1-46eb-b529-667ead836fdc"
      },
      "execution_count": null,
      "outputs": [
        {
          "output_type": "display_data",
          "data": {
            "text/plain": [
              "<Figure size 432x288 with 2 Axes>"
            ],
            "image/png": "[encoded data removed]"
          },
          "metadata": {}
        },
        {
          "output_type": "execute_result",
          "data": {
            "text/plain": [
              "<matplotlib.axes._subplots.AxesSubplot at 0x7f8b3f8f49d0>"
            ]
          },
          "metadata": {},
          "execution_count": 70
        }
      ]
    },
    {
      "cell_type": "markdown",
      "source": [
        "A curva de Elbow sugere 3 clusters para clusterizar as cidades. Vamos testar o número ideal de clusters utilizando o método Silhouette Score. "
      ],
      "metadata": {
        "id": "LIgvL1Bs_Xm2"
      }
    },
    {
      "cell_type": "code",
      "source": [
        "# 6 Clusters \n",
        "\n",
        "modelo_k5 = KMeans(n_clusters = 6, init = 'k-means++', n_init = 10, max_iter = 300)\n",
        "modelo_k5.fit(dataset_atrib)\n",
        "# Silhouette Score\n",
        "labels = modelo_k5.labels_\n",
        "silhouette_score(dataset_atrib, labels, metric = 'euclidean')"
      ],
      "metadata": {
        "colab": {
          "base_uri": "https://localhost:8080/"
        },
        "id": "WirZfgWN4N8W",
        "outputId": "9254780f-868d-4db7-8946-a35cee0e0f12"
      },
      "execution_count": null,
      "outputs": [
        {
          "output_type": "execute_result",
          "data": {
            "text/plain": [
              "0.6797386863296769"
            ]
          },
          "metadata": {},
          "execution_count": 73
        }
      ]
    },
    {
      "cell_type": "code",
      "source": [
        "# 5 Clusters \n",
        "\n",
        "modelo_k5 = KMeans(n_clusters = 5, init = 'k-means++', n_init = 10, max_iter = 300)\n",
        "modelo_k5.fit(dataset_atrib)\n",
        "# Silhouette Score\n",
        "labels = modelo_k5.labels_\n",
        "silhouette_score(dataset_atrib, labels, metric = 'euclidean')"
      ],
      "metadata": {
        "id": "k0D2DrudnJo4",
        "colab": {
          "base_uri": "https://localhost:8080/"
        },
        "outputId": "0826fb89-603e-4553-f485-3ff3092895a9"
      },
      "execution_count": null,
      "outputs": [
        {
          "output_type": "execute_result",
          "data": {
            "text/plain": [
              "0.7007519330213319"
            ]
          },
          "metadata": {},
          "execution_count": 74
        }
      ]
    },
    {
      "cell_type": "code",
      "source": [
        "# 4 Clusters\n",
        " \n",
        "modelo_k4 = KMeans(n_clusters = 4, init = 'k-means++', n_init = 10, max_iter = 300)\n",
        "modelo_k4.fit(dataset_atrib)\n",
        "# Silhouette Score\n",
        "labels = modelo_k4.labels_\n",
        "silhouette_score(dataset_atrib, labels, metric = 'euclidean')"
      ],
      "metadata": {
        "id": "7zF-LG4V_q5A",
        "colab": {
          "base_uri": "https://localhost:8080/"
        },
        "outputId": "2258d260-4501-4d62-d9b2-0b6dfdf5bc98"
      },
      "execution_count": null,
      "outputs": [
        {
          "output_type": "execute_result",
          "data": {
            "text/plain": [
              "0.6884044680108619"
            ]
          },
          "metadata": {},
          "execution_count": 75
        }
      ]
    },
    {
      "cell_type": "code",
      "source": [
        "# 3 Clusters\n",
        " \n",
        "modelo_k3 = KMeans(n_clusters = 3, init = 'k-means++', n_init = 10, max_iter = 300)\n",
        "modelo_k3.fit(dataset_atrib)\n",
        "# Silhouette Score\n",
        "labels = modelo_k3.labels_\n",
        "silhouette_score(dataset_atrib, labels, metric = 'euclidean')"
      ],
      "metadata": {
        "id": "QfKpz6cb_yMz",
        "colab": {
          "base_uri": "https://localhost:8080/"
        },
        "outputId": "083d8bda-413e-48ff-aa47-3c6fc1717346"
      },
      "execution_count": null,
      "outputs": [
        {
          "output_type": "execute_result",
          "data": {
            "text/plain": [
              "0.6254670795756655"
            ]
          },
          "metadata": {},
          "execution_count": 76
        }
      ]
    },
    {
      "cell_type": "code",
      "source": [
        "# 2 Clusters\n",
        " \n",
        "modelo_k2 = KMeans(n_clusters = 2, init = 'k-means++', n_init = 10, max_iter = 300)\n",
        "modelo_k2.fit(dataset_atrib)\n",
        "# Silhouette Score\n",
        "labels = modelo_k2.labels_\n",
        "silhouette_score(dataset_atrib, labels, metric = 'euclidean')"
      ],
      "metadata": {
        "id": "1CMSNFAn_1nv",
        "colab": {
          "base_uri": "https://localhost:8080/"
        },
        "outputId": "5b8ee798-11d8-4f15-85ee-496cc03bcfb8"
      },
      "execution_count": null,
      "outputs": [
        {
          "output_type": "execute_result",
          "data": {
            "text/plain": [
              "0.7037333168014099"
            ]
          },
          "metadata": {},
          "execution_count": 77
        }
      ]
    },
    {
      "cell_type": "markdown",
      "source": [
        "O Silhouette Score sugere a quantidade de clusters igual à 5. "
      ],
      "metadata": {
        "id": "XLN39KJOQ3Nk"
      }
    },
    {
      "cell_type": "markdown",
      "source": [
        "### Definindo variáveis para clusterização"
      ],
      "metadata": {
        "id": "1MipK8laHxQ5"
      }
    },
    {
      "cell_type": "code",
      "source": [
        "df_cidades.columns"
      ],
      "metadata": {
        "id": "gzMT3II9zO2w",
        "colab": {
          "base_uri": "https://localhost:8080/"
        },
        "outputId": "be8e0e84-146d-4ae5-81e6-20c212f18497"
      },
      "execution_count": null,
      "outputs": [
        {
          "output_type": "execute_result",
          "data": {
            "text/plain": [
              "Index(['cidade_destino_id', 'delivery_minutes_norm', 'delay'], dtype='object')"
            ]
          },
          "metadata": {},
          "execution_count": 79
        }
      ]
    },
    {
      "cell_type": "markdown",
      "source": [
        "**Adicionando variável quantidade de entregas**\n",
        "\n",
        "Essa variável está no dataframe destinos"
      ],
      "metadata": {
        "id": "jaa1SLvrw7BK"
      }
    },
    {
      "cell_type": "code",
      "source": [
        "destinos.head()"
      ],
      "metadata": {
        "id": "-jCZNB_Ew_qn",
        "colab": {
          "base_uri": "https://localhost:8080/",
          "height": 206
        },
        "outputId": "b2ec2836-4f76-49f0-8032-72cc5b91c0c0"
      },
      "execution_count": null,
      "outputs": [
        {
          "output_type": "execute_result",
          "data": {
            "text/plain": [
              "   cidade_destino_id     delay  qtd_delivery_cidade\n",
              "0                  1  0.266667                   30\n",
              "1                  2  0.047538                  589\n",
              "2                  3  0.000000                   18\n",
              "3                  6  0.096774                   31\n",
              "4                  7  0.000000                    6"
            ],
            "text/html": [
              "\n",
              "  <div id=\"df-e996cbb9-c615-40ee-8036-7b0bda5caf4d\">\n",
              "    <div class=\"colab-df-container\">\n",
              "      <div>\n",
              "<style scoped>\n",
              "    .dataframe tbody tr th:only-of-type {\n",
              "        vertical-align: middle;\n",
              "    }\n",
              "\n",
              "    .dataframe tbody tr th {\n",
              "        vertical-align: top;\n",
              "    }\n",
              "\n",
              "    .dataframe thead th {\n",
              "        text-align: right;\n",
              "    }\n",
              "</style>\n",
              "<table border=\"1\" class=\"dataframe\">\n",
              "  <thead>\n",
              "    <tr style=\"text-align: right;\">\n",
              "      <th></th>\n",
              "      <th>cidade_destino_id</th>\n",
              "      <th>delay</th>\n",
              "      <th>qtd_delivery_cidade</th>\n",
              "    </tr>\n",
              "  </thead>\n",
              "  <tbody>\n",
              "    <tr>\n",
              "      <th>0</th>\n",
              "      <td>1</td>\n",
              "      <td>0.266667</td>\n",
              "      <td>30</td>\n",
              "    </tr>\n",
              "    <tr>\n",
              "      <th>1</th>\n",
              "      <td>2</td>\n",
              "      <td>0.047538</td>\n",
              "      <td>589</td>\n",
              "    </tr>\n",
              "    <tr>\n",
              "      <th>2</th>\n",
              "      <td>3</td>\n",
              "      <td>0.000000</td>\n",
              "      <td>18</td>\n",
              "    </tr>\n",
              "    <tr>\n",
              "      <th>3</th>\n",
              "      <td>6</td>\n",
              "      <td>0.096774</td>\n",
              "      <td>31</td>\n",
              "    </tr>\n",
              "    <tr>\n",
              "      <th>4</th>\n",
              "      <td>7</td>\n",
              "      <td>0.000000</td>\n",
              "      <td>6</td>\n",
              "    </tr>\n",
              "  </tbody>\n",
              "</table>\n",
              "</div>\n",
              "      <button class=\"colab-df-convert\" onclick=\"convertToInteractive('df-e996cbb9-c615-40ee-8036-7b0bda5caf4d')\"\n",
              "              title=\"Convert this dataframe to an interactive table.\"\n",
              "              style=\"display:none;\">\n",
              "        \n",
              "  <svg xmlns=\"http://www.w3.org/2000/svg\" height=\"24px\"viewBox=\"0 0 24 24\"\n",
              "       width=\"24px\">\n",
              "    <path d=\"M0 0h24v24H0V0z\" fill=\"none\"/>\n",
              "    <path d=\"M18.56 5.44l.94 2.06.94-2.06 2.06-.94-2.06-.94-.94-2.06-.94 2.06-2.06.94zm-11 1L8.5 8.5l.94-2.06 2.06-.94-2.06-.94L8.5 2.5l-.94 2.06-2.06.94zm10 10l.94 2.06.94-2.06 2.06-.94-2.06-.94-.94-2.06-.94 2.06-2.06.94z\"/><path d=\"M17.41 7.96l-1.37-1.37c-.4-.4-.92-.59-1.43-.59-.52 0-1.04.2-1.43.59L10.3 9.45l-7.72 7.72c-.78.78-.78 2.05 0 2.83L4 21.41c.39.39.9.59 1.41.59.51 0 1.02-.2 1.41-.59l7.78-7.78 2.81-2.81c.8-.78.8-2.07 0-2.86zM5.41 20L4 18.59l7.72-7.72 1.47 1.35L5.41 20z\"/>\n",
              "  </svg>\n",
              "      </button>\n",
              "      \n",
              "  <style>\n",
              "    .colab-df-container {\n",
              "      display:flex;\n",
              "      flex-wrap:wrap;\n",
              "      gap: 12px;\n",
              "    }\n",
              "\n",
              "    .colab-df-convert {\n",
              "      background-color: #E8F0FE;\n",
              "      border: none;\n",
              "      border-radius: 50%;\n",
              "      cursor: pointer;\n",
              "      display: none;\n",
              "      fill: #1967D2;\n",
              "      height: 32px;\n",
              "      padding: 0 0 0 0;\n",
              "      width: 32px;\n",
              "    }\n",
              "\n",
              "    .colab-df-convert:hover {\n",
              "      background-color: #E2EBFA;\n",
              "      box-shadow: 0px 1px 2px rgba(60, 64, 67, 0.3), 0px 1px 3px 1px rgba(60, 64, 67, 0.15);\n",
              "      fill: #174EA6;\n",
              "    }\n",
              "\n",
              "    [theme=dark] .colab-df-convert {\n",
              "      background-color: #3B4455;\n",
              "      fill: #D2E3FC;\n",
              "    }\n",
              "\n",
              "    [theme=dark] .colab-df-convert:hover {\n",
              "      background-color: #434B5C;\n",
              "      box-shadow: 0px 1px 3px 1px rgba(0, 0, 0, 0.15);\n",
              "      filter: drop-shadow(0px 1px 2px rgba(0, 0, 0, 0.3));\n",
              "      fill: #FFFFFF;\n",
              "    }\n",
              "  </style>\n",
              "\n",
              "      <script>\n",
              "        const buttonEl =\n",
              "          document.querySelector('#df-e996cbb9-c615-40ee-8036-7b0bda5caf4d button.colab-df-convert');\n",
              "        buttonEl.style.display =\n",
              "          google.colab.kernel.accessAllowed ? 'block' : 'none';\n",
              "\n",
              "        async function convertToInteractive(key) {\n",
              "          const element = document.querySelector('#df-e996cbb9-c615-40ee-8036-7b0bda5caf4d');\n",
              "          const dataTable =\n",
              "            await google.colab.kernel.invokeFunction('convertToInteractive',\n",
              "                                                     [key], {});\n",
              "          if (!dataTable) return;\n",
              "\n",
              "          const docLinkHtml = 'Like what you see? Visit the ' +\n",
              "            '<a target=\"_blank\" href=https://colab.research.google.com/notebooks/data_table.ipynb>data table notebook</a>'\n",
              "            + ' to learn more about interactive tables.';\n",
              "          element.innerHTML = '';\n",
              "          dataTable['output_type'] = 'display_data';\n",
              "          await google.colab.output.renderOutput(dataTable, element);\n",
              "          const docLink = document.createElement('div');\n",
              "          docLink.innerHTML = docLinkHtml;\n",
              "          element.appendChild(docLink);\n",
              "        }\n",
              "      </script>\n",
              "    </div>\n",
              "  </div>\n",
              "  "
            ]
          },
          "metadata": {},
          "execution_count": 80
        }
      ]
    },
    {
      "cell_type": "code",
      "source": [
        "destinos2 = destinos.drop('delay', axis=1)"
      ],
      "metadata": {
        "id": "qy1T9nsOxaSj"
      },
      "execution_count": null,
      "outputs": []
    },
    {
      "cell_type": "code",
      "source": [
        "df_cidades_destinos = pd.merge(left=df_cidades, right=destinos2, on='cidade_destino_id')\n",
        "df_cidades_destinos"
      ],
      "metadata": {
        "id": "xPK-LwHmxBrD",
        "colab": {
          "base_uri": "https://localhost:8080/",
          "height": 424
        },
        "outputId": "5fc597bf-96e9-49ed-c704-8734a8809f2d"
      },
      "execution_count": null,
      "outputs": [
        {
          "output_type": "execute_result",
          "data": {
            "text/plain": [
              "      cidade_destino_id  delivery_minutes_norm  delay  qtd_delivery_cidade\n",
              "0                    25               0.799618      0                   85\n",
              "1                    25              -0.720036      0                   85\n",
              "2                    25              -0.687677      0                   85\n",
              "3                    25               1.142557      0                   85\n",
              "4                    25               0.328872      0                   85\n",
              "...                 ...                    ...    ...                  ...\n",
              "1790                 98               1.901814      1                    2\n",
              "1791                 95               1.301007      1                    1\n",
              "1792                124               1.288095      1                    1\n",
              "1793                115               1.579069      0                    1\n",
              "1794                 60               0.514482      1                    1\n",
              "\n",
              "[1795 rows x 4 columns]"
            ],
            "text/html": [
              "\n",
              "  <div id=\"df-79dd1d30-cf25-4c5b-85f0-898d0bae5735\">\n",
              "    <div class=\"colab-df-container\">\n",
              "      <div>\n",
              "<style scoped>\n",
              "    .dataframe tbody tr th:only-of-type {\n",
              "        vertical-align: middle;\n",
              "    }\n",
              "\n",
              "    .dataframe tbody tr th {\n",
              "        vertical-align: top;\n",
              "    }\n",
              "\n",
              "    .dataframe thead th {\n",
              "        text-align: right;\n",
              "    }\n",
              "</style>\n",
              "<table border=\"1\" class=\"dataframe\">\n",
              "  <thead>\n",
              "    <tr style=\"text-align: right;\">\n",
              "      <th></th>\n",
              "      <th>cidade_destino_id</th>\n",
              "      <th>delivery_minutes_norm</th>\n",
              "      <th>delay</th>\n",
              "      <th>qtd_delivery_cidade</th>\n",
              "    </tr>\n",
              "  </thead>\n",
              "  <tbody>\n",
              "    <tr>\n",
              "      <th>0</th>\n",
              "      <td>25</td>\n",
              "      <td>0.799618</td>\n",
              "      <td>0</td>\n",
              "      <td>85</td>\n",
              "    </tr>\n",
              "    <tr>\n",
              "      <th>1</th>\n",
              "      <td>25</td>\n",
              "      <td>-0.720036</td>\n",
              "      <td>0</td>\n",
              "      <td>85</td>\n",
              "    </tr>\n",
              "    <tr>\n",
              "      <th>2</th>\n",
              "      <td>25</td>\n",
              "      <td>-0.687677</td>\n",
              "      <td>0</td>\n",
              "      <td>85</td>\n",
              "    </tr>\n",
              "    <tr>\n",
              "      <th>3</th>\n",
              "      <td>25</td>\n",
              "      <td>1.142557</td>\n",
              "      <td>0</td>\n",
              "      <td>85</td>\n",
              "    </tr>\n",
              "    <tr>\n",
              "      <th>4</th>\n",
              "      <td>25</td>\n",
              "      <td>0.328872</td>\n",
              "      <td>0</td>\n",
              "      <td>85</td>\n",
              "    </tr>\n",
              "    <tr>\n",
              "      <th>...</th>\n",
              "      <td>...</td>\n",
              "      <td>...</td>\n",
              "      <td>...</td>\n",
              "      <td>...</td>\n",
              "    </tr>\n",
              "    <tr>\n",
              "      <th>1790</th>\n",
              "      <td>98</td>\n",
              "      <td>1.901814</td>\n",
              "      <td>1</td>\n",
              "      <td>2</td>\n",
              "    </tr>\n",
              "    <tr>\n",
              "      <th>1791</th>\n",
              "      <td>95</td>\n",
              "      <td>1.301007</td>\n",
              "      <td>1</td>\n",
              "      <td>1</td>\n",
              "    </tr>\n",
              "    <tr>\n",
              "      <th>1792</th>\n",
              "      <td>124</td>\n",
              "      <td>1.288095</td>\n",
              "      <td>1</td>\n",
              "      <td>1</td>\n",
              "    </tr>\n",
              "    <tr>\n",
              "      <th>1793</th>\n",
              "      <td>115</td>\n",
              "      <td>1.579069</td>\n",
              "      <td>0</td>\n",
              "      <td>1</td>\n",
              "    </tr>\n",
              "    <tr>\n",
              "      <th>1794</th>\n",
              "      <td>60</td>\n",
              "      <td>0.514482</td>\n",
              "      <td>1</td>\n",
              "      <td>1</td>\n",
              "    </tr>\n",
              "  </tbody>\n",
              "</table>\n",
              "<p>1795 rows × 4 columns</p>\n",
              "</div>\n",
              "      <button class=\"colab-df-convert\" onclick=\"convertToInteractive('df-79dd1d30-cf25-4c5b-85f0-898d0bae5735')\"\n",
              "              title=\"Convert this dataframe to an interactive table.\"\n",
              "              style=\"display:none;\">\n",
              "        \n",
              "  <svg xmlns=\"http://www.w3.org/2000/svg\" height=\"24px\"viewBox=\"0 0 24 24\"\n",
              "       width=\"24px\">\n",
              "    <path d=\"M0 0h24v24H0V0z\" fill=\"none\"/>\n",
              "    <path d=\"M18.56 5.44l.94 2.06.94-2.06 2.06-.94-2.06-.94-.94-2.06-.94 2.06-2.06.94zm-11 1L8.5 8.5l.94-2.06 2.06-.94-2.06-.94L8.5 2.5l-.94 2.06-2.06.94zm10 10l.94 2.06.94-2.06 2.06-.94-2.06-.94-.94-2.06-.94 2.06-2.06.94z\"/><path d=\"M17.41 7.96l-1.37-1.37c-.4-.4-.92-.59-1.43-.59-.52 0-1.04.2-1.43.59L10.3 9.45l-7.72 7.72c-.78.78-.78 2.05 0 2.83L4 21.41c.39.39.9.59 1.41.59.51 0 1.02-.2 1.41-.59l7.78-7.78 2.81-2.81c.8-.78.8-2.07 0-2.86zM5.41 20L4 18.59l7.72-7.72 1.47 1.35L5.41 20z\"/>\n",
              "  </svg>\n",
              "      </button>\n",
              "      \n",
              "  <style>\n",
              "    .colab-df-container {\n",
              "      display:flex;\n",
              "      flex-wrap:wrap;\n",
              "      gap: 12px;\n",
              "    }\n",
              "\n",
              "    .colab-df-convert {\n",
              "      background-color: #E8F0FE;\n",
              "      border: none;\n",
              "      border-radius: 50%;\n",
              "      cursor: pointer;\n",
              "      display: none;\n",
              "      fill: #1967D2;\n",
              "      height: 32px;\n",
              "      padding: 0 0 0 0;\n",
              "      width: 32px;\n",
              "    }\n",
              "\n",
              "    .colab-df-convert:hover {\n",
              "      background-color: #E2EBFA;\n",
              "      box-shadow: 0px 1px 2px rgba(60, 64, 67, 0.3), 0px 1px 3px 1px rgba(60, 64, 67, 0.15);\n",
              "      fill: #174EA6;\n",
              "    }\n",
              "\n",
              "    [theme=dark] .colab-df-convert {\n",
              "      background-color: #3B4455;\n",
              "      fill: #D2E3FC;\n",
              "    }\n",
              "\n",
              "    [theme=dark] .colab-df-convert:hover {\n",
              "      background-color: #434B5C;\n",
              "      box-shadow: 0px 1px 3px 1px rgba(0, 0, 0, 0.15);\n",
              "      filter: drop-shadow(0px 1px 2px rgba(0, 0, 0, 0.3));\n",
              "      fill: #FFFFFF;\n",
              "    }\n",
              "  </style>\n",
              "\n",
              "      <script>\n",
              "        const buttonEl =\n",
              "          document.querySelector('#df-79dd1d30-cf25-4c5b-85f0-898d0bae5735 button.colab-df-convert');\n",
              "        buttonEl.style.display =\n",
              "          google.colab.kernel.accessAllowed ? 'block' : 'none';\n",
              "\n",
              "        async function convertToInteractive(key) {\n",
              "          const element = document.querySelector('#df-79dd1d30-cf25-4c5b-85f0-898d0bae5735');\n",
              "          const dataTable =\n",
              "            await google.colab.kernel.invokeFunction('convertToInteractive',\n",
              "                                                     [key], {});\n",
              "          if (!dataTable) return;\n",
              "\n",
              "          const docLinkHtml = 'Like what you see? Visit the ' +\n",
              "            '<a target=\"_blank\" href=https://colab.research.google.com/notebooks/data_table.ipynb>data table notebook</a>'\n",
              "            + ' to learn more about interactive tables.';\n",
              "          element.innerHTML = '';\n",
              "          dataTable['output_type'] = 'display_data';\n",
              "          await google.colab.output.renderOutput(dataTable, element);\n",
              "          const docLink = document.createElement('div');\n",
              "          docLink.innerHTML = docLinkHtml;\n",
              "          element.appendChild(docLink);\n",
              "        }\n",
              "      </script>\n",
              "    </div>\n",
              "  </div>\n",
              "  "
            ]
          },
          "metadata": {},
          "execution_count": 87
        }
      ]
    },
    {
      "cell_type": "code",
      "source": [
        "# normalizando \"qtd_delivery_cidade\" \n",
        "df_cidades_destinos['qtd_delivery_norm'] = Scaler.fit_transform(df_cidades_destinos['qtd_delivery_cidade'].values.reshape(-1,1))"
      ],
      "metadata": {
        "id": "TZLBjRQr2XgN"
      },
      "execution_count": null,
      "outputs": []
    },
    {
      "cell_type": "code",
      "source": [
        "df_cidades.columns"
      ],
      "metadata": {
        "colab": {
          "base_uri": "https://localhost:8080/"
        },
        "id": "7uKNhO3yQzw_",
        "outputId": "3886db98-9124-4c64-e2ba-69e742787a35"
      },
      "execution_count": null,
      "outputs": [
        {
          "output_type": "execute_result",
          "data": {
            "text/plain": [
              "Index(['cidade_destino_id', 'delivery_minutes_norm', 'delay'], dtype='object')"
            ]
          },
          "metadata": {},
          "execution_count": 84
        }
      ]
    },
    {
      "cell_type": "code",
      "source": [
        "# Ultima chance de mudar variáveis na clusterização\n",
        "df_cidades2 = df_cidades[['cidade_destino_id', 'delivery_minutes_norm', 'delay']]\n",
        "df_cidades2['qtd_delivery_norm'] = df_cidades_destinos['qtd_delivery_norm']\n",
        "\n",
        "df_cidades2.columns"
      ],
      "metadata": {
        "id": "0GtyP3_KK6-F",
        "colab": {
          "base_uri": "https://localhost:8080/"
        },
        "outputId": "451390e1-7bf7-4a67-8603-740b4922c2d2"
      },
      "execution_count": null,
      "outputs": [
        {
          "output_type": "execute_result",
          "data": {
            "text/plain": [
              "Index(['cidade_destino_id', 'delivery_minutes_norm', 'delay',\n",
              "       'qtd_delivery_norm'],\n",
              "      dtype='object')"
            ]
          },
          "metadata": {},
          "execution_count": 85
        }
      ]
    },
    {
      "cell_type": "markdown",
      "source": [
        "## Clusterização das cidades"
      ],
      "metadata": {
        "id": "DFwqhNL3m0O7"
      }
    },
    {
      "cell_type": "code",
      "source": [
        "# Clusterizando  \n",
        "\n",
        "# Gaussian Mixture \n",
        "model_clustering = GaussianMixture(n_components=5, max_iter=500, random_state=42)\n",
        "ypred_gauss = model_clustering.fit_predict(df_cidades2)\n",
        "\n",
        "# KMeans\n",
        "model_clustering_K = KMeans(n_clusters = 5)\n",
        "ypred_kmeans = model_clustering_K.fit_predict(df_cidades2)\n",
        "\n",
        "#KMeans++ \n",
        "model_plusplus = KMeans(5, random_state = 42, init='k-means++')\n",
        "ypred_kmeansplusplus = model_plusplus.fit_predict(df_cidades2)\n",
        "\n",
        "# Kmethoids \n",
        "model_medoids = KMedoids(n_clusters=5, random_state=42, metric='euclidean',init='k-medoids++') \n",
        "ypred_medoids = model_medoids.fit_predict(df_cidades2)\n",
        "\n",
        "# MeanShift\n",
        "ypred_ms = MeanShift(bandwidth=5).fit_predict(df_cidades2)\n",
        "\n",
        "# Fuzzy K-means\n",
        "fcm = FCM(n_clusters=10,random_state = 42,init='k-means++')\n",
        "fcm.fit(np.array(df_cidades2))\n",
        "ypred_fcm = fcm.predict(np.array(df_cidades2))\n",
        "\n",
        "# DBSCAN\n",
        "db = DBSCAN(eps=0.75)\n",
        "ypred_db = db.fit_predict(df_cidades2)"
      ],
      "metadata": {
        "id": "6q1bxi4dAIl6"
      },
      "execution_count": null,
      "outputs": []
    },
    {
      "cell_type": "markdown",
      "source": [
        "## Escolha do algoritmo de clusterização"
      ],
      "metadata": {
        "id": "Lpojcgha3hFu"
      }
    },
    {
      "cell_type": "markdown",
      "source": [
        "Após vários testes, optou-se pela clusterização das cidades via algoritmo DBSCAN com hiperparâmetro eps de 0.75.  "
      ],
      "metadata": {
        "id": "v2eWiuJ7Ezse"
      }
    },
    {
      "cell_type": "code",
      "source": [
        "# CRIANDO DUMMYS DOS CLUSTERS \n",
        "\n",
        "cluster_escolhido = ypred_db.copy()\n",
        "df_final_clusters = pd.get_dummies(cluster_escolhido, prefix='cluster', drop_first=True)\n",
        "#display(df_final_clusters.head(3))\n",
        "print('Quantidade de clusters:', df_final_clusters.columns.shape[0]+1)"
      ],
      "metadata": {
        "colab": {
          "base_uri": "https://localhost:8080/"
        },
        "id": "KDuUwdsOYF_7",
        "outputId": "9a9a1699-8228-4316-80a2-2b0949334ccf"
      },
      "execution_count": null,
      "outputs": [
        {
          "output_type": "stream",
          "name": "stdout",
          "text": [
            "Quantidade de clusters: 75\n"
          ]
        }
      ]
    },
    {
      "cell_type": "markdown",
      "source": [
        "## Preparando dataframe final"
      ],
      "metadata": {
        "id": "njl_NzJFMk9c"
      }
    },
    {
      "cell_type": "markdown",
      "source": [
        "**Adicionando dummies de clusters no dataframe**"
      ],
      "metadata": {
        "id": "id1atvf8d1Gq"
      }
    },
    {
      "cell_type": "code",
      "source": [
        "df_dados = pd.merge(left=df_final3, right=df_final_clusters, left_index=True, right_index=True)\n",
        "df_dados.head(2)"
      ],
      "metadata": {
        "colab": {
          "base_uri": "https://localhost:8080/",
          "height": 275
        },
        "id": "wE2arm9JbSSH",
        "outputId": "b450817e-be3d-4de2-a6b9-c147d4b659bc"
      },
      "execution_count": null,
      "outputs": [
        {
          "output_type": "execute_result",
          "data": {
            "text/plain": [
              "   id          order_date            due_date            opt_date  \\\n",
              "0   0 2022-02-25 20:46:25 2022-03-02 23:59:59 2022-02-28 20:35:20   \n",
              "1   1 2022-02-23 20:34:59 2022-02-24 23:59:59 2022-02-24 09:56:23   \n",
              "\n",
              "        delivery_date  cidade_origem_id  cidade_destino_id  delay  \\\n",
              "0 2022-03-02 18:03:33                 2                 25      0   \n",
              "1 2022-02-24 15:52:40                 2                 16      0   \n",
              "\n",
              "   final_semana  regiao_destino_2  ...  cluster_64  cluster_65  cluster_66  \\\n",
              "0             0                 0  ...           0           0           0   \n",
              "1             0                 0  ...           0           0           0   \n",
              "\n",
              "   cluster_67  cluster_68  cluster_69  cluster_70  cluster_71  cluster_72  \\\n",
              "0           0           0           0           0           0           0   \n",
              "1           0           0           0           0           0           0   \n",
              "\n",
              "   cluster_73  \n",
              "0           0  \n",
              "1           0  \n",
              "\n",
              "[2 rows x 91 columns]"
            ],
            "text/html": [
              "\n",
              "  <div id=\"df-aafbb600-5478-4b07-ab16-496194d37d0f\">\n",
              "    <div class=\"colab-df-container\">\n",
              "      <div>\n",
              "<style scoped>\n",
              "    .dataframe tbody tr th:only-of-type {\n",
              "        vertical-align: middle;\n",
              "    }\n",
              "\n",
              "    .dataframe tbody tr th {\n",
              "        vertical-align: top;\n",
              "    }\n",
              "\n",
              "    .dataframe thead th {\n",
              "        text-align: right;\n",
              "    }\n",
              "</style>\n",
              "<table border=\"1\" class=\"dataframe\">\n",
              "  <thead>\n",
              "    <tr style=\"text-align: right;\">\n",
              "      <th></th>\n",
              "      <th>id</th>\n",
              "      <th>order_date</th>\n",
              "      <th>due_date</th>\n",
              "      <th>opt_date</th>\n",
              "      <th>delivery_date</th>\n",
              "      <th>cidade_origem_id</th>\n",
              "      <th>cidade_destino_id</th>\n",
              "      <th>delay</th>\n",
              "      <th>final_semana</th>\n",
              "      <th>regiao_destino_2</th>\n",
              "      <th>...</th>\n",
              "      <th>cluster_64</th>\n",
              "      <th>cluster_65</th>\n",
              "      <th>cluster_66</th>\n",
              "      <th>cluster_67</th>\n",
              "      <th>cluster_68</th>\n",
              "      <th>cluster_69</th>\n",
              "      <th>cluster_70</th>\n",
              "      <th>cluster_71</th>\n",
              "      <th>cluster_72</th>\n",
              "      <th>cluster_73</th>\n",
              "    </tr>\n",
              "  </thead>\n",
              "  <tbody>\n",
              "    <tr>\n",
              "      <th>0</th>\n",
              "      <td>0</td>\n",
              "      <td>2022-02-25 20:46:25</td>\n",
              "      <td>2022-03-02 23:59:59</td>\n",
              "      <td>2022-02-28 20:35:20</td>\n",
              "      <td>2022-03-02 18:03:33</td>\n",
              "      <td>2</td>\n",
              "      <td>25</td>\n",
              "      <td>0</td>\n",
              "      <td>0</td>\n",
              "      <td>0</td>\n",
              "      <td>...</td>\n",
              "      <td>0</td>\n",
              "      <td>0</td>\n",
              "      <td>0</td>\n",
              "      <td>0</td>\n",
              "      <td>0</td>\n",
              "      <td>0</td>\n",
              "      <td>0</td>\n",
              "      <td>0</td>\n",
              "      <td>0</td>\n",
              "      <td>0</td>\n",
              "    </tr>\n",
              "    <tr>\n",
              "      <th>1</th>\n",
              "      <td>1</td>\n",
              "      <td>2022-02-23 20:34:59</td>\n",
              "      <td>2022-02-24 23:59:59</td>\n",
              "      <td>2022-02-24 09:56:23</td>\n",
              "      <td>2022-02-24 15:52:40</td>\n",
              "      <td>2</td>\n",
              "      <td>16</td>\n",
              "      <td>0</td>\n",
              "      <td>0</td>\n",
              "      <td>0</td>\n",
              "      <td>...</td>\n",
              "      <td>0</td>\n",
              "      <td>0</td>\n",
              "      <td>0</td>\n",
              "      <td>0</td>\n",
              "      <td>0</td>\n",
              "      <td>0</td>\n",
              "      <td>0</td>\n",
              "      <td>0</td>\n",
              "      <td>0</td>\n",
              "      <td>0</td>\n",
              "    </tr>\n",
              "  </tbody>\n",
              "</table>\n",
              "<p>2 rows × 91 columns</p>\n",
              "</div>\n",
              "      <button class=\"colab-df-convert\" onclick=\"convertToInteractive('df-aafbb600-5478-4b07-ab16-496194d37d0f')\"\n",
              "              title=\"Convert this dataframe to an interactive table.\"\n",
              "              style=\"display:none;\">\n",
              "        \n",
              "  <svg xmlns=\"http://www.w3.org/2000/svg\" height=\"24px\"viewBox=\"0 0 24 24\"\n",
              "       width=\"24px\">\n",
              "    <path d=\"M0 0h24v24H0V0z\" fill=\"none\"/>\n",
              "    <path d=\"M18.56 5.44l.94 2.06.94-2.06 2.06-.94-2.06-.94-.94-2.06-.94 2.06-2.06.94zm-11 1L8.5 8.5l.94-2.06 2.06-.94-2.06-.94L8.5 2.5l-.94 2.06-2.06.94zm10 10l.94 2.06.94-2.06 2.06-.94-2.06-.94-.94-2.06-.94 2.06-2.06.94z\"/><path d=\"M17.41 7.96l-1.37-1.37c-.4-.4-.92-.59-1.43-.59-.52 0-1.04.2-1.43.59L10.3 9.45l-7.72 7.72c-.78.78-.78 2.05 0 2.83L4 21.41c.39.39.9.59 1.41.59.51 0 1.02-.2 1.41-.59l7.78-7.78 2.81-2.81c.8-.78.8-2.07 0-2.86zM5.41 20L4 18.59l7.72-7.72 1.47 1.35L5.41 20z\"/>\n",
              "  </svg>\n",
              "      </button>\n",
              "      \n",
              "  <style>\n",
              "    .colab-df-container {\n",
              "      display:flex;\n",
              "      flex-wrap:wrap;\n",
              "      gap: 12px;\n",
              "    }\n",
              "\n",
              "    .colab-df-convert {\n",
              "      background-color: #E8F0FE;\n",
              "      border: none;\n",
              "      border-radius: 50%;\n",
              "      cursor: pointer;\n",
              "      display: none;\n",
              "      fill: #1967D2;\n",
              "      height: 32px;\n",
              "      padding: 0 0 0 0;\n",
              "      width: 32px;\n",
              "    }\n",
              "\n",
              "    .colab-df-convert:hover {\n",
              "      background-color: #E2EBFA;\n",
              "      box-shadow: 0px 1px 2px rgba(60, 64, 67, 0.3), 0px 1px 3px 1px rgba(60, 64, 67, 0.15);\n",
              "      fill: #174EA6;\n",
              "    }\n",
              "\n",
              "    [theme=dark] .colab-df-convert {\n",
              "      background-color: #3B4455;\n",
              "      fill: #D2E3FC;\n",
              "    }\n",
              "\n",
              "    [theme=dark] .colab-df-convert:hover {\n",
              "      background-color: #434B5C;\n",
              "      box-shadow: 0px 1px 3px 1px rgba(0, 0, 0, 0.15);\n",
              "      filter: drop-shadow(0px 1px 2px rgba(0, 0, 0, 0.3));\n",
              "      fill: #FFFFFF;\n",
              "    }\n",
              "  </style>\n",
              "\n",
              "      <script>\n",
              "        const buttonEl =\n",
              "          document.querySelector('#df-aafbb600-5478-4b07-ab16-496194d37d0f button.colab-df-convert');\n",
              "        buttonEl.style.display =\n",
              "          google.colab.kernel.accessAllowed ? 'block' : 'none';\n",
              "\n",
              "        async function convertToInteractive(key) {\n",
              "          const element = document.querySelector('#df-aafbb600-5478-4b07-ab16-496194d37d0f');\n",
              "          const dataTable =\n",
              "            await google.colab.kernel.invokeFunction('convertToInteractive',\n",
              "                                                     [key], {});\n",
              "          if (!dataTable) return;\n",
              "\n",
              "          const docLinkHtml = 'Like what you see? Visit the ' +\n",
              "            '<a target=\"_blank\" href=https://colab.research.google.com/notebooks/data_table.ipynb>data table notebook</a>'\n",
              "            + ' to learn more about interactive tables.';\n",
              "          element.innerHTML = '';\n",
              "          dataTable['output_type'] = 'display_data';\n",
              "          await google.colab.output.renderOutput(dataTable, element);\n",
              "          const docLink = document.createElement('div');\n",
              "          docLink.innerHTML = docLinkHtml;\n",
              "          element.appendChild(docLink);\n",
              "        }\n",
              "      </script>\n",
              "    </div>\n",
              "  </div>\n",
              "  "
            ]
          },
          "metadata": {},
          "execution_count": 91
        }
      ]
    },
    {
      "cell_type": "code",
      "source": [
        "df_dados.columns"
      ],
      "metadata": {
        "colab": {
          "base_uri": "https://localhost:8080/"
        },
        "id": "ZbRbmVaOcKFI",
        "outputId": "b754153e-0052-42e7-d268-bae2d8575fea"
      },
      "execution_count": null,
      "outputs": [
        {
          "output_type": "execute_result",
          "data": {
            "text/plain": [
              "Index(['id', 'order_date', 'due_date', 'opt_date', 'delivery_date',\n",
              "       'cidade_origem_id', 'cidade_destino_id', 'delay', 'final_semana',\n",
              "       'regiao_destino_2', 'regiao_destino_4', 'regiao_origem_2',\n",
              "       'regiao_origem_3', 'peso_norm', 'price_norm', 'delivery_minutes_norm',\n",
              "       'complexidade_minutes', 'cluster_0', 'cluster_1', 'cluster_2',\n",
              "       'cluster_3', 'cluster_4', 'cluster_5', 'cluster_6', 'cluster_7',\n",
              "       'cluster_8', 'cluster_9', 'cluster_10', 'cluster_11', 'cluster_12',\n",
              "       'cluster_13', 'cluster_14', 'cluster_15', 'cluster_16', 'cluster_17',\n",
              "       'cluster_18', 'cluster_19', 'cluster_20', 'cluster_21', 'cluster_22',\n",
              "       'cluster_23', 'cluster_24', 'cluster_25', 'cluster_26', 'cluster_27',\n",
              "       'cluster_28', 'cluster_29', 'cluster_30', 'cluster_31', 'cluster_32',\n",
              "       'cluster_33', 'cluster_34', 'cluster_35', 'cluster_36', 'cluster_37',\n",
              "       'cluster_38', 'cluster_39', 'cluster_40', 'cluster_41', 'cluster_42',\n",
              "       'cluster_43', 'cluster_44', 'cluster_45', 'cluster_46', 'cluster_47',\n",
              "       'cluster_48', 'cluster_49', 'cluster_50', 'cluster_51', 'cluster_52',\n",
              "       'cluster_53', 'cluster_54', 'cluster_55', 'cluster_56', 'cluster_57',\n",
              "       'cluster_58', 'cluster_59', 'cluster_60', 'cluster_61', 'cluster_62',\n",
              "       'cluster_63', 'cluster_64', 'cluster_65', 'cluster_66', 'cluster_67',\n",
              "       'cluster_68', 'cluster_69', 'cluster_70', 'cluster_71', 'cluster_72',\n",
              "       'cluster_73'],\n",
              "      dtype='object')"
            ]
          },
          "metadata": {},
          "execution_count": 92
        }
      ]
    },
    {
      "cell_type": "code",
      "source": [
        "# Gerando df_final : apagando as colunas que não vão ser usadas no modelo de df_dados \n",
        "\n",
        "df_final = df_dados.drop(columns=['id', 'order_date', 'due_date', 'opt_date', 'delivery_date', 'cidade_origem_id', 'cidade_destino_id'])"
      ],
      "metadata": {
        "id": "6XslSjgLcLxl"
      },
      "execution_count": null,
      "outputs": []
    },
    {
      "cell_type": "markdown",
      "source": [
        "Também tinha sido adicionada a quantidade de entregas normalizada no df_final, mas uma análise posterior revelou que essa feature estava sujeita a multicolinearidade com outras features do modelo. Portanto, foi optado por retirá-la do modelo. "
      ],
      "metadata": {
        "id": "9QUFKV7po_iL"
      }
    },
    {
      "cell_type": "markdown",
      "source": [
        "## Modelagem"
      ],
      "metadata": {
        "id": "TjOYYjmIFFXx"
      }
    },
    {
      "cell_type": "markdown",
      "source": [
        "### Separação dos dados entre treino e teste e execução dos algoritmos de classificação"
      ],
      "metadata": {
        "id": "UnHGTr3DGHfP"
      }
    },
    {
      "cell_type": "markdown",
      "source": [
        "**Criando um modelo pra prever se uma entrega vai atrasar ou não**\n"
      ],
      "metadata": {
        "id": "cY4AeCZKT0GI"
      }
    },
    {
      "cell_type": "code",
      "source": [
        "X = df_final[df_final.columns[~df_final.columns.isin(['delay', 'regiao_destino_4'])]]\n",
        "y = df_final['delay']"
      ],
      "metadata": {
        "id": "pFviy5RxdKcI"
      },
      "execution_count": null,
      "outputs": []
    },
    {
      "cell_type": "markdown",
      "source": [
        "A variável regiao_destino_4 obteve um VIF considerável na análise de multicolinearidade realizada posteriormente. Dessa forma, optou-se por removê-la."
      ],
      "metadata": {
        "id": "FSOpTu9kxTzk"
      }
    },
    {
      "cell_type": "code",
      "source": [
        "Xtrain, Xtest, ytrain, ytest = train_test_split(X, y, test_size=0.2, random_state=42)"
      ],
      "metadata": {
        "id": "qOz_FjkITeHs"
      },
      "execution_count": null,
      "outputs": []
    },
    {
      "cell_type": "code",
      "source": [
        "Xtrain.shape, Xtest.shape, ytrain.shape, ytest.shape"
      ],
      "metadata": {
        "id": "FL_mK_3iTjBk",
        "colab": {
          "base_uri": "https://localhost:8080/"
        },
        "outputId": "18dbe55a-0fe5-454f-a406-ea9f25b0b17f"
      },
      "execution_count": null,
      "outputs": [
        {
          "output_type": "execute_result",
          "data": {
            "text/plain": [
              "((1436, 82), (359, 82), (1436,), (359,))"
            ]
          },
          "metadata": {},
          "execution_count": 96
        }
      ]
    },
    {
      "cell_type": "code",
      "source": [
        "classification_models = {\"LogisticRegression\": LogisticRegression(random_state=42),\n",
        "                         \"DecisionTree\":DecisionTreeClassifier(random_state=42),\n",
        "                         \"RandomForest\": RandomForestClassifier(random_state=42),\n",
        "                         \"XGBoost\": XGBClassifier(random_state=42),\n",
        "}"
      ],
      "metadata": {
        "id": "2Z1o1cE83c_O"
      },
      "execution_count": null,
      "outputs": []
    },
    {
      "cell_type": "code",
      "source": [
        "# Criando um looping para testar todos os modelos \n",
        "\n",
        "df_results = pd.DataFrame(columns=['model', 'run_time', 'recall', 'f1_score','accuracy'])\n",
        "\n",
        "for key in classification_models:\n",
        "\n",
        "    print('*',key)\n",
        "\n",
        "    start_time = time.time()\n",
        "\n",
        "    clas = classification_models[key]\n",
        "    model = clas.fit(Xtrain, ytrain)\n",
        "    y_pred = model.predict(Xtest)\n",
        "\n",
        "    scores = cross_val_score(model,\n",
        "                             Xtrain,\n",
        "                             ytrain,\n",
        "                             scoring='f1',\n",
        "                             cv=5)\n",
        "    \n",
        "    print('scores: ', scores)\n",
        "    print('média scores: ', np.mean(scores))\n",
        "    print()\n",
        "\n",
        "    row = {'model': key,\n",
        "           'run_time': format(round((time.time() - start_time)/60,2)),\n",
        "           'recall': recall_score(ytest, y_pred),\n",
        "           'f1_score': f1_score(ytest, y_pred),\n",
        "           'accuracy': accuracy_score(ytest, y_pred),\n",
        "           'precision': precision_score(ytest, y_pred)\n",
        "    }\n",
        "\n",
        "    df_results = df_results.append(row, ignore_index=True)"
      ],
      "metadata": {
        "id": "RTCwPISFVWuy",
        "colab": {
          "base_uri": "https://localhost:8080/"
        },
        "outputId": "af4e3c13-08dc-4885-e898-80031cb8e612"
      },
      "execution_count": null,
      "outputs": [
        {
          "output_type": "stream",
          "name": "stdout",
          "text": [
            "* LogisticRegression\n",
            "scores:  [0.92307692 0.95       0.95       0.89473684 0.97560976]\n",
            "média scores:  0.9386847042559495\n",
            "\n",
            "* DecisionTree\n",
            "scores:  [0.96551724 0.91764706 0.93975904 0.90909091 0.94252874]\n",
            "média scores:  0.9349085962141022\n",
            "\n",
            "* RandomForest\n",
            "scores:  [0.8974359  0.95121951 0.925      0.9        0.90243902]\n",
            "média scores:  0.9152188868042528\n",
            "\n",
            "* XGBoost\n",
            "scores:  [0.97560976 0.94117647 0.925      0.93670886 0.94117647]\n",
            "média scores:  0.943934311606705\n",
            "\n"
          ]
        }
      ]
    },
    {
      "cell_type": "markdown",
      "source": [
        "### Resultados"
      ],
      "metadata": {
        "id": "OxNV3Fn4pYBS"
      }
    },
    {
      "cell_type": "code",
      "source": [
        "df_results"
      ],
      "metadata": {
        "id": "L54FuUrZYydx",
        "colab": {
          "base_uri": "https://localhost:8080/",
          "height": 175
        },
        "outputId": "914488da-2d5f-4590-c9df-be28b72750f6"
      },
      "execution_count": null,
      "outputs": [
        {
          "output_type": "execute_result",
          "data": {
            "text/plain": [
              "                model run_time    recall  f1_score  accuracy  precision\n",
              "0  LogisticRegression      0.0  0.765957  0.867470  0.969359   1.000000\n",
              "1        DecisionTree      0.0  0.829787  0.857143  0.963788   0.886364\n",
              "2        RandomForest     0.03  0.787234  0.860465  0.966574   0.948718\n",
              "3             XGBoost     0.03  0.872340  0.921348  0.980501   0.976190"
            ],
            "text/html": [
              "\n",
              "  <div id=\"df-357f16ad-61d2-449a-b072-d4beced129fc\">\n",
              "    <div class=\"colab-df-container\">\n",
              "      <div>\n",
              "<style scoped>\n",
              "    .dataframe tbody tr th:only-of-type {\n",
              "        vertical-align: middle;\n",
              "    }\n",
              "\n",
              "    .dataframe tbody tr th {\n",
              "        vertical-align: top;\n",
              "    }\n",
              "\n",
              "    .dataframe thead th {\n",
              "        text-align: right;\n",
              "    }\n",
              "</style>\n",
              "<table border=\"1\" class=\"dataframe\">\n",
              "  <thead>\n",
              "    <tr style=\"text-align: right;\">\n",
              "      <th></th>\n",
              "      <th>model</th>\n",
              "      <th>run_time</th>\n",
              "      <th>recall</th>\n",
              "      <th>f1_score</th>\n",
              "      <th>accuracy</th>\n",
              "      <th>precision</th>\n",
              "    </tr>\n",
              "  </thead>\n",
              "  <tbody>\n",
              "    <tr>\n",
              "      <th>0</th>\n",
              "      <td>LogisticRegression</td>\n",
              "      <td>0.0</td>\n",
              "      <td>0.765957</td>\n",
              "      <td>0.867470</td>\n",
              "      <td>0.969359</td>\n",
              "      <td>1.000000</td>\n",
              "    </tr>\n",
              "    <tr>\n",
              "      <th>1</th>\n",
              "      <td>DecisionTree</td>\n",
              "      <td>0.0</td>\n",
              "      <td>0.829787</td>\n",
              "      <td>0.857143</td>\n",
              "      <td>0.963788</td>\n",
              "      <td>0.886364</td>\n",
              "    </tr>\n",
              "    <tr>\n",
              "      <th>2</th>\n",
              "      <td>RandomForest</td>\n",
              "      <td>0.03</td>\n",
              "      <td>0.787234</td>\n",
              "      <td>0.860465</td>\n",
              "      <td>0.966574</td>\n",
              "      <td>0.948718</td>\n",
              "    </tr>\n",
              "    <tr>\n",
              "      <th>3</th>\n",
              "      <td>XGBoost</td>\n",
              "      <td>0.03</td>\n",
              "      <td>0.872340</td>\n",
              "      <td>0.921348</td>\n",
              "      <td>0.980501</td>\n",
              "      <td>0.976190</td>\n",
              "    </tr>\n",
              "  </tbody>\n",
              "</table>\n",
              "</div>\n",
              "      <button class=\"colab-df-convert\" onclick=\"convertToInteractive('df-357f16ad-61d2-449a-b072-d4beced129fc')\"\n",
              "              title=\"Convert this dataframe to an interactive table.\"\n",
              "              style=\"display:none;\">\n",
              "        \n",
              "  <svg xmlns=\"http://www.w3.org/2000/svg\" height=\"24px\"viewBox=\"0 0 24 24\"\n",
              "       width=\"24px\">\n",
              "    <path d=\"M0 0h24v24H0V0z\" fill=\"none\"/>\n",
              "    <path d=\"M18.56 5.44l.94 2.06.94-2.06 2.06-.94-2.06-.94-.94-2.06-.94 2.06-2.06.94zm-11 1L8.5 8.5l.94-2.06 2.06-.94-2.06-.94L8.5 2.5l-.94 2.06-2.06.94zm10 10l.94 2.06.94-2.06 2.06-.94-2.06-.94-.94-2.06-.94 2.06-2.06.94z\"/><path d=\"M17.41 7.96l-1.37-1.37c-.4-.4-.92-.59-1.43-.59-.52 0-1.04.2-1.43.59L10.3 9.45l-7.72 7.72c-.78.78-.78 2.05 0 2.83L4 21.41c.39.39.9.59 1.41.59.51 0 1.02-.2 1.41-.59l7.78-7.78 2.81-2.81c.8-.78.8-2.07 0-2.86zM5.41 20L4 18.59l7.72-7.72 1.47 1.35L5.41 20z\"/>\n",
              "  </svg>\n",
              "      </button>\n",
              "      \n",
              "  <style>\n",
              "    .colab-df-container {\n",
              "      display:flex;\n",
              "      flex-wrap:wrap;\n",
              "      gap: 12px;\n",
              "    }\n",
              "\n",
              "    .colab-df-convert {\n",
              "      background-color: #E8F0FE;\n",
              "      border: none;\n",
              "      border-radius: 50%;\n",
              "      cursor: pointer;\n",
              "      display: none;\n",
              "      fill: #1967D2;\n",
              "      height: 32px;\n",
              "      padding: 0 0 0 0;\n",
              "      width: 32px;\n",
              "    }\n",
              "\n",
              "    .colab-df-convert:hover {\n",
              "      background-color: #E2EBFA;\n",
              "      box-shadow: 0px 1px 2px rgba(60, 64, 67, 0.3), 0px 1px 3px 1px rgba(60, 64, 67, 0.15);\n",
              "      fill: #174EA6;\n",
              "    }\n",
              "\n",
              "    [theme=dark] .colab-df-convert {\n",
              "      background-color: #3B4455;\n",
              "      fill: #D2E3FC;\n",
              "    }\n",
              "\n",
              "    [theme=dark] .colab-df-convert:hover {\n",
              "      background-color: #434B5C;\n",
              "      box-shadow: 0px 1px 3px 1px rgba(0, 0, 0, 0.15);\n",
              "      filter: drop-shadow(0px 1px 2px rgba(0, 0, 0, 0.3));\n",
              "      fill: #FFFFFF;\n",
              "    }\n",
              "  </style>\n",
              "\n",
              "      <script>\n",
              "        const buttonEl =\n",
              "          document.querySelector('#df-357f16ad-61d2-449a-b072-d4beced129fc button.colab-df-convert');\n",
              "        buttonEl.style.display =\n",
              "          google.colab.kernel.accessAllowed ? 'block' : 'none';\n",
              "\n",
              "        async function convertToInteractive(key) {\n",
              "          const element = document.querySelector('#df-357f16ad-61d2-449a-b072-d4beced129fc');\n",
              "          const dataTable =\n",
              "            await google.colab.kernel.invokeFunction('convertToInteractive',\n",
              "                                                     [key], {});\n",
              "          if (!dataTable) return;\n",
              "\n",
              "          const docLinkHtml = 'Like what you see? Visit the ' +\n",
              "            '<a target=\"_blank\" href=https://colab.research.google.com/notebooks/data_table.ipynb>data table notebook</a>'\n",
              "            + ' to learn more about interactive tables.';\n",
              "          element.innerHTML = '';\n",
              "          dataTable['output_type'] = 'display_data';\n",
              "          await google.colab.output.renderOutput(dataTable, element);\n",
              "          const docLink = document.createElement('div');\n",
              "          docLink.innerHTML = docLinkHtml;\n",
              "          element.appendChild(docLink);\n",
              "        }\n",
              "      </script>\n",
              "    </div>\n",
              "  </div>\n",
              "  "
            ]
          },
          "metadata": {},
          "execution_count": 99
        }
      ]
    },
    {
      "cell_type": "markdown",
      "source": [
        "Foram testadas várias combinações de modelos, tanto para clusterização das cidades quanto de classificação, com diversos hiperparâmetros. O modelo que apresentou o melhor resultado nas métricas (em especial, f1_score) na grande maioria das vezes foi o Random Forest. Dessa forma, optou-se pela escolha do mesmo para a otimização de hiperparâmetros. "
      ],
      "metadata": {
        "id": "NlNxY9noxN1D"
      }
    },
    {
      "cell_type": "markdown",
      "source": [
        "### Análise de multicolinearidade com VIF - Variance Inflation Factor"
      ],
      "metadata": {
        "id": "EJRQogyQfry5"
      }
    },
    {
      "cell_type": "code",
      "source": [
        "# criando dataframe com os dados utilizados na modelagem de X e y \n",
        "df_x = df_final[df_final.columns[~df_final.columns.isin(['delay', 'regiao_destino_4'])]]\n",
        "df_y = df_final['delay']"
      ],
      "metadata": {
        "id": "2y7NZWTAMmU4"
      },
      "execution_count": null,
      "outputs": []
    },
    {
      "cell_type": "code",
      "source": [
        "# VIF dataframe\n",
        "vif_data = pd.DataFrame()\n",
        "vif_data[\"feature\"] = df_x.columns\n",
        "  \n",
        "# Calculando o VIF para cada feature\n",
        "vif_data[\"VIF\"] = [variance_inflation_factor(df_x.values, i)\n",
        "                          for i in range(len(df_x.columns))]\n",
        "  \n",
        "print(vif_data.sort_values(by='VIF',ascending=False))"
      ],
      "metadata": {
        "colab": {
          "base_uri": "https://localhost:8080/"
        },
        "id": "5xgmo97INxBI",
        "outputId": "794d2973-d23e-49a9-9e84-414df5089cdf"
      },
      "execution_count": null,
      "outputs": [
        {
          "output_type": "stream",
          "name": "stdout",
          "text": [
            "                  feature       VIF\n",
            "2         regiao_origem_2  2.853014\n",
            "7    complexidade_minutes  2.540595\n",
            "6   delivery_minutes_norm  2.251924\n",
            "3         regiao_origem_3  2.211853\n",
            "1        regiao_destino_2  1.934438\n",
            "..                    ...       ...\n",
            "52             cluster_44  1.004868\n",
            "34             cluster_26  1.004309\n",
            "26             cluster_18  1.003866\n",
            "38             cluster_30  1.002111\n",
            "47             cluster_39  1.001188\n",
            "\n",
            "[82 rows x 2 columns]\n"
          ]
        }
      ]
    },
    {
      "cell_type": "markdown",
      "source": [
        "O modelo obteve valores aceitáveis de VIF. Portanto, aparentemente não apresenta alta multicolinearidade entre as variáveis. "
      ],
      "metadata": {
        "id": "87vOHebhEMLA"
      }
    },
    {
      "cell_type": "markdown",
      "source": [
        "### Otimização de hiperparâmetros via GridSearchCV"
      ],
      "metadata": {
        "id": "CVLJx7rp3PXq"
      }
    },
    {
      "cell_type": "code",
      "source": [
        "# Obtendo os melhores valores de max_depth para o GridSearchCV do Random Forest. \n",
        "\n",
        "train_scores, test_scores = list(), list()\n",
        "values = [i for i in range(1, 30)]\n",
        "for i in values:\n",
        "\tmodel_depth = RandomForestClassifier(max_depth=i)\n",
        "\tmodel_depth.fit(Xtrain, ytrain)\n",
        "\ttrain_yhat = model_depth.predict(Xtrain)\n",
        "\ttrain_f1 = f1_score(ytrain, train_yhat)\n",
        "\ttrain_scores.append(train_f1)\n",
        "\ttest_yhat = model_depth.predict(Xtest)\n",
        "\ttest_f1 = accuracy_score(ytest, test_yhat)\n",
        "\ttest_scores.append(test_f1)\n",
        "\tprint('>%d, train: %.3f, test: %.3f' % (i, train_f1, test_f1))\n",
        "plt.plot(values, train_scores, '-o', label='Train')\n",
        "plt.plot(values, test_scores, '-o', label='Test')\n",
        "plt.legend()\n",
        "plt.show()"
      ],
      "metadata": {
        "id": "f4-nRAm-Ct-T",
        "colab": {
          "base_uri": "https://localhost:8080/",
          "height": 774
        },
        "outputId": "bf0df36a-6920-4fae-b8b0-8add04faf94f"
      },
      "execution_count": null,
      "outputs": [
        {
          "output_type": "stream",
          "name": "stdout",
          "text": [
            ">1, train: 0.000, test: 0.869\n",
            ">2, train: 0.000, test: 0.869\n",
            ">3, train: 0.150, test: 0.872\n",
            ">4, train: 0.264, test: 0.872\n",
            ">5, train: 0.385, test: 0.894\n",
            ">6, train: 0.614, test: 0.905\n",
            ">7, train: 0.645, test: 0.911\n",
            ">8, train: 0.754, test: 0.928\n",
            ">9, train: 0.824, test: 0.939\n",
            ">10, train: 0.833, test: 0.939\n",
            ">11, train: 0.886, test: 0.939\n",
            ">12, train: 0.918, test: 0.947\n",
            ">13, train: 0.915, test: 0.942\n",
            ">14, train: 0.915, test: 0.950\n",
            ">15, train: 0.923, test: 0.944\n",
            ">16, train: 0.929, test: 0.953\n",
            ">17, train: 0.945, test: 0.953\n",
            ">18, train: 0.939, test: 0.961\n",
            ">19, train: 0.953, test: 0.961\n",
            ">20, train: 0.958, test: 0.967\n",
            ">21, train: 0.971, test: 0.967\n",
            ">22, train: 0.990, test: 0.967\n",
            ">23, train: 0.993, test: 0.961\n",
            ">24, train: 0.993, test: 0.967\n",
            ">25, train: 0.998, test: 0.964\n",
            ">26, train: 0.998, test: 0.964\n",
            ">27, train: 1.000, test: 0.967\n",
            ">28, train: 1.000, test: 0.972\n",
            ">29, train: 1.000, test: 0.964\n"
          ]
        },
        {
          "output_type": "display_data",
          "data": {
            "text/plain": [
              "<Figure size 432x288 with 1 Axes>"
            ],
            "image/png": "[encoded data removed]"
          },
          "metadata": {
            "needs_background": "light"
          }
        }
      ]
    },
    {
      "cell_type": "markdown",
      "source": [
        "Percebe-se que o dataset de treino começa a performar melhor que o de teste a partir do max depth 21. Dessa forma, optou-se por usar esse hiperparâmetro entre 17-20 no GridSearchCV. "
      ],
      "metadata": {
        "id": "WM7XZbBmEREQ"
      }
    },
    {
      "cell_type": "code",
      "source": [
        "# GridSearchCV\n",
        "\n",
        "model = RandomForestClassifier()\n",
        "\n",
        "parameters = {\"n_estimators\" : [100, 200, 500, 1000, 2000],\n",
        "\"criterion\" : [\"gini\", \"entropy\", \"log_loss\"],\n",
        "\"max_depth\" : [17, 18, 19, 20],\n",
        "\"max_features\" : [\"sqrt\", \"log2\", \"None\"],\n",
        "}\n",
        "\n",
        "grid_search = GridSearchCV(estimator=model, param_grid=parameters, n_jobs=-1, cv=5, scoring='f1')\n",
        "grid_result = grid_search.fit(Xtrain, ytrain)"
      ],
      "metadata": {
        "id": "DiqoTurrA1BU"
      },
      "execution_count": null,
      "outputs": []
    },
    {
      "cell_type": "code",
      "source": [
        "print('Best Score: %s' % grid_result.best_score_)\n",
        "print('Best Hyperparameters: %s' % grid_result.best_params_)"
      ],
      "metadata": {
        "id": "Ulrk803EgnbZ",
        "colab": {
          "base_uri": "https://localhost:8080/"
        },
        "outputId": "7712d163-df76-4db0-d2eb-b77f4c28c5d1"
      },
      "execution_count": null,
      "outputs": [
        {
          "output_type": "stream",
          "name": "stdout",
          "text": [
            "Best Score: 0.9094686552513043\n",
            "Best Hyperparameters: {'criterion': 'entropy', 'max_depth': 20, 'max_features': 'sqrt', 'n_estimators': 2000}\n"
          ]
        }
      ]
    },
    {
      "cell_type": "code",
      "source": [
        "# Rodando o Random Forest Otimizado\n",
        "\n",
        "model_grid = RandomForestClassifier(criterion = 'entropy', max_depth = 20, max_features = 'sqrt', n_estimators = 2000, n_jobs = -1).fit(Xtrain, ytrain)\n",
        "ypred_grid = model_grid.predict(Xtest) "
      ],
      "metadata": {
        "id": "l0etX70okKgz"
      },
      "execution_count": null,
      "outputs": []
    },
    {
      "cell_type": "code",
      "source": [
        "print('Quantidade de previsões: ', ypred_grid.shape[0])\n",
        "print('Quantidade de entregas previstas como atraso: ', len(ypred_grid[ypred_grid==1]))\n",
        "print('Porcentagem de entregas previstas como atraso pelo modelo: {:.2f}%'.format(((len(ypred_grid[ypred_grid==1]))/ypred_grid.shape[0])*100))\n",
        "print('Porcentagem de entregas atrasadas do dataset total: {:.2f}%'.format((df_final[df_final['delay']==1].shape[0]/df_final.shape[0])*100))"
      ],
      "metadata": {
        "colab": {
          "base_uri": "https://localhost:8080/"
        },
        "id": "Sz0bGgAYVr8P",
        "outputId": "7ca8e50b-eff2-46b4-8a6b-cf522f849084"
      },
      "execution_count": null,
      "outputs": [
        {
          "output_type": "stream",
          "name": "stdout",
          "text": [
            "Quantidade de previsões:  359\n",
            "Quantidade de entregas previstas como atraso:  35\n",
            "Porcentagem de entregas previstas como atraso pelo modelo: 9.75%\n",
            "Porcentagem de entregas atrasadas do dataset total: 14.32%\n"
          ]
        }
      ]
    },
    {
      "cell_type": "code",
      "source": [
        "acc_grid = accuracy_score(ytest, ypred_grid)\n",
        "f1_grid = f1_score(ytest, ypred_grid)\n",
        "recall_grid = recall_score(ytest, ypred_grid)\n",
        "precision_grid = precision_score(ytest, ypred_grid)"
      ],
      "metadata": {
        "id": "dGh9BOTDkuHY"
      },
      "execution_count": null,
      "outputs": []
    },
    {
      "cell_type": "code",
      "source": [
        "print('Accuracy - Random Forest otimizado via GridSearchCV: {:.2f}%'.format(acc_grid*100))\n",
        "print('F1 Score - Random Forest otimizado via GridSearchCV: {:.2f}%'.format(f1_grid*100))\n",
        "print('Recall - Random Forest otimizado via com GridSearchCV: {:.2f}%'.format(recall_grid*100))\n",
        "print('Precision - Random Forest otimizado via com GridSearchCV: {:.2f}%'.format(precision_grid*100))"
      ],
      "metadata": {
        "id": "FoHuzMcyl0So",
        "colab": {
          "base_uri": "https://localhost:8080/"
        },
        "outputId": "f8629639-a090-4cf2-8f13-bd675ceeb5be"
      },
      "execution_count": null,
      "outputs": [
        {
          "output_type": "stream",
          "name": "stdout",
          "text": [
            "Accuracy - Random Forest otimizado via GridSearchCV: 96.10%\n",
            "F1 Score - Random Forest otimizado via GridSearchCV: 82.93%\n",
            "Recall - Random Forest otimizado via com GridSearchCV: 72.34%\n",
            "Precision - Random Forest otimizado via com GridSearchCV: 97.14%\n"
          ]
        }
      ]
    },
    {
      "cell_type": "markdown",
      "source": [
        "**Comentário sobre as métricas:** \n",
        "\n",
        "* A accuracy simplesmente calcula a quantidade de previsões certas divido pela quantidade de previsões feitas; como temos um dataset desbalanceado, essa métrica não é a mais indicada para avaliar a performance do modelo.  \n",
        "\n",
        "* A precision indica que, entre todas as previsões de entregas atrasadas que o modelo fez, 97,14% dessas previsões foram corretas.\n",
        "\n",
        "* O recall indica que, entre todas as entregas que atrasaram no dataset de teste, o modelo conseguiu prever corretamente 72,34% delas.\n",
        "\n",
        "* Existe um trade-off entre precision e recall. Dessa forma, uma métrica interessante para se observar é o f1-score, que é uma média harmônica entre as duas. No caso, o f1-score foi a escolhida como métrica para ser otimizada no GridSearchCV."
      ],
      "metadata": {
        "id": "7WOqEoNfYCTB"
      }
    },
    {
      "cell_type": "markdown",
      "source": [
        "## Conclusão"
      ],
      "metadata": {
        "id": "vwl22WyGGynn"
      }
    },
    {
      "cell_type": "markdown",
      "source": [
        "**O modelo de previsão de atraso de entregas escolhido foi um Random Forest com hiperparâmetros otimizados via GridSearchCV. Esse modelo obteve um f1_score de 82,93% nos dados de teste.**    "
      ],
      "metadata": {
        "id": "lWywROssGbXZ"
      }
    }
  ]
}